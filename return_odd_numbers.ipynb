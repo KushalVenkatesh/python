{
 "cells": [
  {
   "cell_type": "code",
   "execution_count": 1,
   "metadata": {},
   "outputs": [
    {
     "name": "stdout",
     "output_type": "stream",
     "text": [
      "5 7 9 11 13 15 17 19 "
     ]
    }
   ],
   "source": [
    "# Python program to print odd Numbers in given range \n",
    "  \n",
    "start, end = 4, 19\n",
    "  \n",
    "# iterating each number in list \n",
    "for num in range(start, end + 1): \n",
    "      \n",
    "    # checking condition \n",
    "    if num % 2 != 0: \n",
    "        print(num, end = \" \") "
   ]
  },
  {
   "cell_type": "code",
   "execution_count": 50,
   "metadata": {},
   "outputs": [
    {
     "name": "stdout",
     "output_type": "stream",
     "text": [
      "5 7 9 11 13 15 17 19 "
     ]
    }
   ],
   "source": [
    "# Python program to print odd Numbers in given range \n",
    "  \n",
    "start, end = 4, 19\n",
    "  \n",
    "# iterating each number in list \n",
    "for num in range(start, end + 1): \n",
    "      \n",
    "    # checking condition \n",
    "    if num % 2 != 0: \n",
    "        print(num, end = \" \") "
   ]
  },
  {
   "cell_type": "code",
   "execution_count": null,
   "metadata": {},
   "outputs": [],
   "source": [
    "# Python program to print odd Numbers in given range \n",
    "  \n",
    "start, end = 4, 19\n",
    "  \n",
    "# iterating each number in list \n",
    "for num in range(start, end + 1): \n",
    "      \n",
    "    # checking condition \n",
    "    if num % 2 != 0: \n",
    "        print(num) \n",
    "        print('\\n')"
   ]
  },
  {
   "cell_type": "code",
   "execution_count": 2,
   "metadata": {},
   "outputs": [
    {
     "name": "stdout",
     "output_type": "stream",
     "text": [
      "5 7 9 11 13 15 17 19 "
     ]
    }
   ],
   "source": [
    "# Python program to print odd Numbers in given range \n",
    "  \n",
    "l, r = 4, 19\n",
    "  \n",
    "# iterating each number in list \n",
    "for num in range(l, r + 1): \n",
    "      \n",
    "    # checking condition \n",
    "    if num % 2 != 0: \n",
    "        print(num, end = \" \") "
   ]
  },
  {
   "cell_type": "code",
   "execution_count": 3,
   "metadata": {},
   "outputs": [
    {
     "name": "stdout",
     "output_type": "stream",
     "text": [
      "4\n",
      "5\n",
      "6\n",
      "7\n",
      "8\n",
      "9\n",
      "10\n",
      "11\n",
      "12\n",
      "13\n",
      "14\n",
      "15\n",
      "16\n",
      "17\n",
      "18\n",
      "19\n"
     ]
    }
   ],
   "source": [
    "# Python program to print odd Numbers in given range \n",
    "  \n",
    "l, r = 4, 19\n",
    "  \n",
    "# iterating each number in list \n",
    "for num in range(l, r + 1): \n",
    "    print(num)\n",
    "      \n",
    "#     # checking condition \n",
    "#     if num % 2 != 0: \n",
    "#         print(num, end = \" \") "
   ]
  },
  {
   "cell_type": "code",
   "execution_count": 19,
   "metadata": {},
   "outputs": [
    {
     "name": "stdout",
     "output_type": "stream",
     "text": [
      "[5, 7, 9, 11, 13, 15, 17, 19]\n"
     ]
    }
   ],
   "source": [
    "# Python program to print odd Numbers in given range \n",
    "  \n",
    "l, r = 4, 19\n",
    "list1=[]  \n",
    "# iterating each number in list \n",
    "for num in range(l, r + 1): \n",
    "    \n",
    "\n",
    "      \n",
    "    # checking condition \n",
    "    if num % 2 != 0: \n",
    "        list1.append(num) \n",
    "print(list1)"
   ]
  },
  {
   "cell_type": "code",
   "execution_count": 25,
   "metadata": {},
   "outputs": [
    {
     "data": {
      "text/plain": [
       "[5, 7, 9, 11, 13, 15, 17, 19]"
      ]
     },
     "execution_count": 25,
     "metadata": {},
     "output_type": "execute_result"
    }
   ],
   "source": [
    "# Python program to print odd Numbers in given range \n",
    "  \n",
    "l, r = 4, 19\n",
    "list1=[]  \n",
    "# iterating each number in list \n",
    "for num in range(l, r + 1): \n",
    "    \n",
    "\n",
    "      \n",
    "    # checking condition \n",
    "    if num % 2 != 0: \n",
    "        list1.append(num)\n",
    "list1\n",
    "# return(list1[num])"
   ]
  },
  {
   "cell_type": "code",
   "execution_count": 26,
   "metadata": {},
   "outputs": [],
   "source": [
    "def odd(l,r):\n",
    "#     l, r = 4, 19\n",
    "# iterating each number in list \n",
    "    for num in range(l, r + 1): \n",
    "        \n",
    "      \n",
    "    # checking condition \n",
    "        if num % 2 != 0: \n",
    "            print(num, end = \" \") \n",
    "    "
   ]
  },
  {
   "cell_type": "code",
   "execution_count": 27,
   "metadata": {},
   "outputs": [
    {
     "name": "stdout",
     "output_type": "stream",
     "text": [
      "5 7 9 11 13 15 17 19 "
     ]
    }
   ],
   "source": [
    "odd(4,19)"
   ]
  },
  {
   "cell_type": "code",
   "execution_count": 41,
   "metadata": {},
   "outputs": [],
   "source": [
    "list_odd = []\n",
    "def odd(l,r):\n",
    "    \n",
    "#     l, r = 4, 19\n",
    "# iterating each number in list \n",
    "    for num in range(l, r + 1): \n",
    "        \n",
    "      \n",
    "    # checking condition \n",
    "        if num % 2 != 0:\n",
    "            list_odd.append(num)\n",
    "    return(list_odd)\n",
    "            "
   ]
  },
  {
   "cell_type": "code",
   "execution_count": 42,
   "metadata": {},
   "outputs": [
    {
     "data": {
      "text/plain": [
       "[5, 7, 9, 11, 13, 15, 17, 19]"
      ]
     },
     "execution_count": 42,
     "metadata": {},
     "output_type": "execute_result"
    }
   ],
   "source": [
    "odd(4,19)"
   ]
  }
 ],
 "metadata": {
  "kernelspec": {
   "display_name": "Python 3",
   "language": "python",
   "name": "python3"
  },
  "language_info": {
   "codemirror_mode": {
    "name": "ipython",
    "version": 3
   },
   "file_extension": ".py",
   "mimetype": "text/x-python",
   "name": "python",
   "nbconvert_exporter": "python",
   "pygments_lexer": "ipython3",
   "version": "3.7.0"
  }
 },
 "nbformat": 4,
 "nbformat_minor": 2
}
