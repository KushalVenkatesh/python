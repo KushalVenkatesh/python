{
 "cells": [
  {
   "cell_type": "code",
   "execution_count": 1,
   "metadata": {},
   "outputs": [
    {
     "name": "stdout",
     "output_type": "stream",
     "text": [
      "12\n"
     ]
    }
   ],
   "source": [
    "names1 = ['Amir', 'Bear', 'Charlton', 'Daman']\n",
    "names2 = names1\n",
    "names3 = names1[:]\n",
    " \n",
    "names2[0] = 'Alice'\n",
    "names3[1] = 'Bob'\n",
    " \n",
    "sum = 0\n",
    "for ls in (names1, names2, names3):\n",
    "    if ls[0] == 'Alice':\n",
    "        sum += 1\n",
    "    if ls[1] == 'Bob':\n",
    "        sum += 10\n",
    "print(sum)"
   ]
  },
  {
   "cell_type": "code",
   "execution_count": 2,
   "metadata": {},
   "outputs": [
    {
     "data": {
      "text/plain": [
       "['Alice', 'Bear', 'Charlton', 'Daman']"
      ]
     },
     "execution_count": 2,
     "metadata": {},
     "output_type": "execute_result"
    }
   ],
   "source": [
    "names1"
   ]
  },
  {
   "cell_type": "code",
   "execution_count": 3,
   "metadata": {},
   "outputs": [
    {
     "data": {
      "text/plain": [
       "['Alice', 'Bear', 'Charlton', 'Daman']"
      ]
     },
     "execution_count": 3,
     "metadata": {},
     "output_type": "execute_result"
    }
   ],
   "source": [
    "names2"
   ]
  },
  {
   "cell_type": "code",
   "execution_count": 4,
   "metadata": {},
   "outputs": [
    {
     "data": {
      "text/plain": [
       "['Amir', 'Bob', 'Charlton', 'Daman']"
      ]
     },
     "execution_count": 4,
     "metadata": {},
     "output_type": "execute_result"
    }
   ],
   "source": [
    "names3"
   ]
  },
  {
   "cell_type": "code",
   "execution_count": 5,
   "metadata": {},
   "outputs": [],
   "source": [
    "names1 = ['Amir', 'Bear', 'Charlton', 'Daman']\n",
    "names2 = names1\n",
    "names3 = names1[:]"
   ]
  },
  {
   "cell_type": "code",
   "execution_count": 6,
   "metadata": {},
   "outputs": [
    {
     "data": {
      "text/plain": [
       "(['Amir', 'Bear', 'Charlton', 'Daman'],\n",
       " ['Amir', 'Bear', 'Charlton', 'Daman'],\n",
       " ['Amir', 'Bear', 'Charlton', 'Daman'])"
      ]
     },
     "execution_count": 6,
     "metadata": {},
     "output_type": "execute_result"
    }
   ],
   "source": [
    "names1, names2, names3"
   ]
  },
  {
   "cell_type": "code",
   "execution_count": 7,
   "metadata": {},
   "outputs": [
    {
     "name": "stdout",
     "output_type": "stream",
     "text": [
      "['Amir', 'Bear', 'Charlton', 'Daman']\n",
      "['Amir', 'Bear', 'Charlton', 'Daman']\n",
      "['Amir', 'Bear', 'Charlton', 'Daman']\n"
     ]
    }
   ],
   "source": [
    "sum = 0\n",
    "for ls in (names1, names2, names3):\n",
    "    print(ls)"
   ]
  },
  {
   "cell_type": "code",
   "execution_count": 8,
   "metadata": {},
   "outputs": [],
   "source": [
    "names2[0] = 'Alice'\n",
    "names3[1] = 'Bob'"
   ]
  },
  {
   "cell_type": "code",
   "execution_count": 9,
   "metadata": {},
   "outputs": [
    {
     "data": {
      "text/plain": [
       "(['Alice', 'Bear', 'Charlton', 'Daman'],\n",
       " ['Alice', 'Bear', 'Charlton', 'Daman'],\n",
       " ['Amir', 'Bob', 'Charlton', 'Daman'])"
      ]
     },
     "execution_count": 9,
     "metadata": {},
     "output_type": "execute_result"
    }
   ],
   "source": [
    "names1, names2, names3"
   ]
  },
  {
   "cell_type": "code",
   "execution_count": 10,
   "metadata": {},
   "outputs": [
    {
     "name": "stdout",
     "output_type": "stream",
     "text": [
      "['Alice', 'Bear', 'Charlton', 'Daman']\n",
      "['Alice', 'Bear', 'Charlton', 'Daman']\n",
      "['Amir', 'Bob', 'Charlton', 'Daman']\n"
     ]
    }
   ],
   "source": [
    "for ls in (names1, names2, names3):\n",
    "    print(ls)\n",
    "    \n",
    "#     if ls[0] == 'Alice':\n",
    "#         sum += 1\n",
    "#     if ls[1] == 'Bob':\n",
    "#         sum += 10\n",
    "# print(sum)"
   ]
  },
  {
   "cell_type": "code",
   "execution_count": 14,
   "metadata": {},
   "outputs": [
    {
     "data": {
      "text/plain": [
       "['Amir', 'Bob', 'Charlton', 'Daman']"
      ]
     },
     "execution_count": 14,
     "metadata": {},
     "output_type": "execute_result"
    }
   ],
   "source": [
    "ls"
   ]
  },
  {
   "cell_type": "code",
   "execution_count": 11,
   "metadata": {},
   "outputs": [
    {
     "data": {
      "text/plain": [
       "'Amir'"
      ]
     },
     "execution_count": 11,
     "metadata": {},
     "output_type": "execute_result"
    }
   ],
   "source": [
    "ls[0]"
   ]
  },
  {
   "cell_type": "code",
   "execution_count": 12,
   "metadata": {},
   "outputs": [
    {
     "data": {
      "text/plain": [
       "'Bob'"
      ]
     },
     "execution_count": 12,
     "metadata": {},
     "output_type": "execute_result"
    }
   ],
   "source": [
    "ls[1]"
   ]
  },
  {
   "cell_type": "code",
   "execution_count": 13,
   "metadata": {},
   "outputs": [
    {
     "data": {
      "text/plain": [
       "4"
      ]
     },
     "execution_count": 13,
     "metadata": {},
     "output_type": "execute_result"
    }
   ],
   "source": [
    "len(ls)"
   ]
  },
  {
   "cell_type": "code",
   "execution_count": 15,
   "metadata": {},
   "outputs": [
    {
     "name": "stdout",
     "output_type": "stream",
     "text": [
      "['Alice', 'Bear', 'Charlton', 'Daman']\n",
      "['Alice', 'Bear', 'Charlton', 'Daman']\n",
      "['Amir', 'Bob', 'Charlton', 'Daman']\n",
      "12\n"
     ]
    }
   ],
   "source": [
    "for ls in (names1, names2, names3):\n",
    "    print(ls)\n",
    "    \n",
    "    if ls[0] == 'Alice':\n",
    "        sum += 1\n",
    "    if ls[1] == 'Bob':\n",
    "        sum += 10\n",
    "print(sum)"
   ]
  },
  {
   "cell_type": "code",
   "execution_count": 18,
   "metadata": {},
   "outputs": [
    {
     "name": "stdout",
     "output_type": "stream",
     "text": [
      "['Alice', 'Bear', 'Charlton', 'Daman']\n",
      "Alice\n",
      "['Alice', 'Bear', 'Charlton', 'Daman']\n",
      "Alice\n",
      "['Amir', 'Bob', 'Charlton', 'Daman']\n",
      "Amir\n",
      "2\n"
     ]
    }
   ],
   "source": [
    "sum = 0\n",
    "for ls in (names1, names2, names3):\n",
    "    print(ls)\n",
    "    \n",
    "    print(ls[0])\n",
    "    \n",
    "    if ls[0] == 'Alice':\n",
    "        sum += 1\n",
    "print(sum)"
   ]
  },
  {
   "cell_type": "code",
   "execution_count": 21,
   "metadata": {},
   "outputs": [
    {
     "name": "stdout",
     "output_type": "stream",
     "text": [
      "Bear\n",
      "Bear\n",
      "Bob\n",
      "10\n"
     ]
    }
   ],
   "source": [
    "sum = 0\n",
    "for ls in (names1, names2, names3):\n",
    "    print(ls[1])\n",
    "    if ls[1] == 'Bob':\n",
    "        sum += 10\n",
    "print(sum)"
   ]
  }
 ],
 "metadata": {
  "kernelspec": {
   "display_name": "Python 3",
   "language": "python",
   "name": "python3"
  },
  "language_info": {
   "codemirror_mode": {
    "name": "ipython",
    "version": 3
   },
   "file_extension": ".py",
   "mimetype": "text/x-python",
   "name": "python",
   "nbconvert_exporter": "python",
   "pygments_lexer": "ipython3",
   "version": "3.7.0"
  }
 },
 "nbformat": 4,
 "nbformat_minor": 2
}
