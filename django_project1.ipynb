{
 "cells": [
  {
   "cell_type": "code",
   "execution_count": 2,
   "metadata": {},
   "outputs": [
    {
     "name": "stdout",
     "output_type": "stream",
     "text": [
      "Collecting django\n",
      "  Downloading https://files.pythonhosted.org/packages/36/50/078a42b4e9bedb94efd3e0278c0eb71650ed9672cdc91bd5542953bec17f/Django-2.1.5-py3-none-any.whl (7.3MB)\n",
      "Requirement already satisfied: pytz in d:\\python3\\lib\\site-packages (from django) (2018.5)\n",
      "Installing collected packages: django\n",
      "Successfully installed django-2.1.5\n"
     ]
    }
   ],
   "source": [
    "!pip install django"
   ]
  },
  {
   "cell_type": "code",
   "execution_count": 3,
   "metadata": {},
   "outputs": [
    {
     "name": "stdout",
     "output_type": "stream",
     "text": [
      "Collecting django-imagekit\n",
      "  Downloading https://files.pythonhosted.org/packages/e5/2a/a5c62376e897c23d1ce21be86c18e68096cb8c83df7d010d24ca81139e9e/django_imagekit-4.0.2-py2.py3-none-any.whl (47kB)\n",
      "Collecting django-appconf>=0.5 (from django-imagekit)\n",
      "  Downloading https://files.pythonhosted.org/packages/5b/78/726cdf3e04660560cf25f9def95b8f2736310c581dabed9adfe60154a9f8/django_appconf-1.0.2-py2.py3-none-any.whl\n",
      "Collecting pilkit>=0.2.0 (from django-imagekit)\n",
      "  Downloading https://files.pythonhosted.org/packages/c4/5c/318d9c20f309e6a79ea4d4605f86597d05f3e007d3d1925ff02474808659/pilkit-2.0.tar.gz (161kB)\n",
      "Requirement already satisfied: six in d:\\python3\\lib\\site-packages (from django-imagekit) (1.11.0)\n",
      "Building wheels for collected packages: pilkit\n",
      "  Running setup.py bdist_wheel for pilkit: started\n",
      "  Running setup.py bdist_wheel for pilkit: finished with status 'done'\n",
      "  Stored in directory: C:\\Users\\kusha\\AppData\\Local\\pip\\Cache\\wheels\\83\\87\\b9\\db03ec06109a48529da8ba6315550ec177c6d749f50bd85932\n",
      "Successfully built pilkit\n",
      "Installing collected packages: django-appconf, pilkit, django-imagekit\n",
      "Successfully installed django-appconf-1.0.2 django-imagekit-4.0.2 pilkit-2.0\n"
     ]
    }
   ],
   "source": [
    "! pip install django-imagekit"
   ]
  },
  {
   "cell_type": "code",
   "execution_count": 3,
   "metadata": {},
   "outputs": [
    {
     "name": "stdout",
     "output_type": "stream",
     "text": [
      "2.1.5\n"
     ]
    }
   ],
   "source": [
    "!python -m django --version"
   ]
  },
  {
   "cell_type": "code",
   "execution_count": 5,
   "metadata": {},
   "outputs": [],
   "source": [
    "!django-admin startproject first_project"
   ]
  },
  {
   "cell_type": "code",
   "execution_count": 6,
   "metadata": {},
   "outputs": [
    {
     "name": "stdout",
     "output_type": "stream",
     "text": [
      "D:\\python3\\first_project\n"
     ]
    }
   ],
   "source": [
    "cd first_project/"
   ]
  },
  {
   "cell_type": "code",
   "execution_count": 7,
   "metadata": {},
   "outputs": [
    {
     "name": "stdout",
     "output_type": "stream",
     "text": [
      " Volume in drive D is RECOVERY\n",
      " Volume Serial Number is B8C5-8737\n",
      "\n",
      " Directory of D:\\python3\\first_project\n",
      "\n",
      "07-Jan-19  07:59 PM    <DIR>          .\n",
      "07-Jan-19  07:59 PM    <DIR>          ..\n",
      "07-Jan-19  07:59 PM    <DIR>          first_project\n",
      "07-Jan-19  07:59 PM               560 manage.py\n",
      "               1 File(s)            560 bytes\n",
      "               3 Dir(s)     675,069,952 bytes free\n"
     ]
    }
   ],
   "source": [
    "ls"
   ]
  },
  {
   "cell_type": "code",
   "execution_count": 9,
   "metadata": {},
   "outputs": [],
   "source": [
    "!python manage.py startapp hello"
   ]
  },
  {
   "cell_type": "code",
   "execution_count": 10,
   "metadata": {},
   "outputs": [
    {
     "name": "stdout",
     "output_type": "stream",
     "text": [
      " Volume in drive D is RECOVERY\n",
      " Volume Serial Number is B8C5-8737\n",
      "\n",
      " Directory of D:\\python3\\first_project\n",
      "\n",
      "07-Jan-19  08:26 PM    <DIR>          .\n",
      "07-Jan-19  08:26 PM    <DIR>          ..\n",
      "07-Jan-19  08:26 PM    <DIR>          first_project\n",
      "07-Jan-19  08:26 PM    <DIR>          hello\n",
      "07-Jan-19  07:59 PM               560 manage.py\n",
      "               1 File(s)            560 bytes\n",
      "               4 Dir(s)     675,061,760 bytes free\n"
     ]
    }
   ],
   "source": [
    "ls"
   ]
  },
  {
   "cell_type": "code",
   "execution_count": null,
   "metadata": {},
   "outputs": [],
   "source": [
    "!python manage.py runserver"
   ]
  },
  {
   "cell_type": "code",
   "execution_count": 2,
   "metadata": {},
   "outputs": [
    {
     "name": "stderr",
     "output_type": "stream",
     "text": [
      "CommandError: 'first_project' conflicts with the name of an existing Python module and cannot be used as a project name. Please try another name.\n"
     ]
    }
   ],
   "source": [
    "!django-admin startproject first_project"
   ]
  },
  {
   "cell_type": "code",
   "execution_count": 3,
   "metadata": {},
   "outputs": [
    {
     "data": {
      "text/plain": [
       "'D:\\\\python3'"
      ]
     },
     "execution_count": 3,
     "metadata": {},
     "output_type": "execute_result"
    }
   ],
   "source": [
    "pwd\n"
   ]
  },
  {
   "cell_type": "code",
   "execution_count": 4,
   "metadata": {},
   "outputs": [
    {
     "name": "stdout",
     "output_type": "stream",
     "text": [
      " Volume in drive D is RECOVERY\n",
      " Volume Serial Number is B8C5-8737\n",
      "\n",
      " Directory of D:\\python3\n",
      "\n",
      "07-Jan-19  08:38 PM    <DIR>          .\n",
      "07-Jan-19  08:38 PM    <DIR>          ..\n",
      "07-Jan-19  07:54 PM    <DIR>          .ipynb_checkpoints\n",
      "29-Nov-18  09:29 PM    <DIR>          __pycache__\n",
      "21-Dec-18  03:55 PM            13,302 1T_14122018D224E36A0DCB49F98D7DD0672025E8D9.XLSX\n",
      "21-Dec-18  06:18 PM            11,895 6T_1412201814A120B6C7D6480C9043C96D01B16754.XLSX\n",
      "20-Apr-18  06:58 PM            19,208 api-ms-win-core-console-l1-1-0.dll\n",
      "20-Apr-18  06:58 PM            18,696 api-ms-win-core-datetime-l1-1-0.dll\n",
      "20-Apr-18  06:58 PM            18,696 api-ms-win-core-debug-l1-1-0.dll\n",
      "20-Apr-18  06:58 PM            18,696 api-ms-win-core-errorhandling-l1-1-0.dll\n",
      "20-Apr-18  06:59 PM            22,280 api-ms-win-core-file-l1-1-0.dll\n",
      "20-Apr-18  07:07 PM            18,696 api-ms-win-core-file-l1-2-0.dll\n",
      "20-Apr-18  07:07 PM            18,696 api-ms-win-core-file-l2-1-0.dll\n",
      "20-Apr-18  07:07 PM            18,696 api-ms-win-core-handle-l1-1-0.dll\n",
      "20-Apr-18  07:07 PM            19,208 api-ms-win-core-heap-l1-1-0.dll\n",
      "20-Apr-18  07:07 PM            18,696 api-ms-win-core-interlocked-l1-1-0.dll\n",
      "20-Apr-18  07:07 PM            19,720 api-ms-win-core-libraryloader-l1-1-0.dll\n",
      "20-Apr-18  07:07 PM            21,256 api-ms-win-core-localization-l1-2-0.dll\n",
      "20-Apr-18  07:07 PM            19,208 api-ms-win-core-memory-l1-1-0.dll\n",
      "20-Apr-18  07:07 PM            18,696 api-ms-win-core-namedpipe-l1-1-0.dll\n",
      "20-Apr-18  07:07 PM            19,720 api-ms-win-core-processenvironment-l1-1-0.dll\n",
      "20-Apr-18  07:07 PM            20,744 api-ms-win-core-processthreads-l1-1-0.dll\n",
      "20-Apr-18  07:07 PM            19,208 api-ms-win-core-processthreads-l1-1-1.dll\n",
      "20-Apr-18  07:07 PM            18,184 api-ms-win-core-profile-l1-1-0.dll\n",
      "20-Apr-18  07:07 PM            19,208 api-ms-win-core-rtlsupport-l1-1-0.dll\n",
      "20-Apr-18  07:07 PM            18,696 api-ms-win-core-string-l1-1-0.dll\n",
      "20-Apr-18  07:07 PM            20,744 api-ms-win-core-synch-l1-1-0.dll\n",
      "20-Apr-18  07:07 PM            19,208 api-ms-win-core-synch-l1-2-0.dll\n",
      "20-Apr-18  07:07 PM            19,720 api-ms-win-core-sysinfo-l1-1-0.dll\n",
      "20-Apr-18  07:07 PM            19,208 api-ms-win-core-timezone-l1-1-0.dll\n",
      "20-Apr-18  07:07 PM            18,696 api-ms-win-core-util-l1-1-0.dll\n",
      "20-Apr-18  07:07 PM            19,720 api-ms-win-crt-conio-l1-1-0.dll\n",
      "20-Apr-18  07:07 PM            22,792 api-ms-win-crt-convert-l1-1-0.dll\n",
      "20-Apr-18  07:07 PM            19,208 api-ms-win-crt-environment-l1-1-0.dll\n",
      "20-Apr-18  07:07 PM            20,744 api-ms-win-crt-filesystem-l1-1-0.dll\n",
      "20-Apr-18  07:07 PM            19,720 api-ms-win-crt-heap-l1-1-0.dll\n",
      "20-Apr-18  07:07 PM            19,208 api-ms-win-crt-locale-l1-1-0.dll\n",
      "20-Apr-18  07:07 PM            27,912 api-ms-win-crt-math-l1-1-0.dll\n",
      "20-Apr-18  07:07 PM            26,888 api-ms-win-crt-multibyte-l1-1-0.dll\n",
      "20-Apr-18  07:07 PM            71,432 api-ms-win-crt-private-l1-1-0.dll\n",
      "20-Apr-18  07:07 PM            19,720 api-ms-win-crt-process-l1-1-0.dll\n",
      "20-Apr-18  07:07 PM            23,304 api-ms-win-crt-runtime-l1-1-0.dll\n",
      "20-Apr-18  07:07 PM            24,840 api-ms-win-crt-stdio-l1-1-0.dll\n",
      "20-Apr-18  07:07 PM            24,840 api-ms-win-crt-string-l1-1-0.dll\n",
      "20-Apr-18  07:07 PM            21,256 api-ms-win-crt-time-l1-1-0.dll\n",
      "20-Apr-18  07:07 PM            19,208 api-ms-win-crt-utility-l1-1-0.dll\n",
      "26-Nov-18  09:37 PM               598 app.py\n",
      "26-Nov-18  09:38 PM               149 appli123.py\n",
      "25-Nov-18  05:40 PM           245,948 applied ML.ipynb\n",
      "30-Nov-18  10:11 PM    <DIR>          bucket_api_heroku\n",
      "18-Dec-18  07:10 PM    <DIR>          building_NN\n",
      "27-Nov-18  08:09 PM             1,478 chatbot.txt\n",
      "06-Dec-18  04:05 PM            42,442 chatbot_from_scratch_11_27_2018.ipynb\n",
      "26-Nov-18  09:25 PM            45,884 chatbot2018.ipynb\n",
      "03-Dec-18  08:19 PM             4,163 chatbot2018.txt\n",
      "03-Dec-18  08:12 PM             4,163 chatbottext.txt\n",
      "29-Nov-18  10:09 PM             5,009 coding_questions_answers_11_29_2018.ipynb\n",
      "21-Sep-18  01:53 AM           329,368 concrt140.dll\n",
      "18-Dec-18  08:36 PM    <DIR>          conda-meta\n",
      "25-Nov-18  12:16 PM            94,746 credit_risk_analysis_AVDay2session1.ipynb\n",
      "25-Nov-18  11:08 AM               334 creditRisk.csv\n",
      "29-Aug-18  12:31 AM             1,093 cwp.py\n",
      "28-Nov-18  05:42 PM    <DIR>          Data\n",
      "26-Nov-18  09:39 PM           286,720 db.sqlite3\n",
      "07-Jan-19  08:38 PM             5,153 django_project1.ipynb\n",
      "25-Nov-18  10:43 AM    <DIR>          DLLs\n",
      "18-Dec-18  09:35 PM    <DIR>          envs\n",
      "25-Nov-18  10:44 AM    <DIR>          etc\n",
      "19-Dec-18  10:40 AM    <DIR>          FaceRec\n",
      "07-Jan-19  08:26 PM    <DIR>          first_project\n",
      "26-Nov-18  07:50 PM    <DIR>          flask-chatterbot-master (1)\n",
      "28-Nov-18  07:51 PM    <DIR>          heroku\n",
      "28-Nov-18  06:54 PM    <DIR>          heroku-buildpack-python-master\n",
      "25-Nov-18  12:58 PM           210,352 historical_loan.csv\n",
      "25-Nov-18  10:43 AM    <DIR>          include\n",
      "25-Nov-18  10:43 AM    <DIR>          Lib\n",
      "18-Dec-18  08:36 PM    <DIR>          Library\n",
      "25-Nov-18  10:43 AM    <DIR>          libs\n",
      "27-Jun-18  09:37 AM            12,763 LICENSE_PYTHON.txt\n",
      "25-Nov-18  10:43 AM    <DIR>          man\n",
      "18-Dec-18  08:26 PM    <DIR>          Menu\n",
      "21-Sep-18  01:53 AM           625,808 msvcp140.dll\n",
      "21-Sep-18  01:53 AM            31,896 msvcp140_1.dll\n",
      "21-Sep-18  01:53 AM           195,248 msvcp140_2.dll\n",
      "07-Jan-19  07:05 PM    <DIR>          myenv\n",
      "07-Jan-19  07:36 PM    <DIR>          mynewenv2019\n",
      "14-Aug-18  08:12 PM           506,880 openssl.exe\n",
      "18-Dec-18  09:14 PM    <DIR>          pkgs\n",
      "21-Dec-18  12:15 PM            89,829 practice21dec2018.ipynb\n",
      "28-Jun-18  07:36 PM            93,696 python.exe\n",
      "28-Jun-18  07:36 PM           430,080 python.pdb\n",
      "13-Dec-18  06:56 PM             1,080 Python__init__method_and_self.ipynb\n",
      "26-Nov-18  09:20 PM             9,727 python2vspython3.ipynb\n",
      "28-Jun-18  07:36 PM            51,712 python3.dll\n",
      "28-Jun-18  07:35 PM         3,843,072 python37.dll\n",
      "28-Jun-18  07:35 PM         9,916,416 python37.pdb\n",
      "28-Jun-18  07:36 PM            92,160 pythonw.exe\n",
      "28-Jun-18  07:36 PM           430,080 pythonw.pdb\n",
      "25-Nov-18  10:43 AM               199 qt.conf\n",
      "03-Dec-18  09:31 AM             2,243 qualcom questionaire.txt\n",
      "06-Jan-19  12:58 PM             6,771 range.ipynb\n",
      "21-Dec-18  06:14 PM            23,341 RBI_bulletin_analysis.ipynb\n",
      "21-Dec-18  06:05 PM           322,320 rbi_data_analysis.ipynb\n",
      "13-Dec-18  08:17 PM               906 regular_expression.ipynb\n",
      "26-Nov-18  09:38 PM               140 requirements.txt\n",
      "04-Jan-19  09:34 PM             6,092 return_odd_numbers.ipynb\n",
      "05-Jan-19  11:05 AM    <DIR>          Scripts\n",
      "04-Jan-19  09:10 PM             3,379 searching_an_element_in_a_array.ipynb\n",
      "25-Nov-18  10:43 AM    <DIR>          share\n",
      "25-Nov-18  10:43 AM    <DIR>          sip\n",
      "21-Dec-18  06:41 PM            48,406 stock_prices.ipynb\n",
      "25-Nov-18  10:43 AM    <DIR>          tcl\n",
      "25-Nov-18  10:43 AM    <DIR>          Tools\n",
      "20-Apr-18  07:07 PM         1,016,584 ucrtbase.dll\n",
      "25-Nov-18  10:44 AM           302,868 Uninstall-Anaconda3.exe\n",
      "25-Nov-18  11:09 AM               555 Untitled.ipynb\n",
      "26-Nov-18  09:35 PM               733 Untitled1.ipynb\n",
      "29-Dec-18  12:44 PM            44,846 Untitled10.ipynb\n",
      "07-Jan-19  07:54 PM                72 Untitled11.ipynb\n",
      "26-Nov-18  09:38 PM               555 Untitled2.ipynb\n",
      "28-Nov-18  06:25 PM               555 Untitled3.ipynb\n",
      "28-Nov-18  06:57 PM               606 Untitled4.ipynb\n",
      "17-Dec-18  07:14 PM             1,564 Untitled5.ipynb\n",
      "17-Dec-18  08:01 PM             1,329 Untitled6.ipynb\n",
      "19-Dec-18  08:33 PM             8,626 Untitled7.ipynb\n",
      "20-Dec-18  08:25 PM             2,351 Untitled8.ipynb\n",
      "29-Dec-18  11:35 AM             4,858 Untitled9.ipynb\n",
      "21-Sep-18  01:53 AM           386,720 vccorlib140.dll\n",
      "21-Sep-18  01:53 AM           155,280 vcomp140.dll\n",
      "21-Sep-18  01:53 AM            87,200 vcruntime140.dll\n",
      "07-Jan-19  07:54 PM           115,077 virtual_environment.ipynb\n",
      "08-Nov-18  05:52 PM             8,248 vscode_eula.txt\n",
      "29-Nov-18  09:29 PM                72 welcome.py\n",
      "14-May-18  03:53 AM           293,888 xlwings32-0.11.8.dll\n",
      "14-May-18  03:53 AM           367,104 xlwings64-0.11.8.dll\n",
      "             105 File(s)     21,711,308 bytes\n",
      "              30 Dir(s)     675,053,568 bytes free\n"
     ]
    }
   ],
   "source": [
    "ls\n"
   ]
  },
  {
   "cell_type": "code",
   "execution_count": 5,
   "metadata": {},
   "outputs": [
    {
     "name": "stdout",
     "output_type": "stream",
     "text": [
      "D:\\python3\\first_project\n"
     ]
    }
   ],
   "source": [
    "cd first_project/"
   ]
  },
  {
   "cell_type": "code",
   "execution_count": 8,
   "metadata": {},
   "outputs": [
    {
     "name": "stderr",
     "output_type": "stream",
     "text": [
      "CommandError: 'hello' conflicts with the name of an existing Python module and cannot be used as an app name. Please try another name.\n"
     ]
    }
   ],
   "source": [
    "!python manage.py startapp hello"
   ]
  },
  {
   "cell_type": "code",
   "execution_count": null,
   "metadata": {},
   "outputs": [],
   "source": [
    "!python manage.py runserver"
   ]
  }
 ],
 "metadata": {
  "kernelspec": {
   "display_name": "Python 3",
   "language": "python",
   "name": "python3"
  },
  "language_info": {
   "codemirror_mode": {
    "name": "ipython",
    "version": 3
   },
   "file_extension": ".py",
   "mimetype": "text/x-python",
   "name": "python",
   "nbconvert_exporter": "python",
   "pygments_lexer": "ipython3",
   "version": "3.7.0"
  }
 },
 "nbformat": 4,
 "nbformat_minor": 2
}
