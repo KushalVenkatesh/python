{
 "cells": [
  {
   "cell_type": "code",
   "execution_count": 1,
   "metadata": {},
   "outputs": [
    {
     "name": "stdout",
     "output_type": "stream",
     "text": [
      "Requirement already satisfied: nltk in d:\\python3\\lib\\site-packages (3.3)\n",
      "Requirement already satisfied: six in d:\\python3\\lib\\site-packages (from nltk) (1.11.0)\n"
     ]
    }
   ],
   "source": [
    "!pip install nltk"
   ]
  },
  {
   "cell_type": "code",
   "execution_count": 2,
   "metadata": {},
   "outputs": [],
   "source": [
    "import nltk"
   ]
  },
  {
   "cell_type": "code",
   "execution_count": 3,
   "metadata": {},
   "outputs": [],
   "source": [
    "# nltk.download()"
   ]
  },
  {
   "cell_type": "code",
   "execution_count": 4,
   "metadata": {},
   "outputs": [],
   "source": [
    "import nltk\n",
    "import numpy as np\n",
    "import random\n",
    "import string # to process standard python strings"
   ]
  },
  {
   "cell_type": "code",
   "execution_count": 5,
   "metadata": {},
   "outputs": [
    {
     "data": {
      "text/plain": [
       "'D:\\\\python3'"
      ]
     },
     "execution_count": 5,
     "metadata": {},
     "output_type": "execute_result"
    }
   ],
   "source": [
    "pwd"
   ]
  },
  {
   "cell_type": "code",
   "execution_count": 6,
   "metadata": {},
   "outputs": [
    {
     "name": "stdout",
     "output_type": "stream",
     "text": [
      " Volume in drive D is RECOVERY\n",
      " Volume Serial Number is B8C5-8737\n",
      "\n",
      " Directory of D:\\python3\n",
      "\n",
      "12/03/2018  09:20 PM    <DIR>          .\n",
      "12/03/2018  09:20 PM    <DIR>          ..\n",
      "11/29/2018  09:56 PM    <DIR>          .ipynb_checkpoints\n",
      "11/29/2018  09:29 PM    <DIR>          __pycache__\n",
      "04/20/2018  06:58 PM            19,208 api-ms-win-core-console-l1-1-0.dll\n",
      "04/20/2018  06:58 PM            18,696 api-ms-win-core-datetime-l1-1-0.dll\n",
      "04/20/2018  06:58 PM            18,696 api-ms-win-core-debug-l1-1-0.dll\n",
      "04/20/2018  06:58 PM            18,696 api-ms-win-core-errorhandling-l1-1-0.dll\n",
      "04/20/2018  06:59 PM            22,280 api-ms-win-core-file-l1-1-0.dll\n",
      "04/20/2018  07:07 PM            18,696 api-ms-win-core-file-l1-2-0.dll\n",
      "04/20/2018  07:07 PM            18,696 api-ms-win-core-file-l2-1-0.dll\n",
      "04/20/2018  07:07 PM            18,696 api-ms-win-core-handle-l1-1-0.dll\n",
      "04/20/2018  07:07 PM            19,208 api-ms-win-core-heap-l1-1-0.dll\n",
      "04/20/2018  07:07 PM            18,696 api-ms-win-core-interlocked-l1-1-0.dll\n",
      "04/20/2018  07:07 PM            19,720 api-ms-win-core-libraryloader-l1-1-0.dll\n",
      "04/20/2018  07:07 PM            21,256 api-ms-win-core-localization-l1-2-0.dll\n",
      "04/20/2018  07:07 PM            19,208 api-ms-win-core-memory-l1-1-0.dll\n",
      "04/20/2018  07:07 PM            18,696 api-ms-win-core-namedpipe-l1-1-0.dll\n",
      "04/20/2018  07:07 PM            19,720 api-ms-win-core-processenvironment-l1-1-0.dll\n",
      "04/20/2018  07:07 PM            20,744 api-ms-win-core-processthreads-l1-1-0.dll\n",
      "04/20/2018  07:07 PM            19,208 api-ms-win-core-processthreads-l1-1-1.dll\n",
      "04/20/2018  07:07 PM            18,184 api-ms-win-core-profile-l1-1-0.dll\n",
      "04/20/2018  07:07 PM            19,208 api-ms-win-core-rtlsupport-l1-1-0.dll\n",
      "04/20/2018  07:07 PM            18,696 api-ms-win-core-string-l1-1-0.dll\n",
      "04/20/2018  07:07 PM            20,744 api-ms-win-core-synch-l1-1-0.dll\n",
      "04/20/2018  07:07 PM            19,208 api-ms-win-core-synch-l1-2-0.dll\n",
      "04/20/2018  07:07 PM            19,720 api-ms-win-core-sysinfo-l1-1-0.dll\n",
      "04/20/2018  07:07 PM            19,208 api-ms-win-core-timezone-l1-1-0.dll\n",
      "04/20/2018  07:07 PM            18,696 api-ms-win-core-util-l1-1-0.dll\n",
      "04/20/2018  07:07 PM            19,720 api-ms-win-crt-conio-l1-1-0.dll\n",
      "04/20/2018  07:07 PM            22,792 api-ms-win-crt-convert-l1-1-0.dll\n",
      "04/20/2018  07:07 PM            19,208 api-ms-win-crt-environment-l1-1-0.dll\n",
      "04/20/2018  07:07 PM            20,744 api-ms-win-crt-filesystem-l1-1-0.dll\n",
      "04/20/2018  07:07 PM            19,720 api-ms-win-crt-heap-l1-1-0.dll\n",
      "04/20/2018  07:07 PM            19,208 api-ms-win-crt-locale-l1-1-0.dll\n",
      "04/20/2018  07:07 PM            27,912 api-ms-win-crt-math-l1-1-0.dll\n",
      "04/20/2018  07:07 PM            26,888 api-ms-win-crt-multibyte-l1-1-0.dll\n",
      "04/20/2018  07:07 PM            71,432 api-ms-win-crt-private-l1-1-0.dll\n",
      "04/20/2018  07:07 PM            19,720 api-ms-win-crt-process-l1-1-0.dll\n",
      "04/20/2018  07:07 PM            23,304 api-ms-win-crt-runtime-l1-1-0.dll\n",
      "04/20/2018  07:07 PM            24,840 api-ms-win-crt-stdio-l1-1-0.dll\n",
      "04/20/2018  07:07 PM            24,840 api-ms-win-crt-string-l1-1-0.dll\n",
      "04/20/2018  07:07 PM            21,256 api-ms-win-crt-time-l1-1-0.dll\n",
      "04/20/2018  07:07 PM            19,208 api-ms-win-crt-utility-l1-1-0.dll\n",
      "11/26/2018  09:37 PM               598 app.py\n",
      "11/26/2018  09:38 PM               149 appli123.py\n",
      "11/25/2018  05:40 PM           245,948 applied ML.ipynb\n",
      "11/30/2018  10:11 PM    <DIR>          bucket_api_heroku\n",
      "11/27/2018  08:09 PM             1,478 chatbot.txt\n",
      "12/03/2018  09:20 PM            51,683 chatbot_from_scratch_11_27_2018.ipynb\n",
      "11/26/2018  09:25 PM            45,884 chatbot2018.ipynb\n",
      "12/03/2018  08:19 PM             4,163 chatbot2018.txt\n",
      "12/03/2018  08:12 PM             4,163 chatbottext.txt\n",
      "11/29/2018  10:09 PM             5,009 coding_questions_answers_11_29_2018.ipynb\n",
      "09/21/2018  01:53 AM           329,368 concrt140.dll\n",
      "11/25/2018  10:44 AM    <DIR>          conda-meta\n",
      "11/25/2018  12:16 PM            94,746 credit_risk_analysis_AVDay2session1.ipynb\n",
      "11/25/2018  11:08 AM               334 creditRisk.csv\n",
      "08/29/2018  12:31 AM             1,093 cwp.py\n",
      "11/28/2018  05:42 PM    <DIR>          Data\n",
      "11/26/2018  09:39 PM           286,720 db.sqlite3\n",
      "11/25/2018  10:43 AM    <DIR>          DLLs\n",
      "11/25/2018  10:44 AM    <DIR>          envs\n",
      "11/25/2018  10:44 AM    <DIR>          etc\n",
      "11/26/2018  07:50 PM    <DIR>          flask-chatterbot-master (1)\n",
      "11/28/2018  07:51 PM    <DIR>          heroku\n",
      "11/28/2018  06:54 PM    <DIR>          heroku-buildpack-python-master\n",
      "11/25/2018  12:58 PM           210,352 historical_loan.csv\n",
      "11/25/2018  10:43 AM    <DIR>          include\n",
      "11/25/2018  10:43 AM    <DIR>          Lib\n",
      "11/25/2018  10:43 AM    <DIR>          Library\n",
      "11/25/2018  10:43 AM    <DIR>          libs\n",
      "06/27/2018  09:37 AM            12,763 LICENSE_PYTHON.txt\n",
      "11/25/2018  10:43 AM    <DIR>          man\n",
      "11/25/2018  10:44 AM    <DIR>          Menu\n",
      "09/21/2018  01:53 AM           625,808 msvcp140.dll\n",
      "09/21/2018  01:53 AM            31,896 msvcp140_1.dll\n",
      "09/21/2018  01:53 AM           195,248 msvcp140_2.dll\n",
      "08/14/2018  08:12 PM           506,880 openssl.exe\n",
      "11/25/2018  10:43 AM    <DIR>          pkgs\n",
      "06/28/2018  07:36 PM            93,696 python.exe\n",
      "06/28/2018  07:36 PM           430,080 python.pdb\n",
      "11/26/2018  09:20 PM             9,727 python2vspython3.ipynb\n",
      "06/28/2018  07:36 PM            51,712 python3.dll\n",
      "06/28/2018  07:35 PM         3,843,072 python37.dll\n",
      "06/28/2018  07:35 PM         9,916,416 python37.pdb\n",
      "06/28/2018  07:36 PM            92,160 pythonw.exe\n",
      "06/28/2018  07:36 PM           430,080 pythonw.pdb\n",
      "11/25/2018  10:43 AM               199 qt.conf\n",
      "12/03/2018  09:31 AM             2,243 qualcom questionaire.txt\n",
      "11/26/2018  09:38 PM               140 requirements.txt\n",
      "11/30/2018  09:49 PM    <DIR>          Scripts\n",
      "11/25/2018  10:43 AM    <DIR>          share\n",
      "11/25/2018  10:43 AM    <DIR>          sip\n",
      "11/25/2018  10:43 AM    <DIR>          tcl\n",
      "11/25/2018  10:43 AM    <DIR>          Tools\n",
      "04/20/2018  07:07 PM         1,016,584 ucrtbase.dll\n",
      "11/25/2018  10:44 AM           302,868 Uninstall-Anaconda3.exe\n",
      "11/25/2018  11:09 AM               555 Untitled.ipynb\n",
      "11/26/2018  09:35 PM               733 Untitled1.ipynb\n",
      "11/26/2018  09:38 PM               555 Untitled2.ipynb\n",
      "11/28/2018  06:25 PM               555 Untitled3.ipynb\n",
      "11/28/2018  06:57 PM               606 Untitled4.ipynb\n",
      "09/21/2018  01:53 AM           386,720 vccorlib140.dll\n",
      "09/21/2018  01:53 AM           155,280 vcomp140.dll\n",
      "09/21/2018  01:53 AM            87,200 vcruntime140.dll\n",
      "11/08/2018  05:52 PM             8,248 vscode_eula.txt\n",
      "11/29/2018  09:29 PM                72 welcome.py\n",
      "05/14/2018  03:53 AM           293,888 xlwings32-0.11.8.dll\n",
      "05/14/2018  03:53 AM           367,104 xlwings64-0.11.8.dll\n",
      "              85 File(s)     21,009,352 bytes\n",
      "              25 Dir(s)   3,739,295,744 bytes free\n"
     ]
    }
   ],
   "source": [
    "ls"
   ]
  },
  {
   "cell_type": "code",
   "execution_count": 7,
   "metadata": {},
   "outputs": [],
   "source": [
    "import pandas as pd\n"
   ]
  },
  {
   "cell_type": "code",
   "execution_count": 8,
   "metadata": {},
   "outputs": [],
   "source": [
    "df = pd.read_csv('chatbot2018.txt')"
   ]
  },
  {
   "cell_type": "code",
   "execution_count": 9,
   "metadata": {},
   "outputs": [
    {
     "data": {
      "text/html": [
       "<div>\n",
       "<style scoped>\n",
       "    .dataframe tbody tr th:only-of-type {\n",
       "        vertical-align: middle;\n",
       "    }\n",
       "\n",
       "    .dataframe tbody tr th {\n",
       "        vertical-align: top;\n",
       "    }\n",
       "\n",
       "    .dataframe thead th {\n",
       "        text-align: right;\n",
       "    }\n",
       "</style>\n",
       "<table border=\"1\" class=\"dataframe\">\n",
       "  <thead>\n",
       "    <tr style=\"text-align: right;\">\n",
       "      <th></th>\n",
       "      <th>The power of chatbots is not lost on the business world. As brands focus on promoting personalized experiences</th>\n",
       "      <th>more and more intelligent chatbots are being built to engage users and improve brand image. That said it is a rarity to find a live intelligent chatbot</th>\n",
       "      <th>also called as AI chatbot. As the thought of a chatbot springs up</th>\n",
       "      <th>we know it is not a real person for sure. What we know is that chatbot brings a human touch. For that to become a reality</th>\n",
       "      <th>chatbots need to be really intelligent. The crux is not the chatbot rather it is the intelligence quotient of the chatbot that can bring the human touch.</th>\n",
       "    </tr>\n",
       "  </thead>\n",
       "  <tbody>\n",
       "    <tr>\n",
       "      <th>0</th>\n",
       "      <td>It is the intelligence that gives power to the...</td>\n",
       "      <td>raising the intelligence quotient becomes inc...</td>\n",
       "      <td>NaN</td>\n",
       "      <td>NaN</td>\n",
       "      <td>NaN</td>\n",
       "    </tr>\n",
       "    <tr>\n",
       "      <th>1</th>\n",
       "      <td>Does the chatbot know what the user wants?</td>\n",
       "      <td>NaN</td>\n",
       "      <td>NaN</td>\n",
       "      <td>NaN</td>\n",
       "      <td>NaN</td>\n",
       "    </tr>\n",
       "    <tr>\n",
       "      <th>2</th>\n",
       "      <td>A chatbot is smart when it becomes aware of us...</td>\n",
       "      <td>let us consider the case of a live chatbot he...</td>\n",
       "      <td>there will come a time where the bots will ha...</td>\n",
       "      <td>NaN</td>\n",
       "      <td>NaN</td>\n",
       "    </tr>\n",
       "    <tr>\n",
       "      <th>3</th>\n",
       "      <td>To cut down design complexity</td>\n",
       "      <td>it is important to ignore proactive user quer...</td>\n",
       "      <td>Api.ai</td>\n",
       "      <td>and Wit.ai to incorporate natural language ca...</td>\n",
       "      <td>NaN</td>\n",
       "    </tr>\n",
       "    <tr>\n",
       "      <th>4</th>\n",
       "      <td>Is the chatbot a learning champion?</td>\n",
       "      <td>NaN</td>\n",
       "      <td>NaN</td>\n",
       "      <td>NaN</td>\n",
       "      <td>NaN</td>\n",
       "    </tr>\n",
       "  </tbody>\n",
       "</table>\n",
       "</div>"
      ],
      "text/plain": [
       "  The power of chatbots is not lost on the business world. As brands focus on promoting personalized experiences  \\\n",
       "0  It is the intelligence that gives power to the...                                                               \n",
       "1         Does the chatbot know what the user wants?                                                               \n",
       "2  A chatbot is smart when it becomes aware of us...                                                               \n",
       "3                      To cut down design complexity                                                               \n",
       "4                Is the chatbot a learning champion?                                                               \n",
       "\n",
       "   more and more intelligent chatbots are being built to engage users and improve brand image. That said it is a rarity to find a live intelligent chatbot  \\\n",
       "0   raising the intelligence quotient becomes inc...                                                                                                         \n",
       "1                                                NaN                                                                                                         \n",
       "2   let us consider the case of a live chatbot he...                                                                                                         \n",
       "3   it is important to ignore proactive user quer...                                                                                                         \n",
       "4                                                NaN                                                                                                         \n",
       "\n",
       "   also called as AI chatbot. As the thought of a chatbot springs up  \\\n",
       "0                                                NaN                   \n",
       "1                                                NaN                   \n",
       "2   there will come a time where the bots will ha...                   \n",
       "3                                             Api.ai                   \n",
       "4                                                NaN                   \n",
       "\n",
       "   we know it is not a real person for sure. What we know is that chatbot brings a human touch. For that to become a reality  \\\n",
       "0                                                NaN                                                                           \n",
       "1                                                NaN                                                                           \n",
       "2                                                NaN                                                                           \n",
       "3   and Wit.ai to incorporate natural language ca...                                                                           \n",
       "4                                                NaN                                                                           \n",
       "\n",
       "    chatbots need to be really intelligent. The crux is not the chatbot rather it is the intelligence quotient of the chatbot that can bring the human touch.  \n",
       "0                                                NaN                                                                                                           \n",
       "1                                                NaN                                                                                                           \n",
       "2                                                NaN                                                                                                           \n",
       "3                                                NaN                                                                                                           \n",
       "4                                                NaN                                                                                                           "
      ]
     },
     "execution_count": 9,
     "metadata": {},
     "output_type": "execute_result"
    }
   ],
   "source": [
    "df.head()"
   ]
  },
  {
   "cell_type": "code",
   "execution_count": null,
   "metadata": {},
   "outputs": [],
   "source": []
  },
  {
   "cell_type": "code",
   "execution_count": 10,
   "metadata": {},
   "outputs": [
    {
     "name": "stdout",
     "output_type": "stream",
     "text": [
      " Volume in drive D is RECOVERY\n",
      " Volume Serial Number is B8C5-8737\n",
      "\n",
      " Directory of D:\\python3\n",
      "\n",
      "12/03/2018  09:20 PM    <DIR>          .\n",
      "12/03/2018  09:20 PM    <DIR>          ..\n",
      "11/29/2018  09:56 PM    <DIR>          .ipynb_checkpoints\n",
      "11/29/2018  09:29 PM    <DIR>          __pycache__\n",
      "04/20/2018  06:58 PM            19,208 api-ms-win-core-console-l1-1-0.dll\n",
      "04/20/2018  06:58 PM            18,696 api-ms-win-core-datetime-l1-1-0.dll\n",
      "04/20/2018  06:58 PM            18,696 api-ms-win-core-debug-l1-1-0.dll\n",
      "04/20/2018  06:58 PM            18,696 api-ms-win-core-errorhandling-l1-1-0.dll\n",
      "04/20/2018  06:59 PM            22,280 api-ms-win-core-file-l1-1-0.dll\n",
      "04/20/2018  07:07 PM            18,696 api-ms-win-core-file-l1-2-0.dll\n",
      "04/20/2018  07:07 PM            18,696 api-ms-win-core-file-l2-1-0.dll\n",
      "04/20/2018  07:07 PM            18,696 api-ms-win-core-handle-l1-1-0.dll\n",
      "04/20/2018  07:07 PM            19,208 api-ms-win-core-heap-l1-1-0.dll\n",
      "04/20/2018  07:07 PM            18,696 api-ms-win-core-interlocked-l1-1-0.dll\n",
      "04/20/2018  07:07 PM            19,720 api-ms-win-core-libraryloader-l1-1-0.dll\n",
      "04/20/2018  07:07 PM            21,256 api-ms-win-core-localization-l1-2-0.dll\n",
      "04/20/2018  07:07 PM            19,208 api-ms-win-core-memory-l1-1-0.dll\n",
      "04/20/2018  07:07 PM            18,696 api-ms-win-core-namedpipe-l1-1-0.dll\n",
      "04/20/2018  07:07 PM            19,720 api-ms-win-core-processenvironment-l1-1-0.dll\n",
      "04/20/2018  07:07 PM            20,744 api-ms-win-core-processthreads-l1-1-0.dll\n",
      "04/20/2018  07:07 PM            19,208 api-ms-win-core-processthreads-l1-1-1.dll\n",
      "04/20/2018  07:07 PM            18,184 api-ms-win-core-profile-l1-1-0.dll\n",
      "04/20/2018  07:07 PM            19,208 api-ms-win-core-rtlsupport-l1-1-0.dll\n",
      "04/20/2018  07:07 PM            18,696 api-ms-win-core-string-l1-1-0.dll\n",
      "04/20/2018  07:07 PM            20,744 api-ms-win-core-synch-l1-1-0.dll\n",
      "04/20/2018  07:07 PM            19,208 api-ms-win-core-synch-l1-2-0.dll\n",
      "04/20/2018  07:07 PM            19,720 api-ms-win-core-sysinfo-l1-1-0.dll\n",
      "04/20/2018  07:07 PM            19,208 api-ms-win-core-timezone-l1-1-0.dll\n",
      "04/20/2018  07:07 PM            18,696 api-ms-win-core-util-l1-1-0.dll\n",
      "04/20/2018  07:07 PM            19,720 api-ms-win-crt-conio-l1-1-0.dll\n",
      "04/20/2018  07:07 PM            22,792 api-ms-win-crt-convert-l1-1-0.dll\n",
      "04/20/2018  07:07 PM            19,208 api-ms-win-crt-environment-l1-1-0.dll\n",
      "04/20/2018  07:07 PM            20,744 api-ms-win-crt-filesystem-l1-1-0.dll\n",
      "04/20/2018  07:07 PM            19,720 api-ms-win-crt-heap-l1-1-0.dll\n",
      "04/20/2018  07:07 PM            19,208 api-ms-win-crt-locale-l1-1-0.dll\n",
      "04/20/2018  07:07 PM            27,912 api-ms-win-crt-math-l1-1-0.dll\n",
      "04/20/2018  07:07 PM            26,888 api-ms-win-crt-multibyte-l1-1-0.dll\n",
      "04/20/2018  07:07 PM            71,432 api-ms-win-crt-private-l1-1-0.dll\n",
      "04/20/2018  07:07 PM            19,720 api-ms-win-crt-process-l1-1-0.dll\n",
      "04/20/2018  07:07 PM            23,304 api-ms-win-crt-runtime-l1-1-0.dll\n",
      "04/20/2018  07:07 PM            24,840 api-ms-win-crt-stdio-l1-1-0.dll\n",
      "04/20/2018  07:07 PM            24,840 api-ms-win-crt-string-l1-1-0.dll\n",
      "04/20/2018  07:07 PM            21,256 api-ms-win-crt-time-l1-1-0.dll\n",
      "04/20/2018  07:07 PM            19,208 api-ms-win-crt-utility-l1-1-0.dll\n",
      "11/26/2018  09:37 PM               598 app.py\n",
      "11/26/2018  09:38 PM               149 appli123.py\n",
      "11/25/2018  05:40 PM           245,948 applied ML.ipynb\n",
      "11/30/2018  10:11 PM    <DIR>          bucket_api_heroku\n",
      "11/27/2018  08:09 PM             1,478 chatbot.txt\n",
      "12/03/2018  09:20 PM            51,683 chatbot_from_scratch_11_27_2018.ipynb\n",
      "11/26/2018  09:25 PM            45,884 chatbot2018.ipynb\n",
      "12/03/2018  08:19 PM             4,163 chatbot2018.txt\n",
      "12/03/2018  08:12 PM             4,163 chatbottext.txt\n",
      "11/29/2018  10:09 PM             5,009 coding_questions_answers_11_29_2018.ipynb\n",
      "09/21/2018  01:53 AM           329,368 concrt140.dll\n",
      "11/25/2018  10:44 AM    <DIR>          conda-meta\n",
      "11/25/2018  12:16 PM            94,746 credit_risk_analysis_AVDay2session1.ipynb\n",
      "11/25/2018  11:08 AM               334 creditRisk.csv\n",
      "08/29/2018  12:31 AM             1,093 cwp.py\n",
      "11/28/2018  05:42 PM    <DIR>          Data\n",
      "11/26/2018  09:39 PM           286,720 db.sqlite3\n",
      "11/25/2018  10:43 AM    <DIR>          DLLs\n",
      "11/25/2018  10:44 AM    <DIR>          envs\n",
      "11/25/2018  10:44 AM    <DIR>          etc\n",
      "11/26/2018  07:50 PM    <DIR>          flask-chatterbot-master (1)\n",
      "11/28/2018  07:51 PM    <DIR>          heroku\n",
      "11/28/2018  06:54 PM    <DIR>          heroku-buildpack-python-master\n",
      "11/25/2018  12:58 PM           210,352 historical_loan.csv\n",
      "11/25/2018  10:43 AM    <DIR>          include\n",
      "11/25/2018  10:43 AM    <DIR>          Lib\n",
      "11/25/2018  10:43 AM    <DIR>          Library\n",
      "11/25/2018  10:43 AM    <DIR>          libs\n",
      "06/27/2018  09:37 AM            12,763 LICENSE_PYTHON.txt\n",
      "11/25/2018  10:43 AM    <DIR>          man\n",
      "11/25/2018  10:44 AM    <DIR>          Menu\n",
      "09/21/2018  01:53 AM           625,808 msvcp140.dll\n",
      "09/21/2018  01:53 AM            31,896 msvcp140_1.dll\n",
      "09/21/2018  01:53 AM           195,248 msvcp140_2.dll\n",
      "08/14/2018  08:12 PM           506,880 openssl.exe\n",
      "11/25/2018  10:43 AM    <DIR>          pkgs\n",
      "06/28/2018  07:36 PM            93,696 python.exe\n",
      "06/28/2018  07:36 PM           430,080 python.pdb\n",
      "11/26/2018  09:20 PM             9,727 python2vspython3.ipynb\n",
      "06/28/2018  07:36 PM            51,712 python3.dll\n",
      "06/28/2018  07:35 PM         3,843,072 python37.dll\n",
      "06/28/2018  07:35 PM         9,916,416 python37.pdb\n",
      "06/28/2018  07:36 PM            92,160 pythonw.exe\n",
      "06/28/2018  07:36 PM           430,080 pythonw.pdb\n",
      "11/25/2018  10:43 AM               199 qt.conf\n",
      "12/03/2018  09:31 AM             2,243 qualcom questionaire.txt\n",
      "11/26/2018  09:38 PM               140 requirements.txt\n",
      "11/30/2018  09:49 PM    <DIR>          Scripts\n",
      "11/25/2018  10:43 AM    <DIR>          share\n",
      "11/25/2018  10:43 AM    <DIR>          sip\n",
      "11/25/2018  10:43 AM    <DIR>          tcl\n",
      "11/25/2018  10:43 AM    <DIR>          Tools\n",
      "04/20/2018  07:07 PM         1,016,584 ucrtbase.dll\n",
      "11/25/2018  10:44 AM           302,868 Uninstall-Anaconda3.exe\n",
      "11/25/2018  11:09 AM               555 Untitled.ipynb\n",
      "11/26/2018  09:35 PM               733 Untitled1.ipynb\n",
      "11/26/2018  09:38 PM               555 Untitled2.ipynb\n",
      "11/28/2018  06:25 PM               555 Untitled3.ipynb\n",
      "11/28/2018  06:57 PM               606 Untitled4.ipynb\n",
      "09/21/2018  01:53 AM           386,720 vccorlib140.dll\n",
      "09/21/2018  01:53 AM           155,280 vcomp140.dll\n",
      "09/21/2018  01:53 AM            87,200 vcruntime140.dll\n",
      "11/08/2018  05:52 PM             8,248 vscode_eula.txt\n",
      "11/29/2018  09:29 PM                72 welcome.py\n",
      "05/14/2018  03:53 AM           293,888 xlwings32-0.11.8.dll\n",
      "05/14/2018  03:53 AM           367,104 xlwings64-0.11.8.dll\n",
      "              85 File(s)     21,009,352 bytes\n",
      "              25 Dir(s)   3,739,295,744 bytes free\n"
     ]
    }
   ],
   "source": [
    "ls"
   ]
  },
  {
   "cell_type": "code",
   "execution_count": 11,
   "metadata": {},
   "outputs": [
    {
     "name": "stdout",
     "output_type": "stream",
     "text": [
      "[nltk_data] Error loading punkt: <urlopen error [Errno 11001]\n",
      "[nltk_data]     getaddrinfo failed>\n",
      "[nltk_data] Error loading wordnet: <urlopen error [Errno 11001]\n",
      "[nltk_data]     getaddrinfo failed>\n"
     ]
    }
   ],
   "source": [
    "f=open('chatbot.txt','r',errors = 'ignore')\n",
    "raw=f.read()\n",
    "raw=raw.lower()# converts to lowercase\n",
    "nltk.download('punkt') # first-time use only\n",
    "nltk.download('wordnet') # first-time use only\n",
    "sent_tokens = nltk.sent_tokenize(raw)# converts to list of sentences \n",
    "word_tokens = nltk.word_tokenize(raw)# converts to list of words\n"
   ]
  },
  {
   "cell_type": "code",
   "execution_count": 12,
   "metadata": {},
   "outputs": [
    {
     "data": {
      "text/plain": [
       "Index(['The power of chatbots is not lost on the business world. As brands focus on promoting personalized experiences',\n",
       "       ' more and more intelligent chatbots are being built to engage users and improve brand image. That said it is a rarity to find a live intelligent chatbot',\n",
       "       ' also called as AI chatbot. As the thought of a chatbot springs up',\n",
       "       ' we know it is not a real person for sure. What we know is that chatbot brings a human touch. For that to become a reality',\n",
       "       ' chatbots need to be really intelligent. The crux is not the chatbot rather it is the intelligence quotient of the chatbot that can bring the human touch.'],\n",
       "      dtype='object')"
      ]
     },
     "execution_count": 12,
     "metadata": {},
     "output_type": "execute_result"
    }
   ],
   "source": [
    "df.columns"
   ]
  },
  {
   "cell_type": "code",
   "execution_count": 13,
   "metadata": {},
   "outputs": [
    {
     "ename": "KeyError",
     "evalue": "1",
     "output_type": "error",
     "traceback": [
      "\u001b[1;31m---------------------------------------------------------------------------\u001b[0m",
      "\u001b[1;31mKeyError\u001b[0m                                  Traceback (most recent call last)",
      "\u001b[1;32mD:\\python3\\lib\\site-packages\\pandas\\core\\indexes\\base.py\u001b[0m in \u001b[0;36mget_loc\u001b[1;34m(self, key, method, tolerance)\u001b[0m\n\u001b[0;32m   3077\u001b[0m             \u001b[1;32mtry\u001b[0m\u001b[1;33m:\u001b[0m\u001b[1;33m\u001b[0m\u001b[0m\n\u001b[1;32m-> 3078\u001b[1;33m                 \u001b[1;32mreturn\u001b[0m \u001b[0mself\u001b[0m\u001b[1;33m.\u001b[0m\u001b[0m_engine\u001b[0m\u001b[1;33m.\u001b[0m\u001b[0mget_loc\u001b[0m\u001b[1;33m(\u001b[0m\u001b[0mkey\u001b[0m\u001b[1;33m)\u001b[0m\u001b[1;33m\u001b[0m\u001b[0m\n\u001b[0m\u001b[0;32m   3079\u001b[0m             \u001b[1;32mexcept\u001b[0m \u001b[0mKeyError\u001b[0m\u001b[1;33m:\u001b[0m\u001b[1;33m\u001b[0m\u001b[0m\n",
      "\u001b[1;32mpandas\\_libs\\index.pyx\u001b[0m in \u001b[0;36mpandas._libs.index.IndexEngine.get_loc\u001b[1;34m()\u001b[0m\n",
      "\u001b[1;32mpandas\\_libs\\index.pyx\u001b[0m in \u001b[0;36mpandas._libs.index.IndexEngine.get_loc\u001b[1;34m()\u001b[0m\n",
      "\u001b[1;32mpandas\\_libs\\hashtable_class_helper.pxi\u001b[0m in \u001b[0;36mpandas._libs.hashtable.PyObjectHashTable.get_item\u001b[1;34m()\u001b[0m\n",
      "\u001b[1;32mpandas\\_libs\\hashtable_class_helper.pxi\u001b[0m in \u001b[0;36mpandas._libs.hashtable.PyObjectHashTable.get_item\u001b[1;34m()\u001b[0m\n",
      "\u001b[1;31mKeyError\u001b[0m: 1",
      "\nDuring handling of the above exception, another exception occurred:\n",
      "\u001b[1;31mKeyError\u001b[0m                                  Traceback (most recent call last)",
      "\u001b[1;32m<ipython-input-13-8aaae65033cb>\u001b[0m in \u001b[0;36m<module>\u001b[1;34m()\u001b[0m\n\u001b[1;32m----> 1\u001b[1;33m \u001b[0msent_tokens\u001b[0m \u001b[1;33m=\u001b[0m \u001b[0mnltk\u001b[0m\u001b[1;33m.\u001b[0m\u001b[0msent_tokenize\u001b[0m\u001b[1;33m(\u001b[0m\u001b[0mdf\u001b[0m\u001b[1;33m[\u001b[0m\u001b[1;36m1\u001b[0m\u001b[1;33m]\u001b[0m\u001b[1;33m)\u001b[0m\u001b[1;31m# converts to list of sentences\u001b[0m\u001b[1;33m\u001b[0m\u001b[0m\n\u001b[0m\u001b[0;32m      2\u001b[0m \u001b[0mword_tokens\u001b[0m \u001b[1;33m=\u001b[0m \u001b[0mnltk\u001b[0m\u001b[1;33m.\u001b[0m\u001b[0mword_tokenize\u001b[0m\u001b[1;33m(\u001b[0m\u001b[0mdf\u001b[0m\u001b[1;33m[\u001b[0m\u001b[1;36m1\u001b[0m\u001b[1;33m]\u001b[0m\u001b[1;33m)\u001b[0m\u001b[1;31m# converts to list of words\u001b[0m\u001b[1;33m\u001b[0m\u001b[0m\n",
      "\u001b[1;32mD:\\python3\\lib\\site-packages\\pandas\\core\\frame.py\u001b[0m in \u001b[0;36m__getitem__\u001b[1;34m(self, key)\u001b[0m\n\u001b[0;32m   2686\u001b[0m             \u001b[1;32mreturn\u001b[0m \u001b[0mself\u001b[0m\u001b[1;33m.\u001b[0m\u001b[0m_getitem_multilevel\u001b[0m\u001b[1;33m(\u001b[0m\u001b[0mkey\u001b[0m\u001b[1;33m)\u001b[0m\u001b[1;33m\u001b[0m\u001b[0m\n\u001b[0;32m   2687\u001b[0m         \u001b[1;32melse\u001b[0m\u001b[1;33m:\u001b[0m\u001b[1;33m\u001b[0m\u001b[0m\n\u001b[1;32m-> 2688\u001b[1;33m             \u001b[1;32mreturn\u001b[0m \u001b[0mself\u001b[0m\u001b[1;33m.\u001b[0m\u001b[0m_getitem_column\u001b[0m\u001b[1;33m(\u001b[0m\u001b[0mkey\u001b[0m\u001b[1;33m)\u001b[0m\u001b[1;33m\u001b[0m\u001b[0m\n\u001b[0m\u001b[0;32m   2689\u001b[0m \u001b[1;33m\u001b[0m\u001b[0m\n\u001b[0;32m   2690\u001b[0m     \u001b[1;32mdef\u001b[0m \u001b[0m_getitem_column\u001b[0m\u001b[1;33m(\u001b[0m\u001b[0mself\u001b[0m\u001b[1;33m,\u001b[0m \u001b[0mkey\u001b[0m\u001b[1;33m)\u001b[0m\u001b[1;33m:\u001b[0m\u001b[1;33m\u001b[0m\u001b[0m\n",
      "\u001b[1;32mD:\\python3\\lib\\site-packages\\pandas\\core\\frame.py\u001b[0m in \u001b[0;36m_getitem_column\u001b[1;34m(self, key)\u001b[0m\n\u001b[0;32m   2693\u001b[0m         \u001b[1;31m# get column\u001b[0m\u001b[1;33m\u001b[0m\u001b[1;33m\u001b[0m\u001b[0m\n\u001b[0;32m   2694\u001b[0m         \u001b[1;32mif\u001b[0m \u001b[0mself\u001b[0m\u001b[1;33m.\u001b[0m\u001b[0mcolumns\u001b[0m\u001b[1;33m.\u001b[0m\u001b[0mis_unique\u001b[0m\u001b[1;33m:\u001b[0m\u001b[1;33m\u001b[0m\u001b[0m\n\u001b[1;32m-> 2695\u001b[1;33m             \u001b[1;32mreturn\u001b[0m \u001b[0mself\u001b[0m\u001b[1;33m.\u001b[0m\u001b[0m_get_item_cache\u001b[0m\u001b[1;33m(\u001b[0m\u001b[0mkey\u001b[0m\u001b[1;33m)\u001b[0m\u001b[1;33m\u001b[0m\u001b[0m\n\u001b[0m\u001b[0;32m   2696\u001b[0m \u001b[1;33m\u001b[0m\u001b[0m\n\u001b[0;32m   2697\u001b[0m         \u001b[1;31m# duplicate columns & possible reduce dimensionality\u001b[0m\u001b[1;33m\u001b[0m\u001b[1;33m\u001b[0m\u001b[0m\n",
      "\u001b[1;32mD:\\python3\\lib\\site-packages\\pandas\\core\\generic.py\u001b[0m in \u001b[0;36m_get_item_cache\u001b[1;34m(self, item)\u001b[0m\n\u001b[0;32m   2487\u001b[0m         \u001b[0mres\u001b[0m \u001b[1;33m=\u001b[0m \u001b[0mcache\u001b[0m\u001b[1;33m.\u001b[0m\u001b[0mget\u001b[0m\u001b[1;33m(\u001b[0m\u001b[0mitem\u001b[0m\u001b[1;33m)\u001b[0m\u001b[1;33m\u001b[0m\u001b[0m\n\u001b[0;32m   2488\u001b[0m         \u001b[1;32mif\u001b[0m \u001b[0mres\u001b[0m \u001b[1;32mis\u001b[0m \u001b[1;32mNone\u001b[0m\u001b[1;33m:\u001b[0m\u001b[1;33m\u001b[0m\u001b[0m\n\u001b[1;32m-> 2489\u001b[1;33m             \u001b[0mvalues\u001b[0m \u001b[1;33m=\u001b[0m \u001b[0mself\u001b[0m\u001b[1;33m.\u001b[0m\u001b[0m_data\u001b[0m\u001b[1;33m.\u001b[0m\u001b[0mget\u001b[0m\u001b[1;33m(\u001b[0m\u001b[0mitem\u001b[0m\u001b[1;33m)\u001b[0m\u001b[1;33m\u001b[0m\u001b[0m\n\u001b[0m\u001b[0;32m   2490\u001b[0m             \u001b[0mres\u001b[0m \u001b[1;33m=\u001b[0m \u001b[0mself\u001b[0m\u001b[1;33m.\u001b[0m\u001b[0m_box_item_values\u001b[0m\u001b[1;33m(\u001b[0m\u001b[0mitem\u001b[0m\u001b[1;33m,\u001b[0m \u001b[0mvalues\u001b[0m\u001b[1;33m)\u001b[0m\u001b[1;33m\u001b[0m\u001b[0m\n\u001b[0;32m   2491\u001b[0m             \u001b[0mcache\u001b[0m\u001b[1;33m[\u001b[0m\u001b[0mitem\u001b[0m\u001b[1;33m]\u001b[0m \u001b[1;33m=\u001b[0m \u001b[0mres\u001b[0m\u001b[1;33m\u001b[0m\u001b[0m\n",
      "\u001b[1;32mD:\\python3\\lib\\site-packages\\pandas\\core\\internals.py\u001b[0m in \u001b[0;36mget\u001b[1;34m(self, item, fastpath)\u001b[0m\n\u001b[0;32m   4113\u001b[0m \u001b[1;33m\u001b[0m\u001b[0m\n\u001b[0;32m   4114\u001b[0m             \u001b[1;32mif\u001b[0m \u001b[1;32mnot\u001b[0m \u001b[0misna\u001b[0m\u001b[1;33m(\u001b[0m\u001b[0mitem\u001b[0m\u001b[1;33m)\u001b[0m\u001b[1;33m:\u001b[0m\u001b[1;33m\u001b[0m\u001b[0m\n\u001b[1;32m-> 4115\u001b[1;33m                 \u001b[0mloc\u001b[0m \u001b[1;33m=\u001b[0m \u001b[0mself\u001b[0m\u001b[1;33m.\u001b[0m\u001b[0mitems\u001b[0m\u001b[1;33m.\u001b[0m\u001b[0mget_loc\u001b[0m\u001b[1;33m(\u001b[0m\u001b[0mitem\u001b[0m\u001b[1;33m)\u001b[0m\u001b[1;33m\u001b[0m\u001b[0m\n\u001b[0m\u001b[0;32m   4116\u001b[0m             \u001b[1;32melse\u001b[0m\u001b[1;33m:\u001b[0m\u001b[1;33m\u001b[0m\u001b[0m\n\u001b[0;32m   4117\u001b[0m                 \u001b[0mindexer\u001b[0m \u001b[1;33m=\u001b[0m \u001b[0mnp\u001b[0m\u001b[1;33m.\u001b[0m\u001b[0marange\u001b[0m\u001b[1;33m(\u001b[0m\u001b[0mlen\u001b[0m\u001b[1;33m(\u001b[0m\u001b[0mself\u001b[0m\u001b[1;33m.\u001b[0m\u001b[0mitems\u001b[0m\u001b[1;33m)\u001b[0m\u001b[1;33m)\u001b[0m\u001b[1;33m[\u001b[0m\u001b[0misna\u001b[0m\u001b[1;33m(\u001b[0m\u001b[0mself\u001b[0m\u001b[1;33m.\u001b[0m\u001b[0mitems\u001b[0m\u001b[1;33m)\u001b[0m\u001b[1;33m]\u001b[0m\u001b[1;33m\u001b[0m\u001b[0m\n",
      "\u001b[1;32mD:\\python3\\lib\\site-packages\\pandas\\core\\indexes\\base.py\u001b[0m in \u001b[0;36mget_loc\u001b[1;34m(self, key, method, tolerance)\u001b[0m\n\u001b[0;32m   3078\u001b[0m                 \u001b[1;32mreturn\u001b[0m \u001b[0mself\u001b[0m\u001b[1;33m.\u001b[0m\u001b[0m_engine\u001b[0m\u001b[1;33m.\u001b[0m\u001b[0mget_loc\u001b[0m\u001b[1;33m(\u001b[0m\u001b[0mkey\u001b[0m\u001b[1;33m)\u001b[0m\u001b[1;33m\u001b[0m\u001b[0m\n\u001b[0;32m   3079\u001b[0m             \u001b[1;32mexcept\u001b[0m \u001b[0mKeyError\u001b[0m\u001b[1;33m:\u001b[0m\u001b[1;33m\u001b[0m\u001b[0m\n\u001b[1;32m-> 3080\u001b[1;33m                 \u001b[1;32mreturn\u001b[0m \u001b[0mself\u001b[0m\u001b[1;33m.\u001b[0m\u001b[0m_engine\u001b[0m\u001b[1;33m.\u001b[0m\u001b[0mget_loc\u001b[0m\u001b[1;33m(\u001b[0m\u001b[0mself\u001b[0m\u001b[1;33m.\u001b[0m\u001b[0m_maybe_cast_indexer\u001b[0m\u001b[1;33m(\u001b[0m\u001b[0mkey\u001b[0m\u001b[1;33m)\u001b[0m\u001b[1;33m)\u001b[0m\u001b[1;33m\u001b[0m\u001b[0m\n\u001b[0m\u001b[0;32m   3081\u001b[0m \u001b[1;33m\u001b[0m\u001b[0m\n\u001b[0;32m   3082\u001b[0m         \u001b[0mindexer\u001b[0m \u001b[1;33m=\u001b[0m \u001b[0mself\u001b[0m\u001b[1;33m.\u001b[0m\u001b[0mget_indexer\u001b[0m\u001b[1;33m(\u001b[0m\u001b[1;33m[\u001b[0m\u001b[0mkey\u001b[0m\u001b[1;33m]\u001b[0m\u001b[1;33m,\u001b[0m \u001b[0mmethod\u001b[0m\u001b[1;33m=\u001b[0m\u001b[0mmethod\u001b[0m\u001b[1;33m,\u001b[0m \u001b[0mtolerance\u001b[0m\u001b[1;33m=\u001b[0m\u001b[0mtolerance\u001b[0m\u001b[1;33m)\u001b[0m\u001b[1;33m\u001b[0m\u001b[0m\n",
      "\u001b[1;32mpandas\\_libs\\index.pyx\u001b[0m in \u001b[0;36mpandas._libs.index.IndexEngine.get_loc\u001b[1;34m()\u001b[0m\n",
      "\u001b[1;32mpandas\\_libs\\index.pyx\u001b[0m in \u001b[0;36mpandas._libs.index.IndexEngine.get_loc\u001b[1;34m()\u001b[0m\n",
      "\u001b[1;32mpandas\\_libs\\hashtable_class_helper.pxi\u001b[0m in \u001b[0;36mpandas._libs.hashtable.PyObjectHashTable.get_item\u001b[1;34m()\u001b[0m\n",
      "\u001b[1;32mpandas\\_libs\\hashtable_class_helper.pxi\u001b[0m in \u001b[0;36mpandas._libs.hashtable.PyObjectHashTable.get_item\u001b[1;34m()\u001b[0m\n",
      "\u001b[1;31mKeyError\u001b[0m: 1"
     ]
    }
   ],
   "source": [
    "sent_tokens = nltk.sent_tokenize(df[1])# converts to list of sentences \n",
    "word_tokens = nltk.word_tokenize(df[1])# converts to list of words"
   ]
  },
  {
   "cell_type": "code",
   "execution_count": null,
   "metadata": {},
   "outputs": [],
   "source": [
    "sent_tokens[:2]"
   ]
  },
  {
   "cell_type": "code",
   "execution_count": null,
   "metadata": {},
   "outputs": [],
   "source": [
    "sent_tokens"
   ]
  },
  {
   "cell_type": "code",
   "execution_count": null,
   "metadata": {},
   "outputs": [],
   "source": [
    "word_tokens[:2]"
   ]
  },
  {
   "cell_type": "code",
   "execution_count": null,
   "metadata": {},
   "outputs": [],
   "source": [
    "word_tokens"
   ]
  },
  {
   "cell_type": "code",
   "execution_count": null,
   "metadata": {},
   "outputs": [],
   "source": [
    "lemmer = nltk.stem.WordNetLemmatizer()\n",
    "#WordNet is a semantically-oriented dictionary of English included in NLTK.\n",
    "def LemTokens(tokens):\n",
    "    return [lemmer.lemmatize(token) for token in tokens]\n",
    "remove_punct_dict = dict((ord(punct), None) for punct in string.punctuation)\n",
    "def LemNormalize(text):\n",
    "    return LemTokens(nltk.word_tokenize(text.lower().translate(remove_punct_dict)))"
   ]
  },
  {
   "cell_type": "code",
   "execution_count": null,
   "metadata": {},
   "outputs": [],
   "source": [
    "GREETING_INPUTS = (\"hello\", \"hi\", \"greetings\", \"sup\", \"what's up\",\"hey\",)\n",
    "GREETING_RESPONSES = [\"hi\", \"hey\", \"*nods*\", \"hi there\", \"hello\", \"I am glad! You are talking to me\"]\n",
    "def greeting(sentence):\n",
    " \n",
    "    for word in sentence.split():\n",
    "        if word.lower() in GREETING_INPUTS:\n",
    "            return random.choice(GREETING_RESPONSES)"
   ]
  },
  {
   "cell_type": "code",
   "execution_count": null,
   "metadata": {},
   "outputs": [],
   "source": [
    "from sklearn.feature_extraction.text import TfidfVectorizer"
   ]
  },
  {
   "cell_type": "code",
   "execution_count": null,
   "metadata": {},
   "outputs": [],
   "source": [
    "from sklearn.metrics.pairwise import cosine_similarity"
   ]
  },
  {
   "cell_type": "code",
   "execution_count": null,
   "metadata": {},
   "outputs": [],
   "source": [
    "def response(user_response):\n",
    "    robo_response=''\n",
    "    TfidfVec = TfidfVectorizer(tokenizer=LemNormalize, stop_words='english')\n",
    "    tfidf = TfidfVec.fit_transform(sent_tokens)\n",
    "    vals = cosine_similarity(tfidf[-1], tfidf)\n",
    "    idx=vals.argsort()[0][-2]\n",
    "    flat = vals.flatten()\n",
    "    flat.sort()\n",
    "    req_tfidf = flat[-2]\n",
    "    if(req_tfidf==0):\n",
    "        robo_response=robo_response+\"I am sorry! I don't understand you\"\n",
    "        return robo_response\n",
    "    else:\n",
    "        robo_response = robo_response+sent_tokens[idx]\n",
    "        return robo_response"
   ]
  },
  {
   "cell_type": "code",
   "execution_count": null,
   "metadata": {},
   "outputs": [],
   "source": [
    "flag=True\n",
    "print(\"ROBO: My name is Robo. I will answer your queries about Chatbots. If you want to exit, type Bye!\")\n",
    "while(flag==True):\n",
    "    user_response = input()\n",
    "    user_response=user_response.lower()\n",
    "    if(user_response!='bye'):\n",
    "        if(user_response=='thanks' or user_response=='thank you' ):\n",
    "            flag=False\n",
    "            print(\"ROBO: You are welcome..\")\n",
    "        else:\n",
    "            if(greeting(user_response)!=None):\n",
    "                print(\"ROBO: \"+greeting(user_response))\n",
    "            else:\n",
    "                sent_tokens.append(user_response)\n",
    "                word_tokens=word_tokens+nltk.word_tokenize(user_response)\n",
    "                final_words=list(set(word_tokens))\n",
    "                print(\"ROBO: \",end=\"\")\n",
    "                print(response(user_response))\n",
    "                sent_tokens.remove(user_response)\n",
    "    else:\n",
    "        flag=False\n",
    "        print(\"ROBO: Bye! take care..\")"
   ]
  },
  {
   "cell_type": "code",
   "execution_count": null,
   "metadata": {},
   "outputs": [],
   "source": []
  }
 ],
 "metadata": {
  "kernelspec": {
   "display_name": "Python 3",
   "language": "python",
   "name": "python3"
  },
  "language_info": {
   "codemirror_mode": {
    "name": "ipython",
    "version": 3
   },
   "file_extension": ".py",
   "mimetype": "text/x-python",
   "name": "python",
   "nbconvert_exporter": "python",
   "pygments_lexer": "ipython3",
   "version": "3.7.0"
  }
 },
 "nbformat": 4,
 "nbformat_minor": 2
}
