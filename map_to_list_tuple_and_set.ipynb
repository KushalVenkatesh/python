{
 "cells": [
  {
   "cell_type": "code",
   "execution_count": 2,
   "metadata": {},
   "outputs": [],
   "source": [
    "def to_upper_case(s):\n",
    "    return str(s).upper()"
   ]
  },
  {
   "cell_type": "code",
   "execution_count": 3,
   "metadata": {},
   "outputs": [
    {
     "name": "stdout",
     "output_type": "stream",
     "text": [
      "['A', 'B', 'C']\n",
      "{'B', 'A', 'C'}\n",
      "('A', 'B', 'C')\n"
     ]
    }
   ],
   "source": [
    "map_iterator = map(to_upper_case, ['a', 'b', 'c'])\n",
    "my_list = list(map_iterator)\n",
    "print(my_list)\n",
    "\n",
    "map_iterator = map(to_upper_case, ['a', 'b', 'c'])\n",
    "my_set = set(map_iterator)\n",
    "print(my_set)\n",
    "\n",
    "map_iterator = map(to_upper_case, ['a', 'b', 'c'])\n",
    "my_tuple = tuple(map_iterator)\n",
    "print(my_tuple)"
   ]
  }
 ],
 "metadata": {
  "kernelspec": {
   "display_name": "Python 3",
   "language": "python",
   "name": "python3"
  },
  "language_info": {
   "codemirror_mode": {
    "name": "ipython",
    "version": 3
   },
   "file_extension": ".py",
   "mimetype": "text/x-python",
   "name": "python",
   "nbconvert_exporter": "python",
   "pygments_lexer": "ipython3",
   "version": "3.7.0"
  }
 },
 "nbformat": 4,
 "nbformat_minor": 2
}
