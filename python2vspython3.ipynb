{
 "cells": [
  {
   "cell_type": "code",
   "execution_count": 1,
   "metadata": {},
   "outputs": [
    {
     "name": "stdout",
     "output_type": "stream",
     "text": [
      "Hi!\n"
     ]
    }
   ],
   "source": [
    "print ('Hi!')"
   ]
  },
  {
   "cell_type": "code",
   "execution_count": 8,
   "metadata": {},
   "outputs": [
    {
     "data": {
      "text/plain": [
       "'D:\\\\python3'"
      ]
     },
     "execution_count": 8,
     "metadata": {},
     "output_type": "execute_result"
    }
   ],
   "source": [
    "pwd"
   ]
  },
  {
   "cell_type": "code",
   "execution_count": 11,
   "metadata": {},
   "outputs": [
    {
     "name": "stdout",
     "output_type": "stream",
     "text": [
      "Python 3.7.0\n"
     ]
    }
   ],
   "source": [
    "!python --version"
   ]
  },
  {
   "cell_type": "code",
   "execution_count": 9,
   "metadata": {},
   "outputs": [
    {
     "name": "stdout",
     "output_type": "stream",
     "text": [
      " Volume in drive D is RECOVERY\n",
      " Volume Serial Number is B8C5-8737\n",
      "\n",
      " Directory of D:\\python3\n",
      "\n",
      "11/26/2018  07:59 PM    <DIR>          .\n",
      "11/26/2018  07:59 PM    <DIR>          ..\n",
      "11/26/2018  07:20 PM    <DIR>          .ipynb_checkpoints\n",
      "04/20/2018  06:58 PM            19,208 api-ms-win-core-console-l1-1-0.dll\n",
      "04/20/2018  06:58 PM            18,696 api-ms-win-core-datetime-l1-1-0.dll\n",
      "04/20/2018  06:58 PM            18,696 api-ms-win-core-debug-l1-1-0.dll\n",
      "04/20/2018  06:58 PM            18,696 api-ms-win-core-errorhandling-l1-1-0.dll\n",
      "04/20/2018  06:59 PM            22,280 api-ms-win-core-file-l1-1-0.dll\n",
      "04/20/2018  07:07 PM            18,696 api-ms-win-core-file-l1-2-0.dll\n",
      "04/20/2018  07:07 PM            18,696 api-ms-win-core-file-l2-1-0.dll\n",
      "04/20/2018  07:07 PM            18,696 api-ms-win-core-handle-l1-1-0.dll\n",
      "04/20/2018  07:07 PM            19,208 api-ms-win-core-heap-l1-1-0.dll\n",
      "04/20/2018  07:07 PM            18,696 api-ms-win-core-interlocked-l1-1-0.dll\n",
      "04/20/2018  07:07 PM            19,720 api-ms-win-core-libraryloader-l1-1-0.dll\n",
      "04/20/2018  07:07 PM            21,256 api-ms-win-core-localization-l1-2-0.dll\n",
      "04/20/2018  07:07 PM            19,208 api-ms-win-core-memory-l1-1-0.dll\n",
      "04/20/2018  07:07 PM            18,696 api-ms-win-core-namedpipe-l1-1-0.dll\n",
      "04/20/2018  07:07 PM            19,720 api-ms-win-core-processenvironment-l1-1-0.dll\n",
      "04/20/2018  07:07 PM            20,744 api-ms-win-core-processthreads-l1-1-0.dll\n",
      "04/20/2018  07:07 PM            19,208 api-ms-win-core-processthreads-l1-1-1.dll\n",
      "04/20/2018  07:07 PM            18,184 api-ms-win-core-profile-l1-1-0.dll\n",
      "04/20/2018  07:07 PM            19,208 api-ms-win-core-rtlsupport-l1-1-0.dll\n",
      "04/20/2018  07:07 PM            18,696 api-ms-win-core-string-l1-1-0.dll\n",
      "04/20/2018  07:07 PM            20,744 api-ms-win-core-synch-l1-1-0.dll\n",
      "04/20/2018  07:07 PM            19,208 api-ms-win-core-synch-l1-2-0.dll\n",
      "04/20/2018  07:07 PM            19,720 api-ms-win-core-sysinfo-l1-1-0.dll\n",
      "04/20/2018  07:07 PM            19,208 api-ms-win-core-timezone-l1-1-0.dll\n",
      "04/20/2018  07:07 PM            18,696 api-ms-win-core-util-l1-1-0.dll\n",
      "04/20/2018  07:07 PM            19,720 api-ms-win-crt-conio-l1-1-0.dll\n",
      "04/20/2018  07:07 PM            22,792 api-ms-win-crt-convert-l1-1-0.dll\n",
      "04/20/2018  07:07 PM            19,208 api-ms-win-crt-environment-l1-1-0.dll\n",
      "04/20/2018  07:07 PM            20,744 api-ms-win-crt-filesystem-l1-1-0.dll\n",
      "04/20/2018  07:07 PM            19,720 api-ms-win-crt-heap-l1-1-0.dll\n",
      "04/20/2018  07:07 PM            19,208 api-ms-win-crt-locale-l1-1-0.dll\n",
      "04/20/2018  07:07 PM            27,912 api-ms-win-crt-math-l1-1-0.dll\n",
      "04/20/2018  07:07 PM            26,888 api-ms-win-crt-multibyte-l1-1-0.dll\n",
      "04/20/2018  07:07 PM            71,432 api-ms-win-crt-private-l1-1-0.dll\n",
      "04/20/2018  07:07 PM            19,720 api-ms-win-crt-process-l1-1-0.dll\n",
      "04/20/2018  07:07 PM            23,304 api-ms-win-crt-runtime-l1-1-0.dll\n",
      "04/20/2018  07:07 PM            24,840 api-ms-win-crt-stdio-l1-1-0.dll\n",
      "04/20/2018  07:07 PM            24,840 api-ms-win-crt-string-l1-1-0.dll\n",
      "04/20/2018  07:07 PM            21,256 api-ms-win-crt-time-l1-1-0.dll\n",
      "04/20/2018  07:07 PM            19,208 api-ms-win-crt-utility-l1-1-0.dll\n",
      "11/25/2018  05:40 PM           245,948 applied ML.ipynb\n",
      "09/21/2018  01:53 AM           329,368 concrt140.dll\n",
      "11/25/2018  10:44 AM    <DIR>          conda-meta\n",
      "11/25/2018  12:16 PM            94,746 credit_risk_analysis_AVDay2session1.ipynb\n",
      "11/25/2018  11:08 AM               334 creditRisk.csv\n",
      "08/29/2018  12:31 AM             1,093 cwp.py\n",
      "11/25/2018  10:43 AM    <DIR>          DLLs\n",
      "11/25/2018  10:44 AM    <DIR>          envs\n",
      "11/25/2018  10:44 AM    <DIR>          etc\n",
      "11/26/2018  07:50 PM    <DIR>          flask-chatterbot-master (1)\n",
      "11/25/2018  12:58 PM           210,352 historical_loan.csv\n",
      "11/25/2018  10:43 AM    <DIR>          include\n",
      "11/25/2018  10:43 AM    <DIR>          Lib\n",
      "11/25/2018  10:43 AM    <DIR>          Library\n",
      "11/25/2018  10:43 AM    <DIR>          libs\n",
      "06/27/2018  09:37 AM            12,763 LICENSE_PYTHON.txt\n",
      "11/25/2018  10:43 AM    <DIR>          man\n",
      "11/25/2018  10:44 AM    <DIR>          Menu\n",
      "09/21/2018  01:53 AM           625,808 msvcp140.dll\n",
      "09/21/2018  01:53 AM            31,896 msvcp140_1.dll\n",
      "09/21/2018  01:53 AM           195,248 msvcp140_2.dll\n",
      "08/14/2018  08:12 PM           506,880 openssl.exe\n",
      "11/25/2018  10:43 AM    <DIR>          pkgs\n",
      "06/28/2018  07:36 PM            93,696 python.exe\n",
      "06/28/2018  07:36 PM           430,080 python.pdb\n",
      "06/28/2018  07:36 PM            51,712 python3.dll\n",
      "06/28/2018  07:35 PM         3,843,072 python37.dll\n",
      "06/28/2018  07:35 PM         9,916,416 python37.pdb\n",
      "06/28/2018  07:36 PM            92,160 pythonw.exe\n",
      "06/28/2018  07:36 PM           430,080 pythonw.pdb\n",
      "11/25/2018  10:43 AM               199 qt.conf\n",
      "02/25/2018  08:28 AM               140 requirements.txt\n",
      "11/25/2018  10:44 AM    <DIR>          Scripts\n",
      "11/25/2018  10:43 AM    <DIR>          share\n",
      "11/25/2018  10:43 AM    <DIR>          sip\n",
      "11/25/2018  10:43 AM    <DIR>          tcl\n",
      "11/25/2018  10:43 AM    <DIR>          Tools\n",
      "04/20/2018  07:07 PM         1,016,584 ucrtbase.dll\n",
      "11/25/2018  10:44 AM           302,868 Uninstall-Anaconda3.exe\n",
      "11/25/2018  11:09 AM               555 Untitled.ipynb\n",
      "11/26/2018  07:54 PM             2,159 Untitled1.ipynb\n",
      "09/21/2018  01:53 AM           386,720 vccorlib140.dll\n",
      "09/21/2018  01:53 AM           155,280 vcomp140.dll\n",
      "09/21/2018  01:53 AM            87,200 vcruntime140.dll\n",
      "11/08/2018  05:52 PM             8,248 vscode_eula.txt\n",
      "05/14/2018  03:53 AM           293,888 xlwings32-0.11.8.dll\n",
      "05/14/2018  03:53 AM           367,104 xlwings64-0.11.8.dll\n",
      "              70 File(s)     20,597,173 bytes\n",
      "              20 Dir(s)   3,931,828,224 bytes free\n"
     ]
    }
   ],
   "source": [
    "ls"
   ]
  },
  {
   "cell_type": "code",
   "execution_count": 2,
   "metadata": {},
   "outputs": [
    {
     "name": "stdout",
     "output_type": "stream",
     "text": [
      "Enter a stringjklafkalf\n",
      "jklafkalf\n"
     ]
    }
   ],
   "source": [
    "str = input('Enter a string')\n",
    "print(str)"
   ]
  },
  {
   "cell_type": "code",
   "execution_count": 12,
   "metadata": {},
   "outputs": [],
   "source": [
    "t = (20,)"
   ]
  },
  {
   "cell_type": "code",
   "execution_count": 13,
   "metadata": {},
   "outputs": [
    {
     "data": {
      "text/plain": [
       "tuple"
      ]
     },
     "execution_count": 13,
     "metadata": {},
     "output_type": "execute_result"
    }
   ],
   "source": [
    "type(t)"
   ]
  },
  {
   "cell_type": "code",
   "execution_count": 14,
   "metadata": {},
   "outputs": [],
   "source": [
    "t1 = (20)"
   ]
  },
  {
   "cell_type": "code",
   "execution_count": 15,
   "metadata": {},
   "outputs": [
    {
     "data": {
      "text/plain": [
       "int"
      ]
     },
     "execution_count": 15,
     "metadata": {},
     "output_type": "execute_result"
    }
   ],
   "source": [
    "type(t1)"
   ]
  },
  {
   "cell_type": "code",
   "execution_count": 7,
   "metadata": {},
   "outputs": [
    {
     "data": {
      "text/plain": [
       "'D:\\\\python3'"
      ]
     },
     "execution_count": 7,
     "metadata": {},
     "output_type": "execute_result"
    }
   ],
   "source": [
    "pwd"
   ]
  }
 ],
 "metadata": {
  "kernelspec": {
   "display_name": "Python 3",
   "language": "python",
   "name": "python3"
  },
  "language_info": {
   "codemirror_mode": {
    "name": "ipython",
    "version": 3
   },
   "file_extension": ".py",
   "mimetype": "text/x-python",
   "name": "python",
   "nbconvert_exporter": "python",
   "pygments_lexer": "ipython3",
   "version": "3.7.0"
  }
 },
 "nbformat": 4,
 "nbformat_minor": 2
}
