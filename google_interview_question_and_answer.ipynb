{
 "cells": [
  {
   "cell_type": "code",
   "execution_count": 6,
   "metadata": {},
   "outputs": [],
   "source": [
    "  \n",
    "def hasArrayTwoCandidates(A,arr_size,sum): \n",
    "      \n",
    "    # sort the array \n",
    "    quickSort(A,0,arr_size-1) \n",
    "    l = 0\n",
    "    r = arr_size-1\n",
    "      \n",
    "    # traverse the array for the two elements \n",
    "    while l<r: \n",
    "        if (A[l] + A[r] == sum): \n",
    "            return 1\n",
    "        elif (A[l] + A[r] < sum): \n",
    "            l += 1\n",
    "        else: \n",
    "            r -= 1\n",
    "    return 0"
   ]
  },
  {
   "cell_type": "code",
   "execution_count": null,
   "metadata": {},
   "outputs": [],
   "source": [
    "# Implementation of Quick Sort \n",
    "# A[] --> Array to be sorted \n",
    "# si  --> Starting index \n",
    "# ei  --> Ending index "
   ]
  },
  {
   "cell_type": "code",
   "execution_count": 4,
   "metadata": {},
   "outputs": [],
   "source": [
    "def quickSort(A, si, ei): \n",
    "    if si < ei: \n",
    "        pi=partition(A,si,ei) \n",
    "        quickSort(A,si,pi-1) \n",
    "        quickSort(A,pi+1,ei) "
   ]
  },
  {
   "cell_type": "code",
   "execution_count": 7,
   "metadata": {},
   "outputs": [],
   "source": [
    "def partition(A, si, ei): \n",
    "    x = A[ei] \n",
    "    i = (si-1) \n",
    "    for j in range(si,ei): \n",
    "        if A[j] <= x: \n",
    "            i += 1\n",
    "              \n",
    "            # This operation is used to swap two variables is python \n",
    "            A[i], A[j] = A[j], A[i] \n",
    "  \n",
    "        A[i+1], A[ei] = A[ei], A[i+1] \n",
    "          \n",
    "    return i+1\n",
    "      "
   ]
  },
  {
   "cell_type": "code",
   "execution_count": 8,
   "metadata": {},
   "outputs": [
    {
     "name": "stdout",
     "output_type": "stream",
     "text": [
      "Array has two elements with the given sum\n"
     ]
    }
   ],
   "source": [
    "# A is our array or list in our case\n",
    "A = [1,4,45,6,10,-8] \n",
    "# n is the sum\n",
    "n = 16\n",
    "if (hasArrayTwoCandidates(A, len(A), n)): \n",
    "    print(\"Array has two elements with the given sum\") \n",
    "else: \n",
    "    print(\"Array doesn't have two elements with the given sum\") "
   ]
  }
 ],
 "metadata": {
  "kernelspec": {
   "display_name": "Python 3",
   "language": "python",
   "name": "python3"
  },
  "language_info": {
   "codemirror_mode": {
    "name": "ipython",
    "version": 3
   },
   "file_extension": ".py",
   "mimetype": "text/x-python",
   "name": "python",
   "nbconvert_exporter": "python",
   "pygments_lexer": "ipython3",
   "version": "3.7.0"
  }
 },
 "nbformat": 4,
 "nbformat_minor": 2
}
