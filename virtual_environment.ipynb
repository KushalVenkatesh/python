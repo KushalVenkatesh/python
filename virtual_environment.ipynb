{
 "cells": [
  {
   "cell_type": "code",
   "execution_count": 2,
   "metadata": {},
   "outputs": [
    {
     "name": "stdout",
     "output_type": "stream",
     "text": [
      "Using base prefix 'c:\\\\users\\\\kusha\\\\newanaconda3'\n",
      "New python executable in D:\\python3\\myenv\\Scripts\\python.exe\n",
      "Installing setuptools, pip, wheel...done.\n",
      "Running virtualenv with interpreter python.exe\n"
     ]
    }
   ],
   "source": [
    "!virtualenv -p python myenv "
   ]
  },
  {
   "cell_type": "code",
   "execution_count": 3,
   "metadata": {},
   "outputs": [
    {
     "data": {
      "text/plain": [
       "'D:\\\\python3'"
      ]
     },
     "execution_count": 3,
     "metadata": {},
     "output_type": "execute_result"
    }
   ],
   "source": [
    "pwd\n"
   ]
  },
  {
   "cell_type": "code",
   "execution_count": 4,
   "metadata": {},
   "outputs": [
    {
     "name": "stdout",
     "output_type": "stream",
     "text": [
      " Volume in drive D is RECOVERY\n",
      " Volume Serial Number is B8C5-8737\n",
      "\n",
      " Directory of D:\\python3\n",
      "\n",
      "07-Jan-19  07:05 PM    <DIR>          .\n",
      "07-Jan-19  07:05 PM    <DIR>          ..\n",
      "07-Jan-19  07:04 PM    <DIR>          .ipynb_checkpoints\n",
      "29-Nov-18  09:29 PM    <DIR>          __pycache__\n",
      "21-Dec-18  03:55 PM            13,302 1T_14122018D224E36A0DCB49F98D7DD0672025E8D9.XLSX\n",
      "21-Dec-18  06:18 PM            11,895 6T_1412201814A120B6C7D6480C9043C96D01B16754.XLSX\n",
      "20-Apr-18  06:58 PM            19,208 api-ms-win-core-console-l1-1-0.dll\n",
      "20-Apr-18  06:58 PM            18,696 api-ms-win-core-datetime-l1-1-0.dll\n",
      "20-Apr-18  06:58 PM            18,696 api-ms-win-core-debug-l1-1-0.dll\n",
      "20-Apr-18  06:58 PM            18,696 api-ms-win-core-errorhandling-l1-1-0.dll\n",
      "20-Apr-18  06:59 PM            22,280 api-ms-win-core-file-l1-1-0.dll\n",
      "20-Apr-18  07:07 PM            18,696 api-ms-win-core-file-l1-2-0.dll\n",
      "20-Apr-18  07:07 PM            18,696 api-ms-win-core-file-l2-1-0.dll\n",
      "20-Apr-18  07:07 PM            18,696 api-ms-win-core-handle-l1-1-0.dll\n",
      "20-Apr-18  07:07 PM            19,208 api-ms-win-core-heap-l1-1-0.dll\n",
      "20-Apr-18  07:07 PM            18,696 api-ms-win-core-interlocked-l1-1-0.dll\n",
      "20-Apr-18  07:07 PM            19,720 api-ms-win-core-libraryloader-l1-1-0.dll\n",
      "20-Apr-18  07:07 PM            21,256 api-ms-win-core-localization-l1-2-0.dll\n",
      "20-Apr-18  07:07 PM            19,208 api-ms-win-core-memory-l1-1-0.dll\n",
      "20-Apr-18  07:07 PM            18,696 api-ms-win-core-namedpipe-l1-1-0.dll\n",
      "20-Apr-18  07:07 PM            19,720 api-ms-win-core-processenvironment-l1-1-0.dll\n",
      "20-Apr-18  07:07 PM            20,744 api-ms-win-core-processthreads-l1-1-0.dll\n",
      "20-Apr-18  07:07 PM            19,208 api-ms-win-core-processthreads-l1-1-1.dll\n",
      "20-Apr-18  07:07 PM            18,184 api-ms-win-core-profile-l1-1-0.dll\n",
      "20-Apr-18  07:07 PM            19,208 api-ms-win-core-rtlsupport-l1-1-0.dll\n",
      "20-Apr-18  07:07 PM            18,696 api-ms-win-core-string-l1-1-0.dll\n",
      "20-Apr-18  07:07 PM            20,744 api-ms-win-core-synch-l1-1-0.dll\n",
      "20-Apr-18  07:07 PM            19,208 api-ms-win-core-synch-l1-2-0.dll\n",
      "20-Apr-18  07:07 PM            19,720 api-ms-win-core-sysinfo-l1-1-0.dll\n",
      "20-Apr-18  07:07 PM            19,208 api-ms-win-core-timezone-l1-1-0.dll\n",
      "20-Apr-18  07:07 PM            18,696 api-ms-win-core-util-l1-1-0.dll\n",
      "20-Apr-18  07:07 PM            19,720 api-ms-win-crt-conio-l1-1-0.dll\n",
      "20-Apr-18  07:07 PM            22,792 api-ms-win-crt-convert-l1-1-0.dll\n",
      "20-Apr-18  07:07 PM            19,208 api-ms-win-crt-environment-l1-1-0.dll\n",
      "20-Apr-18  07:07 PM            20,744 api-ms-win-crt-filesystem-l1-1-0.dll\n",
      "20-Apr-18  07:07 PM            19,720 api-ms-win-crt-heap-l1-1-0.dll\n",
      "20-Apr-18  07:07 PM            19,208 api-ms-win-crt-locale-l1-1-0.dll\n",
      "20-Apr-18  07:07 PM            27,912 api-ms-win-crt-math-l1-1-0.dll\n",
      "20-Apr-18  07:07 PM            26,888 api-ms-win-crt-multibyte-l1-1-0.dll\n",
      "20-Apr-18  07:07 PM            71,432 api-ms-win-crt-private-l1-1-0.dll\n",
      "20-Apr-18  07:07 PM            19,720 api-ms-win-crt-process-l1-1-0.dll\n",
      "20-Apr-18  07:07 PM            23,304 api-ms-win-crt-runtime-l1-1-0.dll\n",
      "20-Apr-18  07:07 PM            24,840 api-ms-win-crt-stdio-l1-1-0.dll\n",
      "20-Apr-18  07:07 PM            24,840 api-ms-win-crt-string-l1-1-0.dll\n",
      "20-Apr-18  07:07 PM            21,256 api-ms-win-crt-time-l1-1-0.dll\n",
      "20-Apr-18  07:07 PM            19,208 api-ms-win-crt-utility-l1-1-0.dll\n",
      "26-Nov-18  09:37 PM               598 app.py\n",
      "26-Nov-18  09:38 PM               149 appli123.py\n",
      "25-Nov-18  05:40 PM           245,948 applied ML.ipynb\n",
      "30-Nov-18  10:11 PM    <DIR>          bucket_api_heroku\n",
      "18-Dec-18  07:10 PM    <DIR>          building_NN\n",
      "27-Nov-18  08:09 PM             1,478 chatbot.txt\n",
      "06-Dec-18  04:05 PM            42,442 chatbot_from_scratch_11_27_2018.ipynb\n",
      "26-Nov-18  09:25 PM            45,884 chatbot2018.ipynb\n",
      "03-Dec-18  08:19 PM             4,163 chatbot2018.txt\n",
      "03-Dec-18  08:12 PM             4,163 chatbottext.txt\n",
      "29-Nov-18  10:09 PM             5,009 coding_questions_answers_11_29_2018.ipynb\n",
      "21-Sep-18  01:53 AM           329,368 concrt140.dll\n",
      "18-Dec-18  08:36 PM    <DIR>          conda-meta\n",
      "25-Nov-18  12:16 PM            94,746 credit_risk_analysis_AVDay2session1.ipynb\n",
      "25-Nov-18  11:08 AM               334 creditRisk.csv\n",
      "29-Aug-18  12:31 AM             1,093 cwp.py\n",
      "28-Nov-18  05:42 PM    <DIR>          Data\n",
      "26-Nov-18  09:39 PM           286,720 db.sqlite3\n",
      "07-Jan-19  07:03 PM             3,032 django_project1.ipynb\n",
      "25-Nov-18  10:43 AM    <DIR>          DLLs\n",
      "18-Dec-18  09:35 PM    <DIR>          envs\n",
      "25-Nov-18  10:44 AM    <DIR>          etc\n",
      "19-Dec-18  10:40 AM    <DIR>          FaceRec\n",
      "26-Nov-18  07:50 PM    <DIR>          flask-chatterbot-master (1)\n",
      "28-Nov-18  07:51 PM    <DIR>          heroku\n",
      "28-Nov-18  06:54 PM    <DIR>          heroku-buildpack-python-master\n",
      "25-Nov-18  12:58 PM           210,352 historical_loan.csv\n",
      "25-Nov-18  10:43 AM    <DIR>          include\n",
      "25-Nov-18  10:43 AM    <DIR>          Lib\n",
      "18-Dec-18  08:36 PM    <DIR>          Library\n",
      "25-Nov-18  10:43 AM    <DIR>          libs\n",
      "27-Jun-18  09:37 AM            12,763 LICENSE_PYTHON.txt\n",
      "25-Nov-18  10:43 AM    <DIR>          man\n",
      "18-Dec-18  08:26 PM    <DIR>          Menu\n",
      "21-Sep-18  01:53 AM           625,808 msvcp140.dll\n",
      "21-Sep-18  01:53 AM            31,896 msvcp140_1.dll\n",
      "21-Sep-18  01:53 AM           195,248 msvcp140_2.dll\n",
      "07-Jan-19  07:05 PM    <DIR>          myenv\n",
      "14-Aug-18  08:12 PM           506,880 openssl.exe\n",
      "18-Dec-18  09:14 PM    <DIR>          pkgs\n",
      "21-Dec-18  12:15 PM            89,829 practice21dec2018.ipynb\n",
      "28-Jun-18  07:36 PM            93,696 python.exe\n",
      "28-Jun-18  07:36 PM           430,080 python.pdb\n",
      "13-Dec-18  06:56 PM             1,080 Python__init__method_and_self.ipynb\n",
      "26-Nov-18  09:20 PM             9,727 python2vspython3.ipynb\n",
      "28-Jun-18  07:36 PM            51,712 python3.dll\n",
      "28-Jun-18  07:35 PM         3,843,072 python37.dll\n",
      "28-Jun-18  07:35 PM         9,916,416 python37.pdb\n",
      "28-Jun-18  07:36 PM            92,160 pythonw.exe\n",
      "28-Jun-18  07:36 PM           430,080 pythonw.pdb\n",
      "25-Nov-18  10:43 AM               199 qt.conf\n",
      "03-Dec-18  09:31 AM             2,243 qualcom questionaire.txt\n",
      "06-Jan-19  12:58 PM             6,771 range.ipynb\n",
      "21-Dec-18  06:14 PM            23,341 RBI_bulletin_analysis.ipynb\n",
      "21-Dec-18  06:05 PM           322,320 rbi_data_analysis.ipynb\n",
      "13-Dec-18  08:17 PM               906 regular_expression.ipynb\n",
      "26-Nov-18  09:38 PM               140 requirements.txt\n",
      "04-Jan-19  09:34 PM             6,092 return_odd_numbers.ipynb\n",
      "05-Jan-19  11:05 AM    <DIR>          Scripts\n",
      "04-Jan-19  09:10 PM             3,379 searching_an_element_in_a_array.ipynb\n",
      "25-Nov-18  10:43 AM    <DIR>          share\n",
      "25-Nov-18  10:43 AM    <DIR>          sip\n",
      "21-Dec-18  06:41 PM            48,406 stock_prices.ipynb\n",
      "25-Nov-18  10:43 AM    <DIR>          tcl\n",
      "25-Nov-18  10:43 AM    <DIR>          Tools\n",
      "20-Apr-18  07:07 PM         1,016,584 ucrtbase.dll\n",
      "25-Nov-18  10:44 AM           302,868 Uninstall-Anaconda3.exe\n",
      "25-Nov-18  11:09 AM               555 Untitled.ipynb\n",
      "26-Nov-18  09:35 PM               733 Untitled1.ipynb\n",
      "29-Dec-18  12:44 PM            44,846 Untitled10.ipynb\n",
      "26-Nov-18  09:38 PM               555 Untitled2.ipynb\n",
      "28-Nov-18  06:25 PM               555 Untitled3.ipynb\n",
      "28-Nov-18  06:57 PM               606 Untitled4.ipynb\n",
      "17-Dec-18  07:14 PM             1,564 Untitled5.ipynb\n",
      "17-Dec-18  08:01 PM             1,329 Untitled6.ipynb\n",
      "19-Dec-18  08:33 PM             8,626 Untitled7.ipynb\n",
      "20-Dec-18  08:25 PM             2,351 Untitled8.ipynb\n",
      "29-Dec-18  11:35 AM             4,858 Untitled9.ipynb\n",
      "21-Sep-18  01:53 AM           386,720 vccorlib140.dll\n",
      "21-Sep-18  01:53 AM           155,280 vcomp140.dll\n",
      "21-Sep-18  01:53 AM            87,200 vcruntime140.dll\n",
      "07-Jan-19  07:04 PM                72 virtual_environment.ipynb\n",
      "08-Nov-18  05:52 PM             8,248 vscode_eula.txt\n",
      "29-Nov-18  09:29 PM                72 welcome.py\n",
      "14-May-18  03:53 AM           293,888 xlwings32-0.11.8.dll\n",
      "14-May-18  03:53 AM           367,104 xlwings64-0.11.8.dll\n",
      "             104 File(s)     21,594,110 bytes\n",
      "              28 Dir(s)     703,504,384 bytes free\n"
     ]
    }
   ],
   "source": [
    "ls"
   ]
  },
  {
   "cell_type": "markdown",
   "metadata": {},
   "source": [
    "virtualenv -p python3 myenv  \n",
    "cd myenv\n",
    "source bin/activate\n",
    "pip3 install django"
   ]
  },
  {
   "cell_type": "code",
   "execution_count": 5,
   "metadata": {},
   "outputs": [
    {
     "name": "stdout",
     "output_type": "stream",
     "text": [
      "D:\\python3\\myenv\n"
     ]
    }
   ],
   "source": [
    "cd myenv"
   ]
  },
  {
   "cell_type": "code",
   "execution_count": 8,
   "metadata": {},
   "outputs": [
    {
     "name": "stdout",
     "output_type": "stream",
     "text": [
      " Volume in drive D is RECOVERY\n",
      " Volume Serial Number is B8C5-8737\n",
      "\n",
      " Directory of D:\\python3\\myenv\n",
      "\n",
      "07-Jan-19  07:05 PM    <DIR>          .\n",
      "07-Jan-19  07:05 PM    <DIR>          ..\n",
      "14-Jun-18  08:54 AM    <DIR>          Include\n",
      "07-Jan-19  07:05 PM    <DIR>          Lib\n",
      "07-Jan-19  07:05 PM                59 pip-selfcheck.json\n",
      "07-Jan-19  07:05 PM    <DIR>          Scripts\n",
      "07-Jan-19  07:05 PM    <DIR>          tcl\n",
      "               1 File(s)             59 bytes\n",
      "               6 Dir(s)     703,492,096 bytes free\n"
     ]
    }
   ],
   "source": [
    "ls"
   ]
  },
  {
   "cell_type": "code",
   "execution_count": 10,
   "metadata": {},
   "outputs": [
    {
     "name": "stdout",
     "output_type": "stream",
     "text": [
      "D:\\python3\\myenv\\Lib\n"
     ]
    }
   ],
   "source": [
    "cd Lib"
   ]
  },
  {
   "cell_type": "code",
   "execution_count": 12,
   "metadata": {},
   "outputs": [
    {
     "name": "stdout",
     "output_type": "stream",
     "text": [
      "D:\\python3\\myenv\n"
     ]
    }
   ],
   "source": [
    "cd .."
   ]
  },
  {
   "cell_type": "code",
   "execution_count": 13,
   "metadata": {},
   "outputs": [
    {
     "name": "stdout",
     "output_type": "stream",
     "text": [
      "D:\\python3\\myenv\\Scripts\n"
     ]
    }
   ],
   "source": [
    "cd Scripts/"
   ]
  },
  {
   "cell_type": "code",
   "execution_count": 16,
   "metadata": {},
   "outputs": [
    {
     "name": "stdout",
     "output_type": "stream",
     "text": [
      "D:\\python3\\myenv\n"
     ]
    }
   ],
   "source": [
    "cd .."
   ]
  },
  {
   "cell_type": "code",
   "execution_count": 19,
   "metadata": {},
   "outputs": [
    {
     "ename": "SyntaxError",
     "evalue": "invalid syntax (<ipython-input-19-2e56b9f448ac>, line 1)",
     "output_type": "error",
     "traceback": [
      "\u001b[1;36m  File \u001b[1;32m\"<ipython-input-19-2e56b9f448ac>\"\u001b[1;36m, line \u001b[1;32m1\u001b[0m\n\u001b[1;33m    source D:\\\\python3\\\\myenv\\\\Scripts\\\\activate\u001b[0m\n\u001b[1;37m           ^\u001b[0m\n\u001b[1;31mSyntaxError\u001b[0m\u001b[1;31m:\u001b[0m invalid syntax\n"
     ]
    }
   ],
   "source": [
    "source D:\\\\python3\\\\myenv\\\\Scripts\\\\activate"
   ]
  },
  {
   "cell_type": "code",
   "execution_count": 22,
   "metadata": {},
   "outputs": [
    {
     "name": "stdout",
     "output_type": "stream",
     "text": [
      "D:\\python3\n"
     ]
    }
   ],
   "source": [
    "cd ..\n"
   ]
  },
  {
   "cell_type": "code",
   "execution_count": 23,
   "metadata": {},
   "outputs": [
    {
     "name": "stdout",
     "output_type": "stream",
     "text": [
      " Volume in drive D is RECOVERY\n",
      " Volume Serial Number is B8C5-8737\n",
      "\n",
      " Directory of D:\\python3\n",
      "\n",
      "07-Jan-19  07:24 PM    <DIR>          .\n",
      "07-Jan-19  07:24 PM    <DIR>          ..\n",
      "07-Jan-19  07:04 PM    <DIR>          .ipynb_checkpoints\n",
      "29-Nov-18  09:29 PM    <DIR>          __pycache__\n",
      "21-Dec-18  03:55 PM            13,302 1T_14122018D224E36A0DCB49F98D7DD0672025E8D9.XLSX\n",
      "21-Dec-18  06:18 PM            11,895 6T_1412201814A120B6C7D6480C9043C96D01B16754.XLSX\n",
      "20-Apr-18  06:58 PM            19,208 api-ms-win-core-console-l1-1-0.dll\n",
      "20-Apr-18  06:58 PM            18,696 api-ms-win-core-datetime-l1-1-0.dll\n",
      "20-Apr-18  06:58 PM            18,696 api-ms-win-core-debug-l1-1-0.dll\n",
      "20-Apr-18  06:58 PM            18,696 api-ms-win-core-errorhandling-l1-1-0.dll\n",
      "20-Apr-18  06:59 PM            22,280 api-ms-win-core-file-l1-1-0.dll\n",
      "20-Apr-18  07:07 PM            18,696 api-ms-win-core-file-l1-2-0.dll\n",
      "20-Apr-18  07:07 PM            18,696 api-ms-win-core-file-l2-1-0.dll\n",
      "20-Apr-18  07:07 PM            18,696 api-ms-win-core-handle-l1-1-0.dll\n",
      "20-Apr-18  07:07 PM            19,208 api-ms-win-core-heap-l1-1-0.dll\n",
      "20-Apr-18  07:07 PM            18,696 api-ms-win-core-interlocked-l1-1-0.dll\n",
      "20-Apr-18  07:07 PM            19,720 api-ms-win-core-libraryloader-l1-1-0.dll\n",
      "20-Apr-18  07:07 PM            21,256 api-ms-win-core-localization-l1-2-0.dll\n",
      "20-Apr-18  07:07 PM            19,208 api-ms-win-core-memory-l1-1-0.dll\n",
      "20-Apr-18  07:07 PM            18,696 api-ms-win-core-namedpipe-l1-1-0.dll\n",
      "20-Apr-18  07:07 PM            19,720 api-ms-win-core-processenvironment-l1-1-0.dll\n",
      "20-Apr-18  07:07 PM            20,744 api-ms-win-core-processthreads-l1-1-0.dll\n",
      "20-Apr-18  07:07 PM            19,208 api-ms-win-core-processthreads-l1-1-1.dll\n",
      "20-Apr-18  07:07 PM            18,184 api-ms-win-core-profile-l1-1-0.dll\n",
      "20-Apr-18  07:07 PM            19,208 api-ms-win-core-rtlsupport-l1-1-0.dll\n",
      "20-Apr-18  07:07 PM            18,696 api-ms-win-core-string-l1-1-0.dll\n",
      "20-Apr-18  07:07 PM            20,744 api-ms-win-core-synch-l1-1-0.dll\n",
      "20-Apr-18  07:07 PM            19,208 api-ms-win-core-synch-l1-2-0.dll\n",
      "20-Apr-18  07:07 PM            19,720 api-ms-win-core-sysinfo-l1-1-0.dll\n",
      "20-Apr-18  07:07 PM            19,208 api-ms-win-core-timezone-l1-1-0.dll\n",
      "20-Apr-18  07:07 PM            18,696 api-ms-win-core-util-l1-1-0.dll\n",
      "20-Apr-18  07:07 PM            19,720 api-ms-win-crt-conio-l1-1-0.dll\n",
      "20-Apr-18  07:07 PM            22,792 api-ms-win-crt-convert-l1-1-0.dll\n",
      "20-Apr-18  07:07 PM            19,208 api-ms-win-crt-environment-l1-1-0.dll\n",
      "20-Apr-18  07:07 PM            20,744 api-ms-win-crt-filesystem-l1-1-0.dll\n",
      "20-Apr-18  07:07 PM            19,720 api-ms-win-crt-heap-l1-1-0.dll\n",
      "20-Apr-18  07:07 PM            19,208 api-ms-win-crt-locale-l1-1-0.dll\n",
      "20-Apr-18  07:07 PM            27,912 api-ms-win-crt-math-l1-1-0.dll\n",
      "20-Apr-18  07:07 PM            26,888 api-ms-win-crt-multibyte-l1-1-0.dll\n",
      "20-Apr-18  07:07 PM            71,432 api-ms-win-crt-private-l1-1-0.dll\n",
      "20-Apr-18  07:07 PM            19,720 api-ms-win-crt-process-l1-1-0.dll\n",
      "20-Apr-18  07:07 PM            23,304 api-ms-win-crt-runtime-l1-1-0.dll\n",
      "20-Apr-18  07:07 PM            24,840 api-ms-win-crt-stdio-l1-1-0.dll\n",
      "20-Apr-18  07:07 PM            24,840 api-ms-win-crt-string-l1-1-0.dll\n",
      "20-Apr-18  07:07 PM            21,256 api-ms-win-crt-time-l1-1-0.dll\n",
      "20-Apr-18  07:07 PM            19,208 api-ms-win-crt-utility-l1-1-0.dll\n",
      "26-Nov-18  09:37 PM               598 app.py\n",
      "26-Nov-18  09:38 PM               149 appli123.py\n",
      "25-Nov-18  05:40 PM           245,948 applied ML.ipynb\n",
      "30-Nov-18  10:11 PM    <DIR>          bucket_api_heroku\n",
      "18-Dec-18  07:10 PM    <DIR>          building_NN\n",
      "27-Nov-18  08:09 PM             1,478 chatbot.txt\n",
      "06-Dec-18  04:05 PM            42,442 chatbot_from_scratch_11_27_2018.ipynb\n",
      "26-Nov-18  09:25 PM            45,884 chatbot2018.ipynb\n",
      "03-Dec-18  08:19 PM             4,163 chatbot2018.txt\n",
      "03-Dec-18  08:12 PM             4,163 chatbottext.txt\n",
      "29-Nov-18  10:09 PM             5,009 coding_questions_answers_11_29_2018.ipynb\n",
      "21-Sep-18  01:53 AM           329,368 concrt140.dll\n",
      "18-Dec-18  08:36 PM    <DIR>          conda-meta\n",
      "25-Nov-18  12:16 PM            94,746 credit_risk_analysis_AVDay2session1.ipynb\n",
      "25-Nov-18  11:08 AM               334 creditRisk.csv\n",
      "29-Aug-18  12:31 AM             1,093 cwp.py\n",
      "28-Nov-18  05:42 PM    <DIR>          Data\n",
      "26-Nov-18  09:39 PM           286,720 db.sqlite3\n",
      "07-Jan-19  07:03 PM             3,032 django_project1.ipynb\n",
      "25-Nov-18  10:43 AM    <DIR>          DLLs\n",
      "18-Dec-18  09:35 PM    <DIR>          envs\n",
      "25-Nov-18  10:44 AM    <DIR>          etc\n",
      "19-Dec-18  10:40 AM    <DIR>          FaceRec\n",
      "26-Nov-18  07:50 PM    <DIR>          flask-chatterbot-master (1)\n",
      "28-Nov-18  07:51 PM    <DIR>          heroku\n",
      "28-Nov-18  06:54 PM    <DIR>          heroku-buildpack-python-master\n",
      "25-Nov-18  12:58 PM           210,352 historical_loan.csv\n",
      "25-Nov-18  10:43 AM    <DIR>          include\n",
      "25-Nov-18  10:43 AM    <DIR>          Lib\n",
      "18-Dec-18  08:36 PM    <DIR>          Library\n",
      "25-Nov-18  10:43 AM    <DIR>          libs\n",
      "27-Jun-18  09:37 AM            12,763 LICENSE_PYTHON.txt\n",
      "25-Nov-18  10:43 AM    <DIR>          man\n",
      "18-Dec-18  08:26 PM    <DIR>          Menu\n",
      "21-Sep-18  01:53 AM           625,808 msvcp140.dll\n",
      "21-Sep-18  01:53 AM            31,896 msvcp140_1.dll\n",
      "21-Sep-18  01:53 AM           195,248 msvcp140_2.dll\n",
      "07-Jan-19  07:05 PM    <DIR>          myenv\n",
      "14-Aug-18  08:12 PM           506,880 openssl.exe\n",
      "18-Dec-18  09:14 PM    <DIR>          pkgs\n",
      "21-Dec-18  12:15 PM            89,829 practice21dec2018.ipynb\n",
      "28-Jun-18  07:36 PM            93,696 python.exe\n",
      "28-Jun-18  07:36 PM           430,080 python.pdb\n",
      "13-Dec-18  06:56 PM             1,080 Python__init__method_and_self.ipynb\n",
      "26-Nov-18  09:20 PM             9,727 python2vspython3.ipynb\n",
      "28-Jun-18  07:36 PM            51,712 python3.dll\n",
      "28-Jun-18  07:35 PM         3,843,072 python37.dll\n",
      "28-Jun-18  07:35 PM         9,916,416 python37.pdb\n",
      "28-Jun-18  07:36 PM            92,160 pythonw.exe\n",
      "28-Jun-18  07:36 PM           430,080 pythonw.pdb\n",
      "25-Nov-18  10:43 AM               199 qt.conf\n",
      "03-Dec-18  09:31 AM             2,243 qualcom questionaire.txt\n",
      "06-Jan-19  12:58 PM             6,771 range.ipynb\n",
      "21-Dec-18  06:14 PM            23,341 RBI_bulletin_analysis.ipynb\n",
      "21-Dec-18  06:05 PM           322,320 rbi_data_analysis.ipynb\n",
      "13-Dec-18  08:17 PM               906 regular_expression.ipynb\n",
      "26-Nov-18  09:38 PM               140 requirements.txt\n",
      "04-Jan-19  09:34 PM             6,092 return_odd_numbers.ipynb\n",
      "05-Jan-19  11:05 AM    <DIR>          Scripts\n",
      "04-Jan-19  09:10 PM             3,379 searching_an_element_in_a_array.ipynb\n",
      "25-Nov-18  10:43 AM    <DIR>          share\n",
      "25-Nov-18  10:43 AM    <DIR>          sip\n",
      "21-Dec-18  06:41 PM            48,406 stock_prices.ipynb\n",
      "25-Nov-18  10:43 AM    <DIR>          tcl\n",
      "25-Nov-18  10:43 AM    <DIR>          Tools\n",
      "20-Apr-18  07:07 PM         1,016,584 ucrtbase.dll\n",
      "25-Nov-18  10:44 AM           302,868 Uninstall-Anaconda3.exe\n",
      "25-Nov-18  11:09 AM               555 Untitled.ipynb\n",
      "26-Nov-18  09:35 PM               733 Untitled1.ipynb\n",
      "29-Dec-18  12:44 PM            44,846 Untitled10.ipynb\n",
      "26-Nov-18  09:38 PM               555 Untitled2.ipynb\n",
      "28-Nov-18  06:25 PM               555 Untitled3.ipynb\n",
      "28-Nov-18  06:57 PM               606 Untitled4.ipynb\n",
      "17-Dec-18  07:14 PM             1,564 Untitled5.ipynb\n",
      "17-Dec-18  08:01 PM             1,329 Untitled6.ipynb\n",
      "19-Dec-18  08:33 PM             8,626 Untitled7.ipynb\n",
      "20-Dec-18  08:25 PM             2,351 Untitled8.ipynb\n",
      "29-Dec-18  11:35 AM             4,858 Untitled9.ipynb\n",
      "21-Sep-18  01:53 AM           386,720 vccorlib140.dll\n",
      "21-Sep-18  01:53 AM           155,280 vcomp140.dll\n",
      "21-Sep-18  01:53 AM            87,200 vcruntime140.dll\n",
      "07-Jan-19  07:24 PM            19,897 virtual_environment.ipynb\n",
      "08-Nov-18  05:52 PM             8,248 vscode_eula.txt\n",
      "29-Nov-18  09:29 PM                72 welcome.py\n",
      "14-May-18  03:53 AM           293,888 xlwings32-0.11.8.dll\n",
      "14-May-18  03:53 AM           367,104 xlwings64-0.11.8.dll\n",
      "             104 File(s)     21,613,935 bytes\n",
      "              28 Dir(s)     703,483,904 bytes free\n"
     ]
    }
   ],
   "source": [
    "ls"
   ]
  },
  {
   "cell_type": "code",
   "execution_count": 24,
   "metadata": {},
   "outputs": [
    {
     "name": "stdout",
     "output_type": "stream",
     "text": [
      "D:\\python3\\envs\n"
     ]
    }
   ],
   "source": [
    "cd envs"
   ]
  },
  {
   "cell_type": "code",
   "execution_count": 25,
   "metadata": {},
   "outputs": [
    {
     "name": "stdout",
     "output_type": "stream",
     "text": [
      "D:\\python3\\envs\\newenvt\\library\n"
     ]
    }
   ],
   "source": [
    "cd newenvt/library"
   ]
  },
  {
   "cell_type": "code",
   "execution_count": 26,
   "metadata": {},
   "outputs": [
    {
     "name": "stdout",
     "output_type": "stream",
     "text": [
      " Volume in drive D is RECOVERY\n",
      " Volume Serial Number is B8C5-8737\n",
      "\n",
      " Directory of D:\\python3\\envs\\newenvt\\library\n",
      "\n",
      "18-Dec-18  09:18 PM    <DIR>          .\n",
      "18-Dec-18  09:18 PM    <DIR>          ..\n",
      "18-Dec-18  09:18 PM    <DIR>          bin\n",
      "18-Dec-18  09:18 PM    <DIR>          cmake\n",
      "15-Mar-18  08:49 PM               558 COPYING\n",
      "18-Dec-18  09:18 PM    <DIR>          doc\n",
      "18-Dec-18  09:18 PM    <DIR>          include\n",
      "18-Dec-18  09:18 PM    <DIR>          lib\n",
      "18-Dec-18  09:17 PM    <DIR>          libexec\n",
      "18-Dec-18  09:17 PM    <DIR>          mingw-w64\n",
      "18-Dec-18  09:18 PM    <DIR>          mkspecs\n",
      "18-Dec-18  09:18 PM    <DIR>          phrasebooks\n",
      "18-Dec-18  09:18 PM    <DIR>          plugins\n",
      "18-Dec-18  09:18 PM    <DIR>          qml\n",
      "30-Mar-18  01:48 AM            51,355 RELEASE.txt\n",
      "18-Dec-18  09:18 PM    <DIR>          resources\n",
      "18-Dec-18  09:18 PM    <DIR>          share\n",
      "18-Dec-18  09:17 PM    <DIR>          ssl\n",
      "18-Dec-18  09:18 PM    <DIR>          translations\n",
      "30-Mar-18  01:02 AM            19,897 USING_HDF5_CMake.txt\n",
      "30-Mar-18  01:02 AM             3,927 USING_HDF5_VS.txt\n",
      "               4 File(s)         75,737 bytes\n",
      "              17 Dir(s)     703,483,904 bytes free\n"
     ]
    }
   ],
   "source": [
    "ls"
   ]
  },
  {
   "cell_type": "code",
   "execution_count": 30,
   "metadata": {},
   "outputs": [
    {
     "name": "stdout",
     "output_type": "stream",
     "text": [
      "D:\\python3\\envs\\newenvt\\library\\bin\n"
     ]
    }
   ],
   "source": [
    "cd bin"
   ]
  },
  {
   "cell_type": "code",
   "execution_count": 33,
   "metadata": {},
   "outputs": [
    {
     "ename": "NameError",
     "evalue": "name 'source' is not defined",
     "output_type": "error",
     "traceback": [
      "\u001b[1;31m---------------------------------------------------------------------------\u001b[0m",
      "\u001b[1;31mNameError\u001b[0m                                 Traceback (most recent call last)",
      "\u001b[1;32m<ipython-input-33-16781e182d55>\u001b[0m in \u001b[0;36m<module>\u001b[1;34m()\u001b[0m\n\u001b[1;32m----> 1\u001b[1;33m \u001b[0msource\u001b[0m \u001b[1;33m/\u001b[0m\u001b[0mactivate\u001b[0m\u001b[1;33m\u001b[0m\u001b[0m\n\u001b[0m",
      "\u001b[1;31mNameError\u001b[0m: name 'source' is not defined"
     ]
    }
   ],
   "source": [
    "source /activate"
   ]
  },
  {
   "cell_type": "code",
   "execution_count": 34,
   "metadata": {},
   "outputs": [
    {
     "name": "stdout",
     "output_type": "stream",
     "text": [
      " Volume in drive D is RECOVERY\n",
      " Volume Serial Number is B8C5-8737\n",
      "\n",
      " Directory of D:\\python3\\envs\\newenvt\\library\\bin\n",
      "\n",
      "18-Dec-18  09:18 PM    <DIR>          .\n",
      "18-Dec-18  09:18 PM    <DIR>          ..\n",
      "18-Dec-18  09:17 PM    <DIR>          1033\n",
      "18-Dec-18  09:17 PM    <DIR>          1041\n",
      "20-Apr-18  06:58 PM            19,208 api-ms-win-core-console-l1-1-0.dll\n",
      "20-Apr-18  06:58 PM            18,696 api-ms-win-core-datetime-l1-1-0.dll\n",
      "20-Apr-18  06:58 PM            18,696 api-ms-win-core-debug-l1-1-0.dll\n",
      "20-Apr-18  06:58 PM            18,696 api-ms-win-core-errorhandling-l1-1-0.dll\n",
      "20-Apr-18  06:59 PM            22,280 api-ms-win-core-file-l1-1-0.dll\n",
      "20-Apr-18  07:07 PM            18,696 api-ms-win-core-file-l1-2-0.dll\n",
      "20-Apr-18  07:07 PM            18,696 api-ms-win-core-file-l2-1-0.dll\n",
      "20-Apr-18  07:07 PM            18,696 api-ms-win-core-handle-l1-1-0.dll\n",
      "20-Apr-18  07:07 PM            19,208 api-ms-win-core-heap-l1-1-0.dll\n",
      "20-Apr-18  07:07 PM            18,696 api-ms-win-core-interlocked-l1-1-0.dll\n",
      "20-Apr-18  07:07 PM            19,720 api-ms-win-core-libraryloader-l1-1-0.dll\n",
      "20-Apr-18  07:07 PM            21,256 api-ms-win-core-localization-l1-2-0.dll\n",
      "20-Apr-18  07:07 PM            19,208 api-ms-win-core-memory-l1-1-0.dll\n",
      "20-Apr-18  07:07 PM            18,696 api-ms-win-core-namedpipe-l1-1-0.dll\n",
      "20-Apr-18  07:07 PM            19,720 api-ms-win-core-processenvironment-l1-1-0.dll\n",
      "20-Apr-18  07:07 PM            20,744 api-ms-win-core-processthreads-l1-1-0.dll\n",
      "20-Apr-18  07:07 PM            19,208 api-ms-win-core-processthreads-l1-1-1.dll\n",
      "20-Apr-18  07:07 PM            18,184 api-ms-win-core-profile-l1-1-0.dll\n",
      "20-Apr-18  07:07 PM            19,208 api-ms-win-core-rtlsupport-l1-1-0.dll\n",
      "20-Apr-18  07:07 PM            18,696 api-ms-win-core-string-l1-1-0.dll\n",
      "20-Apr-18  07:07 PM            20,744 api-ms-win-core-synch-l1-1-0.dll\n",
      "20-Apr-18  07:07 PM            19,208 api-ms-win-core-synch-l1-2-0.dll\n",
      "20-Apr-18  07:07 PM            19,720 api-ms-win-core-sysinfo-l1-1-0.dll\n",
      "20-Apr-18  07:07 PM            19,208 api-ms-win-core-timezone-l1-1-0.dll\n",
      "20-Apr-18  07:07 PM            18,696 api-ms-win-core-util-l1-1-0.dll\n",
      "20-Apr-18  07:07 PM            19,720 api-ms-win-crt-conio-l1-1-0.dll\n",
      "20-Apr-18  07:07 PM            22,792 api-ms-win-crt-convert-l1-1-0.dll\n",
      "20-Apr-18  07:07 PM            19,208 api-ms-win-crt-environment-l1-1-0.dll\n",
      "20-Apr-18  07:07 PM            20,744 api-ms-win-crt-filesystem-l1-1-0.dll\n",
      "20-Apr-18  07:07 PM            19,720 api-ms-win-crt-heap-l1-1-0.dll\n",
      "20-Apr-18  07:07 PM            19,208 api-ms-win-crt-locale-l1-1-0.dll\n",
      "20-Apr-18  07:07 PM            27,912 api-ms-win-crt-math-l1-1-0.dll\n",
      "20-Apr-18  07:07 PM            26,888 api-ms-win-crt-multibyte-l1-1-0.dll\n",
      "20-Apr-18  07:07 PM            71,432 api-ms-win-crt-private-l1-1-0.dll\n",
      "20-Apr-18  07:07 PM            19,720 api-ms-win-crt-process-l1-1-0.dll\n",
      "20-Apr-18  07:07 PM            23,304 api-ms-win-crt-runtime-l1-1-0.dll\n",
      "20-Apr-18  07:07 PM            24,840 api-ms-win-crt-stdio-l1-1-0.dll\n",
      "20-Apr-18  07:07 PM            24,840 api-ms-win-crt-string-l1-1-0.dll\n",
      "20-Apr-18  07:07 PM            21,256 api-ms-win-crt-time-l1-1-0.dll\n",
      "20-Apr-18  07:07 PM            19,208 api-ms-win-crt-utility-l1-1-0.dll\n",
      "25-Aug-18  06:23 PM         1,228,288 assistant.exe\n",
      "19-Aug-18  05:51 PM           250,880 blosc.dll\n",
      "23-May-18  12:57 AM           184,832 bzip2.dll\n",
      "25-Aug-18  06:03 PM            38,912 canbusutil.exe\n",
      "14-Nov-17  02:25 AM            12,288 charset.dll\n",
      "12-Apr-17  05:34 PM           313,584 cilkrts20.dll\n",
      "09-Nov-17  11:02 AM            34,304 cjpeg.exe\n",
      "21-Sep-18  01:53 AM           329,368 concrt140.dll\n",
      "25-Jul-18  08:15 PM           354,816 curl.exe\n",
      "17-Nov-17  04:28 AM            25,600 derb.exe\n",
      "25-Aug-18  06:40 PM           563,712 designer.exe\n",
      "09-Nov-17  11:02 AM            29,696 djpeg.exe\n",
      "25-Aug-18  06:02 PM           209,408 dumpcpp.exe\n",
      "25-Aug-18  06:02 PM           166,912 dumpdoc.exe\n",
      "24-Aug-18  12:10 AM            20,480 fax2ps.exe\n",
      "24-Aug-18  12:10 AM            18,944 fax2tiff.exe\n",
      "07-Jun-18  11:58 AM             6,523 fixqt4headers.pl\n",
      "27-Jul-18  03:20 AM           617,984 freetype.dll\n",
      "17-Nov-17  04:28 AM            21,504 genbrk.exe\n",
      "17-Nov-17  04:28 AM            13,312 genccode.exe\n",
      "17-Nov-17  04:28 AM            17,408 gencfu.exe\n",
      "17-Nov-17  04:28 AM            13,312 gencmn.exe\n",
      "17-Nov-17  04:28 AM            26,624 gencnval.exe\n",
      "17-Nov-17  04:28 AM            28,672 gendict.exe\n",
      "17-Nov-17  04:28 AM            52,736 gennorm2.exe\n",
      "17-Nov-17  04:28 AM           139,264 genrb.exe\n",
      "17-Nov-17  04:28 AM            25,600 gensprep.exe\n",
      "09-May-18  11:36 PM         2,303,488 gif2h5.exe\n",
      "09-May-18  11:36 PM         2,272,768 h52gif.exe\n",
      "09-May-18  11:32 PM         2,242,560 h5clear.exe\n",
      "09-May-18  11:32 PM         2,264,064 h5copy.exe\n",
      "09-May-18  11:44 PM            19,968 h5copy-shared.exe\n",
      "09-May-18  11:31 PM         2,255,872 h5debug.exe\n",
      "09-May-18  11:31 PM         2,422,784 h5diff.exe\n",
      "09-May-18  11:44 PM            26,624 h5diff-shared.exe\n",
      "09-May-18  11:33 PM         2,553,856 h5dump.exe\n",
      "09-May-18  11:45 PM           112,128 h5dump-shared.exe\n",
      "09-May-18  11:33 PM         2,255,360 h5format_convert.exe\n",
      "09-May-18  11:32 PM         2,310,144 h5import.exe\n",
      "09-May-18  11:32 PM         2,238,464 h5jam.exe\n",
      "09-May-18  11:31 PM         2,413,568 h5ls.exe\n",
      "09-May-18  11:44 PM            50,176 h5ls-shared.exe\n",
      "09-May-18  11:31 PM         2,241,536 h5mkgrp.exe\n",
      "09-May-18  11:32 PM         2,439,168 h5repack.exe\n",
      "09-May-18  11:45 PM            87,552 h5repack-shared.exe\n",
      "09-May-18  11:31 PM         2,198,016 h5repart.exe\n",
      "09-May-18  11:33 PM         2,284,032 h5stat.exe\n",
      "09-May-18  11:44 PM            32,256 h5stat-shared.exe\n",
      "09-May-18  11:32 PM         2,237,440 h5unjam.exe\n",
      "09-May-18  11:36 PM         2,368,512 h5watch.exe\n",
      "09-May-18  11:10 PM         3,059,712 hdf5.dll\n",
      "09-May-18  11:37 PM           419,840 hdf5_cpp.dll\n",
      "09-May-18  11:35 PM           113,664 hdf5_hl.dll\n",
      "09-May-18  11:45 PM            16,384 hdf5_hl_cpp.dll\n",
      "09-May-18  11:35 PM           208,384 hdf5_tools.dll\n",
      "14-Nov-17  02:25 AM           938,496 iconv.dll\n",
      "17-Nov-17  04:28 AM            26,466 icu-config\n",
      "17-Nov-17  04:28 AM        26,216,448 icudt.dll\n",
      "17-Nov-17  04:28 AM        26,216,448 icudt58.dll\n",
      "17-Nov-17  04:28 AM         2,713,088 icuin.dll\n",
      "17-Nov-17  04:28 AM         2,713,088 icuin58.dll\n",
      "17-Nov-17  04:28 AM            13,312 icuinfo.exe\n",
      "17-Nov-17  04:28 AM            66,048 icuio.dll\n",
      "17-Nov-17  04:28 AM            66,048 icuio58.dll\n",
      "17-Nov-17  04:28 AM            25,600 icupkg.exe\n",
      "17-Nov-17  04:28 AM            73,728 icutest.dll\n",
      "17-Nov-17  04:28 AM            73,728 icutest58.dll\n",
      "17-Nov-17  04:28 AM           263,168 icutu.dll\n",
      "17-Nov-17  04:28 AM           263,168 icutu58.dll\n",
      "17-Nov-17  04:28 AM         1,905,664 icuuc.dll\n",
      "17-Nov-17  04:28 AM         1,905,664 icuuc58.dll\n",
      "25-Aug-18  06:02 PM           755,712 idc.exe\n",
      "12-Apr-17  08:59 PM           394,496 ifdlg100.dll\n",
      "18-Dec-18  09:17 PM    <DIR>          irml\n",
      "18-Dec-18  09:17 PM    <DIR>          irml_c\n",
      "09-Nov-17  11:02 AM            37,376 jpegtran.exe\n",
      "25-Aug-18  06:42 PM           200,192 lconvert.exe\n",
      "23-May-18  12:57 AM           184,832 libbz2.dll\n",
      "12-Apr-17  08:59 PM           101,120 libchkp.dll\n",
      "25-Jul-18  08:15 PM           408,064 libcurl.dll\n",
      "14-Aug-18  08:11 PM         2,101,248 libeay32.dll\n",
      "25-Aug-18  05:51 PM            14,336 libEGL.dll\n",
      "26-Jan-18  11:57 PM            84,992 libexslt.dll\n",
      "25-Aug-18  05:51 PM         2,521,600 libGLESv2.dll\n",
      "12-Apr-17  08:59 PM           257,280 libicaf.dll\n",
      "12-Apr-17  08:59 PM         1,744,640 libifcoremd.dll\n",
      "12-Apr-17  08:59 PM         1,732,864 libifcorert.dll\n",
      "12-Apr-17  08:59 PM           341,760 libifportmd.dll\n",
      "04-Jun-18  07:56 PM            12,520 libimalloc.dll\n",
      "12-Apr-17  08:59 PM           935,680 libioffload_host.dll\n",
      "19-Sep-18  12:13 AM         1,694,424 libiomp5md.dll\n",
      "19-Sep-18  12:13 AM         4,566,016 libiomp5md.pdb\n",
      "19-Sep-18  12:13 AM           111,320 libiompstubs5md.dll\n",
      "12-Apr-17  08:59 PM         1,540,352 libirngmd.dll\n",
      "09-Nov-17  11:02 AM           229,376 libjpeg.dll\n",
      "12-Apr-17  08:59 PM         3,493,632 libmmd.dll\n",
      "12-Apr-17  08:59 PM            81,664 libmpx.dll\n",
      "12-Apr-17  08:59 PM           935,680 liboffload.dll\n",
      "24-Jan-18  03:22 AM           232,448 libpng16.dll\n",
      "28-Mar-18  12:42 PM           282,112 libsodium.dll\n",
      "24-Jan-18  03:38 AM           168,448 libssh2.dll\n",
      "23-May-18  03:19 PM         1,340,928 libxml2.dll\n",
      "26-Jan-18  11:56 PM           228,864 libxslt.dll\n",
      "11-Jul-18  08:21 PM           442,880 libzmq.dll\n",
      "11-Jul-18  08:21 PM            13,908 libzmq.lib\n",
      "11-Jul-18  08:18 PM           442,880 libzmq-mt-4_2_5.dll\n",
      "25-Aug-18  06:44 PM         1,332,224 linguist.exe\n",
      "25-Aug-18  06:42 PM           369,152 lrelease.exe\n",
      "25-Aug-18  06:43 PM           684,032 lupdate.exe\n",
      "22-Nov-17  02:30 AM           109,568 lzo2.dll\n",
      "17-Nov-17  04:28 AM            55,808 makeconv.exe\n",
      "18-Mar-16  12:24 PM         5,645,112 mfc140u.dll\n",
      "18-Mar-16  12:24 PM           105,792 mfcm140u.dll\n",
      "04-Jun-18  07:56 PM        39,670,504 mkl_avx.dll\n",
      "04-Jun-18  07:56 PM        47,275,752 mkl_avx2.dll\n",
      "04-Jun-18  07:56 PM        65,571,560 mkl_avx512.dll\n",
      "04-Jun-18  07:56 PM        73,317,608 mkl_avx512_mic.dll\n",
      "04-Jun-18  07:56 PM           522,984 mkl_blacs_ilp64.dll\n",
      "04-Jun-18  07:56 PM           121,064 mkl_blacs_intelmpi_ilp64.dll\n",
      "04-Jun-18  07:56 PM           121,064 mkl_blacs_intelmpi_lp64.dll\n",
      "04-Jun-18  07:56 PM           280,808 mkl_blacs_lp64.dll\n",
      "04-Jun-18  07:56 PM           121,064 mkl_blacs_mpich2_ilp64.dll\n",
      "04-Jun-18  07:56 PM           121,064 mkl_blacs_mpich2_lp64.dll\n",
      "04-Jun-18  07:56 PM           121,064 mkl_blacs_msmpi_ilp64.dll\n",
      "04-Jun-18  07:56 PM           121,064 mkl_blacs_msmpi_lp64.dll\n",
      "04-Jun-18  07:56 PM           261,352 mkl_cdft_core.dll\n",
      "04-Jun-18  07:56 PM        67,528,424 mkl_core.dll\n",
      "04-Jun-18  07:56 PM        32,727,272 mkl_def.dll\n",
      "04-Jun-18  07:56 PM        31,078,632 mkl_intel_thread.dll\n",
      "04-Jun-18  07:56 PM        38,247,656 mkl_mc.dll\n",
      "04-Jun-18  07:56 PM        39,054,568 mkl_mc3.dll\n",
      "04-Jun-18  07:56 PM        25,640,168 mkl_pgi_thread.dll\n",
      "04-Jun-18  07:56 PM        13,857,512 mkl_rt.dll\n",
      "04-Jun-18  07:56 PM         7,352,040 mkl_scalapack_ilp64.dll\n",
      "04-Jun-18  07:56 PM         7,301,352 mkl_scalapack_lp64.dll\n",
      "04-Jun-18  07:56 PM        16,129,768 mkl_sequential.dll\n",
      "04-Jun-18  07:56 PM        19,783,400 mkl_tbb_thread.dll\n",
      "04-Jun-18  07:56 PM        13,602,024 mkl_vml_avx.dll\n",
      "04-Jun-18  07:56 PM        13,343,464 mkl_vml_avx2.dll\n",
      "04-Jun-18  07:56 PM        12,266,728 mkl_vml_avx512.dll\n",
      "04-Jun-18  07:56 PM        13,989,608 mkl_vml_avx512_mic.dll\n",
      "04-Jun-18  07:56 PM         6,669,032 mkl_vml_cmpt.dll\n",
      "04-Jun-18  07:56 PM         6,896,360 mkl_vml_def.dll\n",
      "04-Jun-18  07:56 PM        12,073,704 mkl_vml_mc.dll\n",
      "04-Jun-18  07:56 PM        11,938,536 mkl_vml_mc2.dll\n",
      "04-Jun-18  07:56 PM        12,010,216 mkl_vml_mc3.dll\n",
      "25-Aug-18  05:49 PM         1,159,680 moc.exe\n",
      "21-Sep-18  01:53 AM           625,808 msvcp140.dll\n",
      "21-Sep-18  01:53 AM            31,896 msvcp140_1.dll\n",
      "21-Sep-18  01:53 AM           195,248 msvcp140_2.dll\n",
      "14-Jun-16  06:30 PM        20,923,392 opengl32sw.dll\n",
      "24-Aug-18  12:10 AM            16,896 pal2rgb.exe\n",
      "25-Aug-18  06:15 PM            52,736 pixeltool.exe\n",
      "17-Nov-17  04:28 AM            41,984 pkgdata.exe\n",
      "24-Jan-18  03:22 AM            48,128 pngfix.exe\n",
      "24-Jan-18  03:22 AM            11,776 png-fix-itxt.exe\n",
      "24-Aug-18  12:10 AM            17,408 ppm2tiff.exe\n",
      "18-Dec-18  09:17 PM                88 pylupdate5.bat\n",
      "18-Dec-18  09:17 PM                84 pyrcc5.bat\n",
      "02-Aug-18  05:12 AM           552,448 pythoncom37.dll\n",
      "18-Dec-18  09:17 PM                83 pyuic5.bat\n",
      "02-Aug-18  05:11 AM           137,216 pywintypes37.dll\n",
      "25-Aug-18  06:19 PM            51,712 qcollectiongenerator.exe\n",
      "25-Aug-18  06:16 PM            50,688 qdbus.exe\n",
      "25-Aug-18  05:54 PM           192,000 qdbuscpp2xml.exe\n",
      "25-Aug-18  06:17 PM           242,688 qdbusviewer.exe\n",
      "25-Aug-18  05:53 PM            72,192 qdbusxml2cpp.exe\n",
      "25-Aug-18  06:16 PM         1,166,848 qdoc.exe\n",
      "25-Aug-18  06:43 PM         4,126,208 qgltf.exe\n",
      "25-Aug-18  06:22 PM           172,544 qhelpconverter.exe\n",
      "25-Aug-18  06:18 PM            26,112 qhelpgenerator.exe\n",
      "25-Aug-18  05:53 PM           108,032 qlalr.exe\n",
      "25-Aug-18  05:46 PM         2,366,464 qmake.exe\n",
      "25-Aug-18  06:12 PM            54,272 qml.exe\n",
      "25-Aug-18  06:12 PM           885,760 qmlcachegen.exe\n",
      "25-Aug-18  06:12 PM           124,928 qmleasing.exe\n",
      "25-Aug-18  06:12 PM           209,408 qmlimportscanner.exe\n",
      "25-Aug-18  06:12 PM           150,528 qmllint.exe\n",
      "25-Aug-18  06:12 PM            84,480 qmlmin.exe\n",
      "25-Aug-18  06:12 PM           113,152 qmlplugindump.exe\n",
      "25-Aug-18  06:12 PM           133,120 qmlprofiler.exe\n",
      "25-Aug-18  06:12 PM            50,176 qmlscene.exe\n",
      "25-Aug-18  06:12 PM            10,752 qmltestrunner.exe\n",
      "25-Aug-18  06:16 PM           316,928 qscxmlc.exe\n",
      "18-Dec-18  09:18 PM               251 qt.conf\n",
      "25-Aug-18  06:32 PM           317,440 Qt53DAnimation.dll\n",
      "25-Aug-18  06:21 PM           302,592 Qt53DCore.dll\n",
      "25-Aug-18  06:37 PM           543,744 Qt53DExtras.dll\n",
      "25-Aug-18  06:32 PM           394,240 Qt53DInput.dll\n",
      "25-Aug-18  06:22 PM            47,104 Qt53DLogic.dll\n",
      "25-Aug-18  06:33 PM           159,744 Qt53DQuick.dll\n",
      "25-Aug-18  06:40 PM            49,664 Qt53DQuickAnimation.dll\n",
      "25-Aug-18  06:40 PM            59,904 Qt53DQuickExtras.dll\n",
      "25-Aug-18  06:35 PM            46,080 Qt53DQuickInput.dll\n",
      "25-Aug-18  06:37 PM           132,096 Qt53DQuickRender.dll\n",
      "25-Aug-18  06:35 PM            79,872 Qt53DQuickScene2D.dll\n",
      "25-Aug-18  06:30 PM         1,751,040 Qt53DRender.dll\n",
      "25-Aug-18  06:16 PM           210,944 Qt5Bluetooth.dll\n",
      "25-Aug-18  06:42 PM         1,148,416 Qt5Charts.dll\n",
      "25-Aug-18  05:53 PM            26,624 Qt5Concurrent.dll\n",
      "25-Aug-18  05:52 PM         5,103,616 Qt5Core.dll\n",
      "25-Aug-18  06:33 PM         1,150,464 Qt5DataVisualization.dll\n",
      "25-Aug-18  05:53 PM           413,696 Qt5DBus.dll\n",
      "25-Aug-18  06:28 PM         4,681,728 Qt5Designer.dll\n",
      "25-Aug-18  06:37 PM         1,971,712 Qt5DesignerComponents.dll\n",
      "25-Aug-18  06:13 PM            94,208 Qt5Gamepad.dll\n",
      "25-Aug-18  05:56 PM         5,924,864 Qt5Gui.dll\n",
      "25-Aug-18  06:18 PM           352,256 Qt5Help.dll\n",
      "25-Aug-18  06:35 PM         1,172,480 Qt5Location.dll\n",
      "25-Aug-18  06:24 PM           713,216 Qt5Multimedia.dll\n",
      "25-Aug-18  06:24 PM           114,688 Qt5MultimediaQuick_p.dll\n",
      "25-Aug-18  06:24 PM           101,888 Qt5MultimediaWidgets.dll\n",
      "25-Aug-18  05:55 PM         1,226,240 Qt5Network.dll\n",
      "25-Aug-18  09:51 PM           152,576 Qt5NetworkAuth.dll\n",
      "25-Aug-18  06:16 PM           130,048 Qt5Nfc.dll\n",
      "25-Aug-18  05:59 PM           322,560 Qt5OpenGL.dll\n",
      "25-Aug-18  06:29 PM           286,720 Qt5Positioning.dll\n",
      "25-Aug-18  05:59 PM           319,488 Qt5PrintSupport.dll\n",
      "25-Aug-18  06:13 PM            37,888 Qt5Purchasing.dll\n",
      "25-Aug-18  06:06 PM         3,433,472 Qt5Qml.dll\n",
      "25-Aug-18  06:08 PM         3,464,704 Qt5Quick.dll\n",
      "25-Aug-18  06:24 PM           118,272 Qt5QuickControls2.dll\n",
      "25-Aug-18  06:09 PM           452,096 Qt5QuickParticles.dll\n",
      "25-Aug-18  06:23 PM           777,216 Qt5QuickTemplates2.dll\n",
      "25-Aug-18  06:09 PM           121,344 Qt5QuickTest.dll\n",
      "25-Aug-18  06:09 PM            72,192 Qt5QuickWidgets.dll\n",
      "25-Aug-18  06:14 PM           365,056 Qt5RemoteObjects.dll\n",
      "25-Aug-18  06:46 PM         1,225,728 Qt5Script.dll\n",
      "25-Aug-18  06:46 PM           567,808 Qt5ScriptTools.dll\n",
      "25-Aug-18  06:14 PM           406,528 Qt5Scxml.dll\n",
      "25-Aug-18  06:17 PM           201,728 Qt5Sensors.dll\n",
      "25-Aug-18  06:02 PM           202,240 Qt5SerialBus.dll\n",
      "25-Aug-18  06:01 PM            70,144 Qt5SerialPort.dll\n",
      "25-Aug-18  05:53 PM           202,240 Qt5Sql.dll\n",
      "25-Aug-18  06:01 PM           329,728 Qt5Svg.dll\n",
      "25-Aug-18  05:59 PM           185,344 Qt5Test.dll\n",
      "25-Aug-18  06:28 PM            43,520 Qt5TextToSpeech.dll\n",
      "25-Aug-18  06:17 PM           111,616 Qt5WebChannel.dll\n",
      "25-Aug-18  09:51 PM           331,264 Qt5WebEngine.dll\n",
      "25-Aug-18  09:50 PM        68,371,968 Qt5WebEngineCore.dll\n",
      "25-Aug-18  09:51 PM           221,696 Qt5WebEngineWidgets.dll\n",
      "25-Aug-18  06:13 PM           148,480 Qt5WebSockets.dll\n",
      "25-Aug-18  09:51 PM            71,680 Qt5WebView.dll\n",
      "25-Aug-18  05:58 PM         5,571,584 Qt5Widgets.dll\n",
      "25-Aug-18  06:30 PM           461,824 Qt5WinExtras.dll\n",
      "25-Aug-18  05:52 PM           192,512 Qt5Xml.dll\n",
      "25-Aug-18  06:03 PM         2,793,472 Qt5XmlPatterns.dll\n",
      "25-Aug-18  06:16 PM            53,760 qtattributionsscanner.exe\n",
      "25-Aug-18  06:16 PM            55,296 qtdiag.exe\n",
      "25-Aug-18  06:16 PM            32,256 qtpaths.exe\n",
      "25-Aug-18  06:15 PM            28,160 qtplugininfo.exe\n",
      "25-Aug-18  09:50 PM            19,456 QtWebEngineProcess.exe\n",
      "25-Aug-18  09:50 PM           314,368 qwebengine_convert_dict.exe\n",
      "24-Aug-18  12:11 AM            24,576 raw2tiff.exe\n",
      "25-Aug-18  05:49 PM           953,856 rcc.exe\n",
      "09-Nov-17  11:02 AM            14,848 rdjpgcom.exe\n",
      "25-Aug-18  06:15 PM           378,368 repc.exe\n",
      "23-May-18  03:20 PM            19,456 runxmlconf.exe\n",
      "01-Aug-18  10:09 PM           398,336 sip.exe\n",
      "28-Nov-17  12:34 AM            77,312 snappy.dll\n",
      "19-Jun-18  04:18 AM           962,560 sqlite3.dll\n",
      "19-Jun-18  04:18 AM         1,224,192 sqlite3.exe\n",
      "14-Aug-18  08:11 PM           356,864 ssleay32.dll\n",
      "12-Apr-17  08:59 PM        11,632,384 svml_dispmd.dll\n",
      "07-Jun-18  11:58 AM            50,498 syncqt.pl\n",
      "29-Aug-18  02:48 AM         1,710,592 tcl86t.dll\n",
      "29-Aug-18  02:48 AM            71,168 tclsh.exe\n",
      "29-Aug-18  02:48 AM            71,168 tclsh86.exe\n",
      "29-Aug-18  02:48 AM            71,168 tclsh86t.exe\n",
      "25-Aug-18  06:03 PM           602,624 testcon.exe\n",
      "24-Aug-18  12:10 AM           631,296 tiff.dll\n",
      "24-Aug-18  12:11 AM            18,432 tiff2bw.exe\n",
      "24-Aug-18  12:11 AM            76,800 tiff2pdf.exe\n",
      "24-Aug-18  12:11 AM            48,640 tiff2ps.exe\n",
      "24-Aug-18  12:11 AM            18,432 tiff2rgba.exe\n",
      "24-Aug-18  12:11 AM            21,504 tiffcmp.exe\n",
      "24-Aug-18  12:11 AM            36,352 tiffcp.exe\n",
      "24-Aug-18  12:11 AM           104,960 tiffcrop.exe\n",
      "24-Aug-18  12:11 AM            16,896 tiffdither.exe\n",
      "24-Aug-18  12:11 AM            22,528 tiffdump.exe\n",
      "24-Aug-18  12:11 AM            19,456 tiffinfo.exe\n",
      "24-Aug-18  12:11 AM            22,016 tiffmedian.exe\n",
      "24-Aug-18  12:11 AM            15,360 tiffset.exe\n",
      "24-Aug-18  12:11 AM            15,872 tiffsplit.exe\n",
      "24-Aug-18  12:11 AM            10,240 tiffxx.dll\n",
      "29-Aug-18  02:50 AM         1,475,584 tk86t.dll\n",
      "17-Nov-17  04:28 AM            55,296 uconv.exe\n",
      "20-Apr-18  07:07 PM         1,016,584 ucrtbase.dll\n",
      "25-Aug-18  05:53 PM           380,928 uic.exe\n",
      "21-Sep-18  01:53 AM           386,720 vccorlib140.dll\n",
      "21-Sep-18  01:53 AM           155,280 vcomp140.dll\n",
      "21-Sep-18  01:53 AM            87,200 vcruntime140.dll\n",
      "25-Aug-18  06:16 PM         1,147,392 windeployqt.exe\n",
      "03-Feb-18  12:14 AM         2,509,089 winpty.dll\n",
      "03-Feb-18  12:14 AM         2,627,338 winpty-agent.exe\n",
      "29-Aug-18  02:50 AM            58,368 wish.exe\n",
      "29-Aug-18  02:50 AM            58,368 wish86.exe\n",
      "29-Aug-18  02:50 AM            58,368 wish86t.exe\n",
      "09-Nov-17  11:02 AM            15,360 wrjpgcom.exe\n",
      "23-May-18  03:20 PM            19,968 xmlcatalog.exe\n",
      "23-May-18  03:20 PM            57,856 xmllint.exe\n",
      "25-Aug-18  06:03 PM            58,368 xmlpatterns.exe\n",
      "25-Aug-18  06:03 PM            13,312 xmlpatternsvalidator.exe\n",
      "26-Jan-18  11:57 PM            24,576 xsltproc.exe\n",
      "14-Nov-17  04:21 AM           109,568 yaml.dll\n",
      "08-Nov-17  04:27 AM            90,112 zlib.dll\n",
      "             344 File(s)    962,777,864 bytes\n",
      "               6 Dir(s)     703,467,520 bytes free\n"
     ]
    }
   ],
   "source": [
    "ls"
   ]
  },
  {
   "cell_type": "code",
   "execution_count": 38,
   "metadata": {},
   "outputs": [
    {
     "ename": "SyntaxError",
     "evalue": "invalid syntax (<ipython-input-38-bb036539d0ff>, line 1)",
     "output_type": "error",
     "traceback": [
      "\u001b[1;36m  File \u001b[1;32m\"<ipython-input-38-bb036539d0ff>\"\u001b[1;36m, line \u001b[1;32m1\u001b[0m\n\u001b[1;33m    source D:\\\\python3\\\\envs\\\\newenvt\\\\library\\\\bin\\\\activate\u001b[0m\n\u001b[1;37m           ^\u001b[0m\n\u001b[1;31mSyntaxError\u001b[0m\u001b[1;31m:\u001b[0m invalid syntax\n"
     ]
    }
   ],
   "source": [
    "source D:\\\\python3\\\\envs\\\\newenvt\\\\library\\\\bin\\\\activate"
   ]
  },
  {
   "cell_type": "code",
   "execution_count": 40,
   "metadata": {
    "scrolled": true
   },
   "outputs": [
    {
     "ename": "SyntaxError",
     "evalue": "invalid syntax (<ipython-input-40-6d829821fde7>, line 1)",
     "output_type": "error",
     "traceback": [
      "\u001b[1;36m  File \u001b[1;32m\"<ipython-input-40-6d829821fde7>\"\u001b[1;36m, line \u001b[1;32m1\u001b[0m\n\u001b[1;33m    source D:/python3/envs/newenvt/library/bin/activate\u001b[0m\n\u001b[1;37m           ^\u001b[0m\n\u001b[1;31mSyntaxError\u001b[0m\u001b[1;31m:\u001b[0m invalid syntax\n"
     ]
    }
   ],
   "source": [
    "source D:/python3/envs/newenvt/library/bin/activate"
   ]
  },
  {
   "cell_type": "code",
   "execution_count": 36,
   "metadata": {},
   "outputs": [
    {
     "ename": "SyntaxError",
     "evalue": "invalid syntax (<ipython-input-36-fcfb318c64f9>, line 1)",
     "output_type": "error",
     "traceback": [
      "\u001b[1;36m  File \u001b[1;32m\"<ipython-input-36-fcfb318c64f9>\"\u001b[1;36m, line \u001b[1;32m1\u001b[0m\n\u001b[1;33m    source bin./activate\u001b[0m\n\u001b[1;37m             ^\u001b[0m\n\u001b[1;31mSyntaxError\u001b[0m\u001b[1;31m:\u001b[0m invalid syntax\n"
     ]
    }
   ],
   "source": [
    "source bin./activate"
   ]
  },
  {
   "cell_type": "code",
   "execution_count": 21,
   "metadata": {},
   "outputs": [
    {
     "ename": "SyntaxError",
     "evalue": "invalid syntax (<ipython-input-21-ed7303849321>, line 1)",
     "output_type": "error",
     "traceback": [
      "\u001b[1;36m  File \u001b[1;32m\"<ipython-input-21-ed7303849321>\"\u001b[1;36m, line \u001b[1;32m1\u001b[0m\n\u001b[1;33m    source D:/python3/myenv/Scripts/activate\u001b[0m\n\u001b[1;37m           ^\u001b[0m\n\u001b[1;31mSyntaxError\u001b[0m\u001b[1;31m:\u001b[0m invalid syntax\n"
     ]
    }
   ],
   "source": [
    "source D:/python3/myenv/Scripts/activate"
   ]
  },
  {
   "cell_type": "code",
   "execution_count": 15,
   "metadata": {},
   "outputs": [
    {
     "ename": "NameError",
     "evalue": "name 'source' is not defined",
     "output_type": "error",
     "traceback": [
      "\u001b[1;31m---------------------------------------------------------------------------\u001b[0m",
      "\u001b[1;31mNameError\u001b[0m                                 Traceback (most recent call last)",
      "\u001b[1;32m<ipython-input-15-16781e182d55>\u001b[0m in \u001b[0;36m<module>\u001b[1;34m()\u001b[0m\n\u001b[1;32m----> 1\u001b[1;33m \u001b[0msource\u001b[0m \u001b[1;33m/\u001b[0m\u001b[0mactivate\u001b[0m\u001b[1;33m\u001b[0m\u001b[0m\n\u001b[0m",
      "\u001b[1;31mNameError\u001b[0m: name 'source' is not defined"
     ]
    }
   ],
   "source": [
    "source /activate"
   ]
  },
  {
   "cell_type": "code",
   "execution_count": 11,
   "metadata": {},
   "outputs": [
    {
     "name": "stdout",
     "output_type": "stream",
     "text": [
      " Volume in drive D is RECOVERY\n",
      " Volume Serial Number is B8C5-8737\n",
      "\n",
      " Directory of D:\\python3\\myenv\\Lib\n",
      "\n",
      "07-Jan-19  07:05 PM    <DIR>          .\n",
      "07-Jan-19  07:05 PM    <DIR>          ..\n",
      "28-Mar-18  03:49 PM             4,841 __future__.py\n",
      "07-Jan-19  07:05 PM    <DIR>          __pycache__\n",
      "28-Mar-18  03:49 PM             1,301 _bootlocale.py\n",
      "28-Mar-18  03:49 PM            26,392 _collections_abc.py\n",
      "28-Mar-18  03:49 PM             5,118 _dummy_thread.py\n",
      "28-Mar-18  03:49 PM             5,705 _weakrefset.py\n",
      "28-Mar-18  03:49 PM             8,727 abc.py\n",
      "28-Mar-18  03:49 PM            20,487 base64.py\n",
      "28-Mar-18  03:49 PM             2,595 bisect.py\n",
      "28-Mar-18  03:49 PM            36,276 codecs.py\n",
      "14-Jun-18  08:53 AM    <DIR>          collections\n",
      "28-Mar-18  03:49 PM             8,815 copy.py\n",
      "28-Mar-18  03:49 PM             7,007 copyreg.py\n",
      "07-Jan-19  07:05 PM    <DIR>          distutils\n",
      "14-Jun-18  08:53 AM    <DIR>          encodings\n",
      "28-Mar-18  03:49 PM            33,472 enum.py\n",
      "28-Mar-18  03:49 PM             3,166 fnmatch.py\n",
      "28-Mar-18  03:49 PM            31,142 functools.py\n",
      "28-Mar-18  03:49 PM             4,756 genericpath.py\n",
      "28-Mar-18  03:49 PM             9,477 hashlib.py\n",
      "28-Mar-18  03:49 PM            22,929 heapq.py\n",
      "28-Mar-18  03:49 PM             5,057 hmac.py\n",
      "28-Mar-18  03:49 PM            10,669 imp.py\n",
      "14-Jun-18  08:53 AM    <DIR>          importlib\n",
      "28-Mar-18  03:49 PM             3,517 io.py\n",
      "28-Mar-18  03:49 PM             2,211 keyword.py\n",
      "28-Mar-18  03:49 PM             5,312 linecache.py\n",
      "28-Mar-18  03:49 PM            74,724 locale.py\n",
      "07-Jan-19  07:05 PM                 0 no-global-site-packages.txt\n",
      "28-Mar-18  03:49 PM            23,212 ntpath.py\n",
      "28-Mar-18  03:49 PM            10,863 operator.py\n",
      "07-Jan-19  07:05 PM                27 orig-prefix.txt\n",
      "28-Mar-18  03:49 PM            37,526 os.py\n",
      "28-Mar-18  03:49 PM            15,414 posixpath.py\n",
      "28-Mar-18  03:49 PM            27,310 random.py\n",
      "28-Mar-18  03:49 PM            15,552 re.py\n",
      "28-Mar-18  03:49 PM             5,336 reprlib.py\n",
      "28-Mar-18  03:49 PM             7,097 rlcompleter.py\n",
      "28-Mar-18  03:49 PM            40,227 shutil.py\n",
      "07-Jan-19  07:05 PM            27,543 site.py\n",
      "07-Jan-19  07:05 PM    <DIR>          site-packages\n",
      "28-Mar-18  03:49 PM            19,338 sre_compile.py\n",
      "28-Mar-18  03:49 PM             6,821 sre_constants.py\n",
      "28-Mar-18  03:49 PM            36,536 sre_parse.py\n",
      "28-Mar-18  03:49 PM             5,038 stat.py\n",
      "28-Mar-18  03:49 PM               257 struct.py\n",
      "28-Mar-18  03:49 PM            93,192 tarfile.py\n",
      "28-Mar-18  03:49 PM            26,635 tempfile.py\n",
      "28-Mar-18  03:49 PM             3,075 token.py\n",
      "28-Mar-18  03:49 PM            28,959 tokenize.py\n",
      "28-Mar-18  03:49 PM             8,870 types.py\n",
      "28-Mar-18  03:49 PM            18,488 warnings.py\n",
      "28-Mar-18  03:49 PM            20,466 weakref.py\n",
      "              47 File(s)        811,478 bytes\n",
      "               8 Dir(s)     703,488,000 bytes free\n"
     ]
    }
   ],
   "source": [
    "ls"
   ]
  },
  {
   "cell_type": "code",
   "execution_count": 9,
   "metadata": {},
   "outputs": [
    {
     "ename": "SyntaxError",
     "evalue": "invalid syntax (<ipython-input-9-5bfc69ef8155>, line 1)",
     "output_type": "error",
     "traceback": [
      "\u001b[1;36m  File \u001b[1;32m\"<ipython-input-9-5bfc69ef8155>\"\u001b[1;36m, line \u001b[1;32m1\u001b[0m\n\u001b[1;33m    source bin/activate\u001b[0m\n\u001b[1;37m             ^\u001b[0m\n\u001b[1;31mSyntaxError\u001b[0m\u001b[1;31m:\u001b[0m invalid syntax\n"
     ]
    }
   ],
   "source": [
    "source bin/activate"
   ]
  },
  {
   "cell_type": "code",
   "execution_count": 41,
   "metadata": {},
   "outputs": [
    {
     "name": "stdout",
     "output_type": "stream",
     "text": [
      "D:\\python3\\envs\\newenvt\\library\n"
     ]
    }
   ],
   "source": [
    "cd .."
   ]
  },
  {
   "cell_type": "code",
   "execution_count": 42,
   "metadata": {},
   "outputs": [
    {
     "name": "stdout",
     "output_type": "stream",
     "text": [
      "D:\\python3\\envs\\newenvt\n"
     ]
    }
   ],
   "source": [
    "cd .."
   ]
  },
  {
   "cell_type": "code",
   "execution_count": 43,
   "metadata": {},
   "outputs": [
    {
     "name": "stdout",
     "output_type": "stream",
     "text": [
      "D:\\python3\\envs\n"
     ]
    }
   ],
   "source": [
    "cd .."
   ]
  },
  {
   "cell_type": "code",
   "execution_count": 44,
   "metadata": {},
   "outputs": [
    {
     "name": "stdout",
     "output_type": "stream",
     "text": [
      "D:\\python3\n"
     ]
    }
   ],
   "source": [
    "cd .."
   ]
  },
  {
   "cell_type": "code",
   "execution_count": 46,
   "metadata": {},
   "outputs": [
    {
     "name": "stdout",
     "output_type": "stream",
     "text": [
      "Using base prefix 'c:\\\\users\\\\kusha\\\\newanaconda3'\n",
      "New python executable in D:\\python3\\mynewenv2019\\Scripts\\python.exe\n",
      "Installing setuptools, pip, wheel...done.\n",
      "Running virtualenv with interpreter python.exe\n"
     ]
    }
   ],
   "source": [
    "! virtualenv -p python mynewenv2019"
   ]
  },
  {
   "cell_type": "code",
   "execution_count": 52,
   "metadata": {},
   "outputs": [
    {
     "name": "stdout",
     "output_type": "stream",
     "text": [
      "The path python3 (from --python=python3) does not exist\n"
     ]
    }
   ],
   "source": [
    "# ! virtualenv -p python3 mybrandnewenv2019"
   ]
  },
  {
   "cell_type": "code",
   "execution_count": 47,
   "metadata": {},
   "outputs": [],
   "source": [
    "! cd mynewenv2019"
   ]
  },
  {
   "cell_type": "code",
   "execution_count": 50,
   "metadata": {},
   "outputs": [
    {
     "name": "stdout",
     "output_type": "stream",
     "text": [
      "D:\\python3\\mynewenv2019\n"
     ]
    }
   ],
   "source": [
    "cd mynewenv2019"
   ]
  },
  {
   "cell_type": "code",
   "execution_count": 51,
   "metadata": {},
   "outputs": [
    {
     "name": "stdout",
     "output_type": "stream",
     "text": [
      " Volume in drive D is RECOVERY\n",
      " Volume Serial Number is B8C5-8737\n",
      "\n",
      " Directory of D:\\python3\\mynewenv2019\n",
      "\n",
      "07-Jan-19  07:36 PM    <DIR>          .\n",
      "07-Jan-19  07:36 PM    <DIR>          ..\n",
      "14-Jun-18  08:54 AM    <DIR>          Include\n",
      "07-Jan-19  07:36 PM    <DIR>          Lib\n",
      "07-Jan-19  07:36 PM                59 pip-selfcheck.json\n",
      "07-Jan-19  07:36 PM    <DIR>          Scripts\n",
      "07-Jan-19  07:36 PM    <DIR>          tcl\n",
      "               1 File(s)             59 bytes\n",
      "               6 Dir(s)     674,234,368 bytes free\n"
     ]
    }
   ],
   "source": [
    "ls"
   ]
  },
  {
   "cell_type": "code",
   "execution_count": 53,
   "metadata": {},
   "outputs": [
    {
     "data": {
      "text/plain": [
       "'D:\\\\python3\\\\mynewenv2019'"
      ]
     },
     "execution_count": 53,
     "metadata": {},
     "output_type": "execute_result"
    }
   ],
   "source": [
    "pwd"
   ]
  },
  {
   "cell_type": "code",
   "execution_count": 54,
   "metadata": {},
   "outputs": [
    {
     "name": "stdout",
     "output_type": "stream",
     "text": [
      " Volume in drive D is RECOVERY\n",
      " Volume Serial Number is B8C5-8737\n",
      "\n",
      " Directory of D:\\python3\\mynewenv2019\n",
      "\n",
      "07-Jan-19  07:36 PM    <DIR>          .\n",
      "07-Jan-19  07:36 PM    <DIR>          ..\n",
      "14-Jun-18  08:54 AM    <DIR>          Include\n",
      "07-Jan-19  07:36 PM    <DIR>          Lib\n",
      "07-Jan-19  07:36 PM                59 pip-selfcheck.json\n",
      "07-Jan-19  07:36 PM    <DIR>          Scripts\n",
      "07-Jan-19  07:36 PM    <DIR>          tcl\n",
      "               1 File(s)             59 bytes\n",
      "               6 Dir(s)     674,222,080 bytes free\n"
     ]
    }
   ],
   "source": [
    "ls"
   ]
  },
  {
   "cell_type": "code",
   "execution_count": 49,
   "metadata": {},
   "outputs": [
    {
     "data": {
      "text/plain": [
       "'D:\\\\python3'"
      ]
     },
     "execution_count": 49,
     "metadata": {},
     "output_type": "execute_result"
    }
   ],
   "source": [
    "pwd"
   ]
  },
  {
   "cell_type": "code",
   "execution_count": 55,
   "metadata": {},
   "outputs": [
    {
     "name": "stdout",
     "output_type": "stream",
     "text": [
      " Volume in drive D is RECOVERY\n",
      " Volume Serial Number is B8C5-8737\n",
      "\n",
      " Directory of D:\\python3\\mynewenv2019\n",
      "\n",
      "07-Jan-19  07:36 PM    <DIR>          .\n",
      "07-Jan-19  07:36 PM    <DIR>          ..\n",
      "14-Jun-18  08:54 AM    <DIR>          Include\n",
      "07-Jan-19  07:36 PM    <DIR>          Lib\n",
      "07-Jan-19  07:36 PM                59 pip-selfcheck.json\n",
      "07-Jan-19  07:36 PM    <DIR>          Scripts\n",
      "07-Jan-19  07:36 PM    <DIR>          tcl\n",
      "               1 File(s)             59 bytes\n",
      "               6 Dir(s)     674,222,080 bytes free\n"
     ]
    }
   ],
   "source": [
    "ls"
   ]
  },
  {
   "cell_type": "code",
   "execution_count": 57,
   "metadata": {},
   "outputs": [
    {
     "data": {
      "text/plain": [
       "'D:\\\\python3\\\\mynewenv2019'"
      ]
     },
     "execution_count": 57,
     "metadata": {},
     "output_type": "execute_result"
    }
   ],
   "source": [
    "pwd"
   ]
  },
  {
   "cell_type": "code",
   "execution_count": 65,
   "metadata": {},
   "outputs": [
    {
     "name": "stderr",
     "output_type": "stream",
     "text": [
      "'.' is not recognized as an internal or external command,\n",
      "operable program or batch file.\n"
     ]
    }
   ],
   "source": [
    "!./D:/python3/mynewenv2019/bin/activate"
   ]
  },
  {
   "cell_type": "code",
   "execution_count": 68,
   "metadata": {},
   "outputs": [
    {
     "ename": "SyntaxError",
     "evalue": "invalid syntax (<ipython-input-68-8632d6d6c53d>, line 1)",
     "output_type": "error",
     "traceback": [
      "\u001b[1;36m  File \u001b[1;32m\"<ipython-input-68-8632d6d6c53d>\"\u001b[1;36m, line \u001b[1;32m1\u001b[0m\n\u001b[1;33m    . bin/activate\u001b[0m\n\u001b[1;37m    ^\u001b[0m\n\u001b[1;31mSyntaxError\u001b[0m\u001b[1;31m:\u001b[0m invalid syntax\n"
     ]
    }
   ],
   "source": [
    " . bin/activate"
   ]
  },
  {
   "cell_type": "code",
   "execution_count": 69,
   "metadata": {},
   "outputs": [
    {
     "data": {
      "text/plain": [
       "'D:\\\\python3\\\\mynewenv2019'"
      ]
     },
     "execution_count": 69,
     "metadata": {},
     "output_type": "execute_result"
    }
   ],
   "source": [
    "pwd"
   ]
  },
  {
   "cell_type": "code",
   "execution_count": 70,
   "metadata": {},
   "outputs": [
    {
     "name": "stdout",
     "output_type": "stream",
     "text": [
      " Volume in drive D is RECOVERY\n",
      " Volume Serial Number is B8C5-8737\n",
      "\n",
      " Directory of D:\\python3\\mynewenv2019\n",
      "\n",
      "07-Jan-19  07:36 PM    <DIR>          .\n",
      "07-Jan-19  07:36 PM    <DIR>          ..\n",
      "14-Jun-18  08:54 AM    <DIR>          Include\n",
      "07-Jan-19  07:36 PM    <DIR>          Lib\n",
      "07-Jan-19  07:36 PM                59 pip-selfcheck.json\n",
      "07-Jan-19  07:36 PM    <DIR>          Scripts\n",
      "07-Jan-19  07:36 PM    <DIR>          tcl\n",
      "               1 File(s)             59 bytes\n",
      "               6 Dir(s)     674,226,176 bytes free\n"
     ]
    }
   ],
   "source": [
    "ls"
   ]
  },
  {
   "cell_type": "code",
   "execution_count": 71,
   "metadata": {},
   "outputs": [
    {
     "name": "stdout",
     "output_type": "stream",
     "text": [
      "D:\\python3\\envs\\newenvt\\library\\bin\n"
     ]
    }
   ],
   "source": [
    "cd D:\\python3\\envs\\newenvt\\library\\bin"
   ]
  },
  {
   "cell_type": "code",
   "execution_count": 72,
   "metadata": {},
   "outputs": [
    {
     "name": "stdout",
     "output_type": "stream",
     "text": [
      " Volume in drive D is RECOVERY\n",
      " Volume Serial Number is B8C5-8737\n",
      "\n",
      " Directory of D:\\python3\\envs\\newenvt\\library\\bin\n",
      "\n",
      "18-Dec-18  09:18 PM    <DIR>          .\n",
      "18-Dec-18  09:18 PM    <DIR>          ..\n",
      "18-Dec-18  09:17 PM    <DIR>          1033\n",
      "18-Dec-18  09:17 PM    <DIR>          1041\n",
      "20-Apr-18  06:58 PM            19,208 api-ms-win-core-console-l1-1-0.dll\n",
      "20-Apr-18  06:58 PM            18,696 api-ms-win-core-datetime-l1-1-0.dll\n",
      "20-Apr-18  06:58 PM            18,696 api-ms-win-core-debug-l1-1-0.dll\n",
      "20-Apr-18  06:58 PM            18,696 api-ms-win-core-errorhandling-l1-1-0.dll\n",
      "20-Apr-18  06:59 PM            22,280 api-ms-win-core-file-l1-1-0.dll\n",
      "20-Apr-18  07:07 PM            18,696 api-ms-win-core-file-l1-2-0.dll\n",
      "20-Apr-18  07:07 PM            18,696 api-ms-win-core-file-l2-1-0.dll\n",
      "20-Apr-18  07:07 PM            18,696 api-ms-win-core-handle-l1-1-0.dll\n",
      "20-Apr-18  07:07 PM            19,208 api-ms-win-core-heap-l1-1-0.dll\n",
      "20-Apr-18  07:07 PM            18,696 api-ms-win-core-interlocked-l1-1-0.dll\n",
      "20-Apr-18  07:07 PM            19,720 api-ms-win-core-libraryloader-l1-1-0.dll\n",
      "20-Apr-18  07:07 PM            21,256 api-ms-win-core-localization-l1-2-0.dll\n",
      "20-Apr-18  07:07 PM            19,208 api-ms-win-core-memory-l1-1-0.dll\n",
      "20-Apr-18  07:07 PM            18,696 api-ms-win-core-namedpipe-l1-1-0.dll\n",
      "20-Apr-18  07:07 PM            19,720 api-ms-win-core-processenvironment-l1-1-0.dll\n",
      "20-Apr-18  07:07 PM            20,744 api-ms-win-core-processthreads-l1-1-0.dll\n",
      "20-Apr-18  07:07 PM            19,208 api-ms-win-core-processthreads-l1-1-1.dll\n",
      "20-Apr-18  07:07 PM            18,184 api-ms-win-core-profile-l1-1-0.dll\n",
      "20-Apr-18  07:07 PM            19,208 api-ms-win-core-rtlsupport-l1-1-0.dll\n",
      "20-Apr-18  07:07 PM            18,696 api-ms-win-core-string-l1-1-0.dll\n",
      "20-Apr-18  07:07 PM            20,744 api-ms-win-core-synch-l1-1-0.dll\n",
      "20-Apr-18  07:07 PM            19,208 api-ms-win-core-synch-l1-2-0.dll\n",
      "20-Apr-18  07:07 PM            19,720 api-ms-win-core-sysinfo-l1-1-0.dll\n",
      "20-Apr-18  07:07 PM            19,208 api-ms-win-core-timezone-l1-1-0.dll\n",
      "20-Apr-18  07:07 PM            18,696 api-ms-win-core-util-l1-1-0.dll\n",
      "20-Apr-18  07:07 PM            19,720 api-ms-win-crt-conio-l1-1-0.dll\n",
      "20-Apr-18  07:07 PM            22,792 api-ms-win-crt-convert-l1-1-0.dll\n",
      "20-Apr-18  07:07 PM            19,208 api-ms-win-crt-environment-l1-1-0.dll\n",
      "20-Apr-18  07:07 PM            20,744 api-ms-win-crt-filesystem-l1-1-0.dll\n",
      "20-Apr-18  07:07 PM            19,720 api-ms-win-crt-heap-l1-1-0.dll\n",
      "20-Apr-18  07:07 PM            19,208 api-ms-win-crt-locale-l1-1-0.dll\n",
      "20-Apr-18  07:07 PM            27,912 api-ms-win-crt-math-l1-1-0.dll\n",
      "20-Apr-18  07:07 PM            26,888 api-ms-win-crt-multibyte-l1-1-0.dll\n",
      "20-Apr-18  07:07 PM            71,432 api-ms-win-crt-private-l1-1-0.dll\n",
      "20-Apr-18  07:07 PM            19,720 api-ms-win-crt-process-l1-1-0.dll\n",
      "20-Apr-18  07:07 PM            23,304 api-ms-win-crt-runtime-l1-1-0.dll\n",
      "20-Apr-18  07:07 PM            24,840 api-ms-win-crt-stdio-l1-1-0.dll\n",
      "20-Apr-18  07:07 PM            24,840 api-ms-win-crt-string-l1-1-0.dll\n",
      "20-Apr-18  07:07 PM            21,256 api-ms-win-crt-time-l1-1-0.dll\n",
      "20-Apr-18  07:07 PM            19,208 api-ms-win-crt-utility-l1-1-0.dll\n",
      "25-Aug-18  06:23 PM         1,228,288 assistant.exe\n",
      "19-Aug-18  05:51 PM           250,880 blosc.dll\n",
      "23-May-18  12:57 AM           184,832 bzip2.dll\n",
      "25-Aug-18  06:03 PM            38,912 canbusutil.exe\n",
      "14-Nov-17  02:25 AM            12,288 charset.dll\n",
      "12-Apr-17  05:34 PM           313,584 cilkrts20.dll\n",
      "09-Nov-17  11:02 AM            34,304 cjpeg.exe\n",
      "21-Sep-18  01:53 AM           329,368 concrt140.dll\n",
      "25-Jul-18  08:15 PM           354,816 curl.exe\n",
      "17-Nov-17  04:28 AM            25,600 derb.exe\n",
      "25-Aug-18  06:40 PM           563,712 designer.exe\n",
      "09-Nov-17  11:02 AM            29,696 djpeg.exe\n",
      "25-Aug-18  06:02 PM           209,408 dumpcpp.exe\n",
      "25-Aug-18  06:02 PM           166,912 dumpdoc.exe\n",
      "24-Aug-18  12:10 AM            20,480 fax2ps.exe\n",
      "24-Aug-18  12:10 AM            18,944 fax2tiff.exe\n",
      "07-Jun-18  11:58 AM             6,523 fixqt4headers.pl\n",
      "27-Jul-18  03:20 AM           617,984 freetype.dll\n",
      "17-Nov-17  04:28 AM            21,504 genbrk.exe\n",
      "17-Nov-17  04:28 AM            13,312 genccode.exe\n",
      "17-Nov-17  04:28 AM            17,408 gencfu.exe\n",
      "17-Nov-17  04:28 AM            13,312 gencmn.exe\n",
      "17-Nov-17  04:28 AM            26,624 gencnval.exe\n",
      "17-Nov-17  04:28 AM            28,672 gendict.exe\n",
      "17-Nov-17  04:28 AM            52,736 gennorm2.exe\n",
      "17-Nov-17  04:28 AM           139,264 genrb.exe\n",
      "17-Nov-17  04:28 AM            25,600 gensprep.exe\n",
      "09-May-18  11:36 PM         2,303,488 gif2h5.exe\n",
      "09-May-18  11:36 PM         2,272,768 h52gif.exe\n",
      "09-May-18  11:32 PM         2,242,560 h5clear.exe\n",
      "09-May-18  11:32 PM         2,264,064 h5copy.exe\n",
      "09-May-18  11:44 PM            19,968 h5copy-shared.exe\n",
      "09-May-18  11:31 PM         2,255,872 h5debug.exe\n",
      "09-May-18  11:31 PM         2,422,784 h5diff.exe\n",
      "09-May-18  11:44 PM            26,624 h5diff-shared.exe\n",
      "09-May-18  11:33 PM         2,553,856 h5dump.exe\n",
      "09-May-18  11:45 PM           112,128 h5dump-shared.exe\n",
      "09-May-18  11:33 PM         2,255,360 h5format_convert.exe\n",
      "09-May-18  11:32 PM         2,310,144 h5import.exe\n",
      "09-May-18  11:32 PM         2,238,464 h5jam.exe\n",
      "09-May-18  11:31 PM         2,413,568 h5ls.exe\n",
      "09-May-18  11:44 PM            50,176 h5ls-shared.exe\n",
      "09-May-18  11:31 PM         2,241,536 h5mkgrp.exe\n",
      "09-May-18  11:32 PM         2,439,168 h5repack.exe\n",
      "09-May-18  11:45 PM            87,552 h5repack-shared.exe\n",
      "09-May-18  11:31 PM         2,198,016 h5repart.exe\n",
      "09-May-18  11:33 PM         2,284,032 h5stat.exe\n",
      "09-May-18  11:44 PM            32,256 h5stat-shared.exe\n",
      "09-May-18  11:32 PM         2,237,440 h5unjam.exe\n",
      "09-May-18  11:36 PM         2,368,512 h5watch.exe\n",
      "09-May-18  11:10 PM         3,059,712 hdf5.dll\n",
      "09-May-18  11:37 PM           419,840 hdf5_cpp.dll\n",
      "09-May-18  11:35 PM           113,664 hdf5_hl.dll\n",
      "09-May-18  11:45 PM            16,384 hdf5_hl_cpp.dll\n",
      "09-May-18  11:35 PM           208,384 hdf5_tools.dll\n",
      "14-Nov-17  02:25 AM           938,496 iconv.dll\n",
      "17-Nov-17  04:28 AM            26,466 icu-config\n",
      "17-Nov-17  04:28 AM        26,216,448 icudt.dll\n",
      "17-Nov-17  04:28 AM        26,216,448 icudt58.dll\n",
      "17-Nov-17  04:28 AM         2,713,088 icuin.dll\n",
      "17-Nov-17  04:28 AM         2,713,088 icuin58.dll\n",
      "17-Nov-17  04:28 AM            13,312 icuinfo.exe\n",
      "17-Nov-17  04:28 AM            66,048 icuio.dll\n",
      "17-Nov-17  04:28 AM            66,048 icuio58.dll\n",
      "17-Nov-17  04:28 AM            25,600 icupkg.exe\n",
      "17-Nov-17  04:28 AM            73,728 icutest.dll\n",
      "17-Nov-17  04:28 AM            73,728 icutest58.dll\n",
      "17-Nov-17  04:28 AM           263,168 icutu.dll\n",
      "17-Nov-17  04:28 AM           263,168 icutu58.dll\n",
      "17-Nov-17  04:28 AM         1,905,664 icuuc.dll\n",
      "17-Nov-17  04:28 AM         1,905,664 icuuc58.dll\n",
      "25-Aug-18  06:02 PM           755,712 idc.exe\n",
      "12-Apr-17  08:59 PM           394,496 ifdlg100.dll\n",
      "18-Dec-18  09:17 PM    <DIR>          irml\n",
      "18-Dec-18  09:17 PM    <DIR>          irml_c\n",
      "09-Nov-17  11:02 AM            37,376 jpegtran.exe\n",
      "25-Aug-18  06:42 PM           200,192 lconvert.exe\n",
      "23-May-18  12:57 AM           184,832 libbz2.dll\n",
      "12-Apr-17  08:59 PM           101,120 libchkp.dll\n",
      "25-Jul-18  08:15 PM           408,064 libcurl.dll\n",
      "14-Aug-18  08:11 PM         2,101,248 libeay32.dll\n",
      "25-Aug-18  05:51 PM            14,336 libEGL.dll\n",
      "26-Jan-18  11:57 PM            84,992 libexslt.dll\n",
      "25-Aug-18  05:51 PM         2,521,600 libGLESv2.dll\n",
      "12-Apr-17  08:59 PM           257,280 libicaf.dll\n",
      "12-Apr-17  08:59 PM         1,744,640 libifcoremd.dll\n",
      "12-Apr-17  08:59 PM         1,732,864 libifcorert.dll\n",
      "12-Apr-17  08:59 PM           341,760 libifportmd.dll\n",
      "04-Jun-18  07:56 PM            12,520 libimalloc.dll\n",
      "12-Apr-17  08:59 PM           935,680 libioffload_host.dll\n",
      "19-Sep-18  12:13 AM         1,694,424 libiomp5md.dll\n",
      "19-Sep-18  12:13 AM         4,566,016 libiomp5md.pdb\n",
      "19-Sep-18  12:13 AM           111,320 libiompstubs5md.dll\n",
      "12-Apr-17  08:59 PM         1,540,352 libirngmd.dll\n",
      "09-Nov-17  11:02 AM           229,376 libjpeg.dll\n",
      "12-Apr-17  08:59 PM         3,493,632 libmmd.dll\n",
      "12-Apr-17  08:59 PM            81,664 libmpx.dll\n",
      "12-Apr-17  08:59 PM           935,680 liboffload.dll\n",
      "24-Jan-18  03:22 AM           232,448 libpng16.dll\n",
      "28-Mar-18  12:42 PM           282,112 libsodium.dll\n",
      "24-Jan-18  03:38 AM           168,448 libssh2.dll\n",
      "23-May-18  03:19 PM         1,340,928 libxml2.dll\n",
      "26-Jan-18  11:56 PM           228,864 libxslt.dll\n",
      "11-Jul-18  08:21 PM           442,880 libzmq.dll\n",
      "11-Jul-18  08:21 PM            13,908 libzmq.lib\n",
      "11-Jul-18  08:18 PM           442,880 libzmq-mt-4_2_5.dll\n",
      "25-Aug-18  06:44 PM         1,332,224 linguist.exe\n",
      "25-Aug-18  06:42 PM           369,152 lrelease.exe\n",
      "25-Aug-18  06:43 PM           684,032 lupdate.exe\n",
      "22-Nov-17  02:30 AM           109,568 lzo2.dll\n",
      "17-Nov-17  04:28 AM            55,808 makeconv.exe\n",
      "18-Mar-16  12:24 PM         5,645,112 mfc140u.dll\n",
      "18-Mar-16  12:24 PM           105,792 mfcm140u.dll\n",
      "04-Jun-18  07:56 PM        39,670,504 mkl_avx.dll\n",
      "04-Jun-18  07:56 PM        47,275,752 mkl_avx2.dll\n",
      "04-Jun-18  07:56 PM        65,571,560 mkl_avx512.dll\n",
      "04-Jun-18  07:56 PM        73,317,608 mkl_avx512_mic.dll\n",
      "04-Jun-18  07:56 PM           522,984 mkl_blacs_ilp64.dll\n",
      "04-Jun-18  07:56 PM           121,064 mkl_blacs_intelmpi_ilp64.dll\n",
      "04-Jun-18  07:56 PM           121,064 mkl_blacs_intelmpi_lp64.dll\n",
      "04-Jun-18  07:56 PM           280,808 mkl_blacs_lp64.dll\n",
      "04-Jun-18  07:56 PM           121,064 mkl_blacs_mpich2_ilp64.dll\n",
      "04-Jun-18  07:56 PM           121,064 mkl_blacs_mpich2_lp64.dll\n",
      "04-Jun-18  07:56 PM           121,064 mkl_blacs_msmpi_ilp64.dll\n",
      "04-Jun-18  07:56 PM           121,064 mkl_blacs_msmpi_lp64.dll\n",
      "04-Jun-18  07:56 PM           261,352 mkl_cdft_core.dll\n",
      "04-Jun-18  07:56 PM        67,528,424 mkl_core.dll\n",
      "04-Jun-18  07:56 PM        32,727,272 mkl_def.dll\n",
      "04-Jun-18  07:56 PM        31,078,632 mkl_intel_thread.dll\n",
      "04-Jun-18  07:56 PM        38,247,656 mkl_mc.dll\n",
      "04-Jun-18  07:56 PM        39,054,568 mkl_mc3.dll\n",
      "04-Jun-18  07:56 PM        25,640,168 mkl_pgi_thread.dll\n",
      "04-Jun-18  07:56 PM        13,857,512 mkl_rt.dll\n",
      "04-Jun-18  07:56 PM         7,352,040 mkl_scalapack_ilp64.dll\n",
      "04-Jun-18  07:56 PM         7,301,352 mkl_scalapack_lp64.dll\n",
      "04-Jun-18  07:56 PM        16,129,768 mkl_sequential.dll\n",
      "04-Jun-18  07:56 PM        19,783,400 mkl_tbb_thread.dll\n",
      "04-Jun-18  07:56 PM        13,602,024 mkl_vml_avx.dll\n",
      "04-Jun-18  07:56 PM        13,343,464 mkl_vml_avx2.dll\n",
      "04-Jun-18  07:56 PM        12,266,728 mkl_vml_avx512.dll\n",
      "04-Jun-18  07:56 PM        13,989,608 mkl_vml_avx512_mic.dll\n",
      "04-Jun-18  07:56 PM         6,669,032 mkl_vml_cmpt.dll\n",
      "04-Jun-18  07:56 PM         6,896,360 mkl_vml_def.dll\n",
      "04-Jun-18  07:56 PM        12,073,704 mkl_vml_mc.dll\n",
      "04-Jun-18  07:56 PM        11,938,536 mkl_vml_mc2.dll\n",
      "04-Jun-18  07:56 PM        12,010,216 mkl_vml_mc3.dll\n",
      "25-Aug-18  05:49 PM         1,159,680 moc.exe\n",
      "21-Sep-18  01:53 AM           625,808 msvcp140.dll\n",
      "21-Sep-18  01:53 AM            31,896 msvcp140_1.dll\n",
      "21-Sep-18  01:53 AM           195,248 msvcp140_2.dll\n",
      "14-Jun-16  06:30 PM        20,923,392 opengl32sw.dll\n",
      "24-Aug-18  12:10 AM            16,896 pal2rgb.exe\n",
      "25-Aug-18  06:15 PM            52,736 pixeltool.exe\n",
      "17-Nov-17  04:28 AM            41,984 pkgdata.exe\n",
      "24-Jan-18  03:22 AM            48,128 pngfix.exe\n",
      "24-Jan-18  03:22 AM            11,776 png-fix-itxt.exe\n",
      "24-Aug-18  12:10 AM            17,408 ppm2tiff.exe\n",
      "18-Dec-18  09:17 PM                88 pylupdate5.bat\n",
      "18-Dec-18  09:17 PM                84 pyrcc5.bat\n",
      "02-Aug-18  05:12 AM           552,448 pythoncom37.dll\n",
      "18-Dec-18  09:17 PM                83 pyuic5.bat\n",
      "02-Aug-18  05:11 AM           137,216 pywintypes37.dll\n",
      "25-Aug-18  06:19 PM            51,712 qcollectiongenerator.exe\n",
      "25-Aug-18  06:16 PM            50,688 qdbus.exe\n",
      "25-Aug-18  05:54 PM           192,000 qdbuscpp2xml.exe\n",
      "25-Aug-18  06:17 PM           242,688 qdbusviewer.exe\n",
      "25-Aug-18  05:53 PM            72,192 qdbusxml2cpp.exe\n",
      "25-Aug-18  06:16 PM         1,166,848 qdoc.exe\n",
      "25-Aug-18  06:43 PM         4,126,208 qgltf.exe\n",
      "25-Aug-18  06:22 PM           172,544 qhelpconverter.exe\n",
      "25-Aug-18  06:18 PM            26,112 qhelpgenerator.exe\n",
      "25-Aug-18  05:53 PM           108,032 qlalr.exe\n",
      "25-Aug-18  05:46 PM         2,366,464 qmake.exe\n",
      "25-Aug-18  06:12 PM            54,272 qml.exe\n",
      "25-Aug-18  06:12 PM           885,760 qmlcachegen.exe\n",
      "25-Aug-18  06:12 PM           124,928 qmleasing.exe\n",
      "25-Aug-18  06:12 PM           209,408 qmlimportscanner.exe\n",
      "25-Aug-18  06:12 PM           150,528 qmllint.exe\n",
      "25-Aug-18  06:12 PM            84,480 qmlmin.exe\n",
      "25-Aug-18  06:12 PM           113,152 qmlplugindump.exe\n",
      "25-Aug-18  06:12 PM           133,120 qmlprofiler.exe\n",
      "25-Aug-18  06:12 PM            50,176 qmlscene.exe\n",
      "25-Aug-18  06:12 PM            10,752 qmltestrunner.exe\n",
      "25-Aug-18  06:16 PM           316,928 qscxmlc.exe\n",
      "18-Dec-18  09:18 PM               251 qt.conf\n",
      "25-Aug-18  06:32 PM           317,440 Qt53DAnimation.dll\n",
      "25-Aug-18  06:21 PM           302,592 Qt53DCore.dll\n",
      "25-Aug-18  06:37 PM           543,744 Qt53DExtras.dll\n",
      "25-Aug-18  06:32 PM           394,240 Qt53DInput.dll\n",
      "25-Aug-18  06:22 PM            47,104 Qt53DLogic.dll\n",
      "25-Aug-18  06:33 PM           159,744 Qt53DQuick.dll\n",
      "25-Aug-18  06:40 PM            49,664 Qt53DQuickAnimation.dll\n",
      "25-Aug-18  06:40 PM            59,904 Qt53DQuickExtras.dll\n",
      "25-Aug-18  06:35 PM            46,080 Qt53DQuickInput.dll\n",
      "25-Aug-18  06:37 PM           132,096 Qt53DQuickRender.dll\n",
      "25-Aug-18  06:35 PM            79,872 Qt53DQuickScene2D.dll\n",
      "25-Aug-18  06:30 PM         1,751,040 Qt53DRender.dll\n",
      "25-Aug-18  06:16 PM           210,944 Qt5Bluetooth.dll\n",
      "25-Aug-18  06:42 PM         1,148,416 Qt5Charts.dll\n",
      "25-Aug-18  05:53 PM            26,624 Qt5Concurrent.dll\n",
      "25-Aug-18  05:52 PM         5,103,616 Qt5Core.dll\n",
      "25-Aug-18  06:33 PM         1,150,464 Qt5DataVisualization.dll\n",
      "25-Aug-18  05:53 PM           413,696 Qt5DBus.dll\n",
      "25-Aug-18  06:28 PM         4,681,728 Qt5Designer.dll\n",
      "25-Aug-18  06:37 PM         1,971,712 Qt5DesignerComponents.dll\n",
      "25-Aug-18  06:13 PM            94,208 Qt5Gamepad.dll\n",
      "25-Aug-18  05:56 PM         5,924,864 Qt5Gui.dll\n",
      "25-Aug-18  06:18 PM           352,256 Qt5Help.dll\n",
      "25-Aug-18  06:35 PM         1,172,480 Qt5Location.dll\n",
      "25-Aug-18  06:24 PM           713,216 Qt5Multimedia.dll\n",
      "25-Aug-18  06:24 PM           114,688 Qt5MultimediaQuick_p.dll\n",
      "25-Aug-18  06:24 PM           101,888 Qt5MultimediaWidgets.dll\n",
      "25-Aug-18  05:55 PM         1,226,240 Qt5Network.dll\n",
      "25-Aug-18  09:51 PM           152,576 Qt5NetworkAuth.dll\n",
      "25-Aug-18  06:16 PM           130,048 Qt5Nfc.dll\n",
      "25-Aug-18  05:59 PM           322,560 Qt5OpenGL.dll\n",
      "25-Aug-18  06:29 PM           286,720 Qt5Positioning.dll\n",
      "25-Aug-18  05:59 PM           319,488 Qt5PrintSupport.dll\n",
      "25-Aug-18  06:13 PM            37,888 Qt5Purchasing.dll\n",
      "25-Aug-18  06:06 PM         3,433,472 Qt5Qml.dll\n",
      "25-Aug-18  06:08 PM         3,464,704 Qt5Quick.dll\n",
      "25-Aug-18  06:24 PM           118,272 Qt5QuickControls2.dll\n",
      "25-Aug-18  06:09 PM           452,096 Qt5QuickParticles.dll\n",
      "25-Aug-18  06:23 PM           777,216 Qt5QuickTemplates2.dll\n",
      "25-Aug-18  06:09 PM           121,344 Qt5QuickTest.dll\n",
      "25-Aug-18  06:09 PM            72,192 Qt5QuickWidgets.dll\n",
      "25-Aug-18  06:14 PM           365,056 Qt5RemoteObjects.dll\n",
      "25-Aug-18  06:46 PM         1,225,728 Qt5Script.dll\n",
      "25-Aug-18  06:46 PM           567,808 Qt5ScriptTools.dll\n",
      "25-Aug-18  06:14 PM           406,528 Qt5Scxml.dll\n",
      "25-Aug-18  06:17 PM           201,728 Qt5Sensors.dll\n",
      "25-Aug-18  06:02 PM           202,240 Qt5SerialBus.dll\n",
      "25-Aug-18  06:01 PM            70,144 Qt5SerialPort.dll\n",
      "25-Aug-18  05:53 PM           202,240 Qt5Sql.dll\n",
      "25-Aug-18  06:01 PM           329,728 Qt5Svg.dll\n",
      "25-Aug-18  05:59 PM           185,344 Qt5Test.dll\n",
      "25-Aug-18  06:28 PM            43,520 Qt5TextToSpeech.dll\n",
      "25-Aug-18  06:17 PM           111,616 Qt5WebChannel.dll\n",
      "25-Aug-18  09:51 PM           331,264 Qt5WebEngine.dll\n",
      "25-Aug-18  09:50 PM        68,371,968 Qt5WebEngineCore.dll\n",
      "25-Aug-18  09:51 PM           221,696 Qt5WebEngineWidgets.dll\n",
      "25-Aug-18  06:13 PM           148,480 Qt5WebSockets.dll\n",
      "25-Aug-18  09:51 PM            71,680 Qt5WebView.dll\n",
      "25-Aug-18  05:58 PM         5,571,584 Qt5Widgets.dll\n",
      "25-Aug-18  06:30 PM           461,824 Qt5WinExtras.dll\n",
      "25-Aug-18  05:52 PM           192,512 Qt5Xml.dll\n",
      "25-Aug-18  06:03 PM         2,793,472 Qt5XmlPatterns.dll\n",
      "25-Aug-18  06:16 PM            53,760 qtattributionsscanner.exe\n",
      "25-Aug-18  06:16 PM            55,296 qtdiag.exe\n",
      "25-Aug-18  06:16 PM            32,256 qtpaths.exe\n",
      "25-Aug-18  06:15 PM            28,160 qtplugininfo.exe\n",
      "25-Aug-18  09:50 PM            19,456 QtWebEngineProcess.exe\n",
      "25-Aug-18  09:50 PM           314,368 qwebengine_convert_dict.exe\n",
      "24-Aug-18  12:11 AM            24,576 raw2tiff.exe\n",
      "25-Aug-18  05:49 PM           953,856 rcc.exe\n",
      "09-Nov-17  11:02 AM            14,848 rdjpgcom.exe\n",
      "25-Aug-18  06:15 PM           378,368 repc.exe\n",
      "23-May-18  03:20 PM            19,456 runxmlconf.exe\n",
      "01-Aug-18  10:09 PM           398,336 sip.exe\n",
      "28-Nov-17  12:34 AM            77,312 snappy.dll\n",
      "19-Jun-18  04:18 AM           962,560 sqlite3.dll\n",
      "19-Jun-18  04:18 AM         1,224,192 sqlite3.exe\n",
      "14-Aug-18  08:11 PM           356,864 ssleay32.dll\n",
      "12-Apr-17  08:59 PM        11,632,384 svml_dispmd.dll\n",
      "07-Jun-18  11:58 AM            50,498 syncqt.pl\n",
      "29-Aug-18  02:48 AM         1,710,592 tcl86t.dll\n",
      "29-Aug-18  02:48 AM            71,168 tclsh.exe\n",
      "29-Aug-18  02:48 AM            71,168 tclsh86.exe\n",
      "29-Aug-18  02:48 AM            71,168 tclsh86t.exe\n",
      "25-Aug-18  06:03 PM           602,624 testcon.exe\n",
      "24-Aug-18  12:10 AM           631,296 tiff.dll\n",
      "24-Aug-18  12:11 AM            18,432 tiff2bw.exe\n",
      "24-Aug-18  12:11 AM            76,800 tiff2pdf.exe\n",
      "24-Aug-18  12:11 AM            48,640 tiff2ps.exe\n",
      "24-Aug-18  12:11 AM            18,432 tiff2rgba.exe\n",
      "24-Aug-18  12:11 AM            21,504 tiffcmp.exe\n",
      "24-Aug-18  12:11 AM            36,352 tiffcp.exe\n",
      "24-Aug-18  12:11 AM           104,960 tiffcrop.exe\n",
      "24-Aug-18  12:11 AM            16,896 tiffdither.exe\n",
      "24-Aug-18  12:11 AM            22,528 tiffdump.exe\n",
      "24-Aug-18  12:11 AM            19,456 tiffinfo.exe\n",
      "24-Aug-18  12:11 AM            22,016 tiffmedian.exe\n",
      "24-Aug-18  12:11 AM            15,360 tiffset.exe\n",
      "24-Aug-18  12:11 AM            15,872 tiffsplit.exe\n",
      "24-Aug-18  12:11 AM            10,240 tiffxx.dll\n",
      "29-Aug-18  02:50 AM         1,475,584 tk86t.dll\n",
      "17-Nov-17  04:28 AM            55,296 uconv.exe\n",
      "20-Apr-18  07:07 PM         1,016,584 ucrtbase.dll\n",
      "25-Aug-18  05:53 PM           380,928 uic.exe\n",
      "21-Sep-18  01:53 AM           386,720 vccorlib140.dll\n",
      "21-Sep-18  01:53 AM           155,280 vcomp140.dll\n",
      "21-Sep-18  01:53 AM            87,200 vcruntime140.dll\n",
      "25-Aug-18  06:16 PM         1,147,392 windeployqt.exe\n",
      "03-Feb-18  12:14 AM         2,509,089 winpty.dll\n",
      "03-Feb-18  12:14 AM         2,627,338 winpty-agent.exe\n",
      "29-Aug-18  02:50 AM            58,368 wish.exe\n",
      "29-Aug-18  02:50 AM            58,368 wish86.exe\n",
      "29-Aug-18  02:50 AM            58,368 wish86t.exe\n",
      "09-Nov-17  11:02 AM            15,360 wrjpgcom.exe\n",
      "23-May-18  03:20 PM            19,968 xmlcatalog.exe\n",
      "23-May-18  03:20 PM            57,856 xmllint.exe\n",
      "25-Aug-18  06:03 PM            58,368 xmlpatterns.exe\n",
      "25-Aug-18  06:03 PM            13,312 xmlpatternsvalidator.exe\n",
      "26-Jan-18  11:57 PM            24,576 xsltproc.exe\n",
      "14-Nov-17  04:21 AM           109,568 yaml.dll\n",
      "08-Nov-17  04:27 AM            90,112 zlib.dll\n",
      "             344 File(s)    962,777,864 bytes\n",
      "               6 Dir(s)     674,226,176 bytes free\n"
     ]
    }
   ],
   "source": [
    "ls"
   ]
  },
  {
   "cell_type": "code",
   "execution_count": 81,
   "metadata": {},
   "outputs": [
    {
     "name": "stderr",
     "output_type": "stream",
     "text": [
      "'source' is not recognized as an internal or external command,\n",
      "operable program or batch file.\n"
     ]
    }
   ],
   "source": [
    "!source ./activate"
   ]
  },
  {
   "cell_type": "code",
   "execution_count": 82,
   "metadata": {},
   "outputs": [
    {
     "data": {
      "text/plain": [
       "'D:\\\\python3\\\\envs\\\\newenvt\\\\library\\\\bin'"
      ]
     },
     "execution_count": 82,
     "metadata": {},
     "output_type": "execute_result"
    }
   ],
   "source": [
    "pwd\n"
   ]
  },
  {
   "cell_type": "code",
   "execution_count": 83,
   "metadata": {},
   "outputs": [
    {
     "name": "stdout",
     "output_type": "stream",
     "text": [
      " Volume in drive D is RECOVERY\n",
      " Volume Serial Number is B8C5-8737\n",
      "\n",
      " Directory of D:\\python3\\envs\\newenvt\\library\\bin\n",
      "\n",
      "18-Dec-18  09:18 PM    <DIR>          .\n",
      "18-Dec-18  09:18 PM    <DIR>          ..\n",
      "18-Dec-18  09:17 PM    <DIR>          1033\n",
      "18-Dec-18  09:17 PM    <DIR>          1041\n",
      "20-Apr-18  06:58 PM            19,208 api-ms-win-core-console-l1-1-0.dll\n",
      "20-Apr-18  06:58 PM            18,696 api-ms-win-core-datetime-l1-1-0.dll\n",
      "20-Apr-18  06:58 PM            18,696 api-ms-win-core-debug-l1-1-0.dll\n",
      "20-Apr-18  06:58 PM            18,696 api-ms-win-core-errorhandling-l1-1-0.dll\n",
      "20-Apr-18  06:59 PM            22,280 api-ms-win-core-file-l1-1-0.dll\n",
      "20-Apr-18  07:07 PM            18,696 api-ms-win-core-file-l1-2-0.dll\n",
      "20-Apr-18  07:07 PM            18,696 api-ms-win-core-file-l2-1-0.dll\n",
      "20-Apr-18  07:07 PM            18,696 api-ms-win-core-handle-l1-1-0.dll\n",
      "20-Apr-18  07:07 PM            19,208 api-ms-win-core-heap-l1-1-0.dll\n",
      "20-Apr-18  07:07 PM            18,696 api-ms-win-core-interlocked-l1-1-0.dll\n",
      "20-Apr-18  07:07 PM            19,720 api-ms-win-core-libraryloader-l1-1-0.dll\n",
      "20-Apr-18  07:07 PM            21,256 api-ms-win-core-localization-l1-2-0.dll\n",
      "20-Apr-18  07:07 PM            19,208 api-ms-win-core-memory-l1-1-0.dll\n",
      "20-Apr-18  07:07 PM            18,696 api-ms-win-core-namedpipe-l1-1-0.dll\n",
      "20-Apr-18  07:07 PM            19,720 api-ms-win-core-processenvironment-l1-1-0.dll\n",
      "20-Apr-18  07:07 PM            20,744 api-ms-win-core-processthreads-l1-1-0.dll\n",
      "20-Apr-18  07:07 PM            19,208 api-ms-win-core-processthreads-l1-1-1.dll\n",
      "20-Apr-18  07:07 PM            18,184 api-ms-win-core-profile-l1-1-0.dll\n",
      "20-Apr-18  07:07 PM            19,208 api-ms-win-core-rtlsupport-l1-1-0.dll\n",
      "20-Apr-18  07:07 PM            18,696 api-ms-win-core-string-l1-1-0.dll\n",
      "20-Apr-18  07:07 PM            20,744 api-ms-win-core-synch-l1-1-0.dll\n",
      "20-Apr-18  07:07 PM            19,208 api-ms-win-core-synch-l1-2-0.dll\n",
      "20-Apr-18  07:07 PM            19,720 api-ms-win-core-sysinfo-l1-1-0.dll\n",
      "20-Apr-18  07:07 PM            19,208 api-ms-win-core-timezone-l1-1-0.dll\n",
      "20-Apr-18  07:07 PM            18,696 api-ms-win-core-util-l1-1-0.dll\n",
      "20-Apr-18  07:07 PM            19,720 api-ms-win-crt-conio-l1-1-0.dll\n",
      "20-Apr-18  07:07 PM            22,792 api-ms-win-crt-convert-l1-1-0.dll\n",
      "20-Apr-18  07:07 PM            19,208 api-ms-win-crt-environment-l1-1-0.dll\n",
      "20-Apr-18  07:07 PM            20,744 api-ms-win-crt-filesystem-l1-1-0.dll\n",
      "20-Apr-18  07:07 PM            19,720 api-ms-win-crt-heap-l1-1-0.dll\n",
      "20-Apr-18  07:07 PM            19,208 api-ms-win-crt-locale-l1-1-0.dll\n",
      "20-Apr-18  07:07 PM            27,912 api-ms-win-crt-math-l1-1-0.dll\n",
      "20-Apr-18  07:07 PM            26,888 api-ms-win-crt-multibyte-l1-1-0.dll\n",
      "20-Apr-18  07:07 PM            71,432 api-ms-win-crt-private-l1-1-0.dll\n",
      "20-Apr-18  07:07 PM            19,720 api-ms-win-crt-process-l1-1-0.dll\n",
      "20-Apr-18  07:07 PM            23,304 api-ms-win-crt-runtime-l1-1-0.dll\n",
      "20-Apr-18  07:07 PM            24,840 api-ms-win-crt-stdio-l1-1-0.dll\n",
      "20-Apr-18  07:07 PM            24,840 api-ms-win-crt-string-l1-1-0.dll\n",
      "20-Apr-18  07:07 PM            21,256 api-ms-win-crt-time-l1-1-0.dll\n",
      "20-Apr-18  07:07 PM            19,208 api-ms-win-crt-utility-l1-1-0.dll\n",
      "25-Aug-18  06:23 PM         1,228,288 assistant.exe\n",
      "19-Aug-18  05:51 PM           250,880 blosc.dll\n",
      "23-May-18  12:57 AM           184,832 bzip2.dll\n",
      "25-Aug-18  06:03 PM            38,912 canbusutil.exe\n",
      "14-Nov-17  02:25 AM            12,288 charset.dll\n",
      "12-Apr-17  05:34 PM           313,584 cilkrts20.dll\n",
      "09-Nov-17  11:02 AM            34,304 cjpeg.exe\n",
      "21-Sep-18  01:53 AM           329,368 concrt140.dll\n",
      "25-Jul-18  08:15 PM           354,816 curl.exe\n",
      "17-Nov-17  04:28 AM            25,600 derb.exe\n",
      "25-Aug-18  06:40 PM           563,712 designer.exe\n",
      "09-Nov-17  11:02 AM            29,696 djpeg.exe\n",
      "25-Aug-18  06:02 PM           209,408 dumpcpp.exe\n",
      "25-Aug-18  06:02 PM           166,912 dumpdoc.exe\n",
      "24-Aug-18  12:10 AM            20,480 fax2ps.exe\n",
      "24-Aug-18  12:10 AM            18,944 fax2tiff.exe\n",
      "07-Jun-18  11:58 AM             6,523 fixqt4headers.pl\n",
      "27-Jul-18  03:20 AM           617,984 freetype.dll\n",
      "17-Nov-17  04:28 AM            21,504 genbrk.exe\n",
      "17-Nov-17  04:28 AM            13,312 genccode.exe\n",
      "17-Nov-17  04:28 AM            17,408 gencfu.exe\n",
      "17-Nov-17  04:28 AM            13,312 gencmn.exe\n",
      "17-Nov-17  04:28 AM            26,624 gencnval.exe\n",
      "17-Nov-17  04:28 AM            28,672 gendict.exe\n",
      "17-Nov-17  04:28 AM            52,736 gennorm2.exe\n",
      "17-Nov-17  04:28 AM           139,264 genrb.exe\n",
      "17-Nov-17  04:28 AM            25,600 gensprep.exe\n",
      "09-May-18  11:36 PM         2,303,488 gif2h5.exe\n",
      "09-May-18  11:36 PM         2,272,768 h52gif.exe\n",
      "09-May-18  11:32 PM         2,242,560 h5clear.exe\n",
      "09-May-18  11:32 PM         2,264,064 h5copy.exe\n",
      "09-May-18  11:44 PM            19,968 h5copy-shared.exe\n",
      "09-May-18  11:31 PM         2,255,872 h5debug.exe\n",
      "09-May-18  11:31 PM         2,422,784 h5diff.exe\n",
      "09-May-18  11:44 PM            26,624 h5diff-shared.exe\n",
      "09-May-18  11:33 PM         2,553,856 h5dump.exe\n",
      "09-May-18  11:45 PM           112,128 h5dump-shared.exe\n",
      "09-May-18  11:33 PM         2,255,360 h5format_convert.exe\n",
      "09-May-18  11:32 PM         2,310,144 h5import.exe\n",
      "09-May-18  11:32 PM         2,238,464 h5jam.exe\n",
      "09-May-18  11:31 PM         2,413,568 h5ls.exe\n",
      "09-May-18  11:44 PM            50,176 h5ls-shared.exe\n",
      "09-May-18  11:31 PM         2,241,536 h5mkgrp.exe\n",
      "09-May-18  11:32 PM         2,439,168 h5repack.exe\n",
      "09-May-18  11:45 PM            87,552 h5repack-shared.exe\n",
      "09-May-18  11:31 PM         2,198,016 h5repart.exe\n",
      "09-May-18  11:33 PM         2,284,032 h5stat.exe\n",
      "09-May-18  11:44 PM            32,256 h5stat-shared.exe\n",
      "09-May-18  11:32 PM         2,237,440 h5unjam.exe\n",
      "09-May-18  11:36 PM         2,368,512 h5watch.exe\n",
      "09-May-18  11:10 PM         3,059,712 hdf5.dll\n",
      "09-May-18  11:37 PM           419,840 hdf5_cpp.dll\n",
      "09-May-18  11:35 PM           113,664 hdf5_hl.dll\n",
      "09-May-18  11:45 PM            16,384 hdf5_hl_cpp.dll\n",
      "09-May-18  11:35 PM           208,384 hdf5_tools.dll\n",
      "14-Nov-17  02:25 AM           938,496 iconv.dll\n",
      "17-Nov-17  04:28 AM            26,466 icu-config\n",
      "17-Nov-17  04:28 AM        26,216,448 icudt.dll\n",
      "17-Nov-17  04:28 AM        26,216,448 icudt58.dll\n",
      "17-Nov-17  04:28 AM         2,713,088 icuin.dll\n",
      "17-Nov-17  04:28 AM         2,713,088 icuin58.dll\n",
      "17-Nov-17  04:28 AM            13,312 icuinfo.exe\n",
      "17-Nov-17  04:28 AM            66,048 icuio.dll\n",
      "17-Nov-17  04:28 AM            66,048 icuio58.dll\n",
      "17-Nov-17  04:28 AM            25,600 icupkg.exe\n",
      "17-Nov-17  04:28 AM            73,728 icutest.dll\n",
      "17-Nov-17  04:28 AM            73,728 icutest58.dll\n",
      "17-Nov-17  04:28 AM           263,168 icutu.dll\n",
      "17-Nov-17  04:28 AM           263,168 icutu58.dll\n",
      "17-Nov-17  04:28 AM         1,905,664 icuuc.dll\n",
      "17-Nov-17  04:28 AM         1,905,664 icuuc58.dll\n",
      "25-Aug-18  06:02 PM           755,712 idc.exe\n",
      "12-Apr-17  08:59 PM           394,496 ifdlg100.dll\n",
      "18-Dec-18  09:17 PM    <DIR>          irml\n",
      "18-Dec-18  09:17 PM    <DIR>          irml_c\n",
      "09-Nov-17  11:02 AM            37,376 jpegtran.exe\n",
      "25-Aug-18  06:42 PM           200,192 lconvert.exe\n",
      "23-May-18  12:57 AM           184,832 libbz2.dll\n",
      "12-Apr-17  08:59 PM           101,120 libchkp.dll\n",
      "25-Jul-18  08:15 PM           408,064 libcurl.dll\n",
      "14-Aug-18  08:11 PM         2,101,248 libeay32.dll\n",
      "25-Aug-18  05:51 PM            14,336 libEGL.dll\n",
      "26-Jan-18  11:57 PM            84,992 libexslt.dll\n",
      "25-Aug-18  05:51 PM         2,521,600 libGLESv2.dll\n",
      "12-Apr-17  08:59 PM           257,280 libicaf.dll\n",
      "12-Apr-17  08:59 PM         1,744,640 libifcoremd.dll\n",
      "12-Apr-17  08:59 PM         1,732,864 libifcorert.dll\n",
      "12-Apr-17  08:59 PM           341,760 libifportmd.dll\n",
      "04-Jun-18  07:56 PM            12,520 libimalloc.dll\n",
      "12-Apr-17  08:59 PM           935,680 libioffload_host.dll\n",
      "19-Sep-18  12:13 AM         1,694,424 libiomp5md.dll\n",
      "19-Sep-18  12:13 AM         4,566,016 libiomp5md.pdb\n",
      "19-Sep-18  12:13 AM           111,320 libiompstubs5md.dll\n",
      "12-Apr-17  08:59 PM         1,540,352 libirngmd.dll\n",
      "09-Nov-17  11:02 AM           229,376 libjpeg.dll\n",
      "12-Apr-17  08:59 PM         3,493,632 libmmd.dll\n",
      "12-Apr-17  08:59 PM            81,664 libmpx.dll\n",
      "12-Apr-17  08:59 PM           935,680 liboffload.dll\n",
      "24-Jan-18  03:22 AM           232,448 libpng16.dll\n",
      "28-Mar-18  12:42 PM           282,112 libsodium.dll\n",
      "24-Jan-18  03:38 AM           168,448 libssh2.dll\n",
      "23-May-18  03:19 PM         1,340,928 libxml2.dll\n",
      "26-Jan-18  11:56 PM           228,864 libxslt.dll\n",
      "11-Jul-18  08:21 PM           442,880 libzmq.dll\n",
      "11-Jul-18  08:21 PM            13,908 libzmq.lib\n",
      "11-Jul-18  08:18 PM           442,880 libzmq-mt-4_2_5.dll\n",
      "25-Aug-18  06:44 PM         1,332,224 linguist.exe\n",
      "25-Aug-18  06:42 PM           369,152 lrelease.exe\n",
      "25-Aug-18  06:43 PM           684,032 lupdate.exe\n",
      "22-Nov-17  02:30 AM           109,568 lzo2.dll\n",
      "17-Nov-17  04:28 AM            55,808 makeconv.exe\n",
      "18-Mar-16  12:24 PM         5,645,112 mfc140u.dll\n",
      "18-Mar-16  12:24 PM           105,792 mfcm140u.dll\n",
      "04-Jun-18  07:56 PM        39,670,504 mkl_avx.dll\n",
      "04-Jun-18  07:56 PM        47,275,752 mkl_avx2.dll\n",
      "04-Jun-18  07:56 PM        65,571,560 mkl_avx512.dll\n",
      "04-Jun-18  07:56 PM        73,317,608 mkl_avx512_mic.dll\n",
      "04-Jun-18  07:56 PM           522,984 mkl_blacs_ilp64.dll\n",
      "04-Jun-18  07:56 PM           121,064 mkl_blacs_intelmpi_ilp64.dll\n",
      "04-Jun-18  07:56 PM           121,064 mkl_blacs_intelmpi_lp64.dll\n",
      "04-Jun-18  07:56 PM           280,808 mkl_blacs_lp64.dll\n",
      "04-Jun-18  07:56 PM           121,064 mkl_blacs_mpich2_ilp64.dll\n",
      "04-Jun-18  07:56 PM           121,064 mkl_blacs_mpich2_lp64.dll\n",
      "04-Jun-18  07:56 PM           121,064 mkl_blacs_msmpi_ilp64.dll\n",
      "04-Jun-18  07:56 PM           121,064 mkl_blacs_msmpi_lp64.dll\n",
      "04-Jun-18  07:56 PM           261,352 mkl_cdft_core.dll\n",
      "04-Jun-18  07:56 PM        67,528,424 mkl_core.dll\n",
      "04-Jun-18  07:56 PM        32,727,272 mkl_def.dll\n",
      "04-Jun-18  07:56 PM        31,078,632 mkl_intel_thread.dll\n",
      "04-Jun-18  07:56 PM        38,247,656 mkl_mc.dll\n",
      "04-Jun-18  07:56 PM        39,054,568 mkl_mc3.dll\n",
      "04-Jun-18  07:56 PM        25,640,168 mkl_pgi_thread.dll\n",
      "04-Jun-18  07:56 PM        13,857,512 mkl_rt.dll\n",
      "04-Jun-18  07:56 PM         7,352,040 mkl_scalapack_ilp64.dll\n",
      "04-Jun-18  07:56 PM         7,301,352 mkl_scalapack_lp64.dll\n",
      "04-Jun-18  07:56 PM        16,129,768 mkl_sequential.dll\n",
      "04-Jun-18  07:56 PM        19,783,400 mkl_tbb_thread.dll\n",
      "04-Jun-18  07:56 PM        13,602,024 mkl_vml_avx.dll\n",
      "04-Jun-18  07:56 PM        13,343,464 mkl_vml_avx2.dll\n",
      "04-Jun-18  07:56 PM        12,266,728 mkl_vml_avx512.dll\n",
      "04-Jun-18  07:56 PM        13,989,608 mkl_vml_avx512_mic.dll\n",
      "04-Jun-18  07:56 PM         6,669,032 mkl_vml_cmpt.dll\n",
      "04-Jun-18  07:56 PM         6,896,360 mkl_vml_def.dll\n",
      "04-Jun-18  07:56 PM        12,073,704 mkl_vml_mc.dll\n",
      "04-Jun-18  07:56 PM        11,938,536 mkl_vml_mc2.dll\n",
      "04-Jun-18  07:56 PM        12,010,216 mkl_vml_mc3.dll\n",
      "25-Aug-18  05:49 PM         1,159,680 moc.exe\n",
      "21-Sep-18  01:53 AM           625,808 msvcp140.dll\n",
      "21-Sep-18  01:53 AM            31,896 msvcp140_1.dll\n",
      "21-Sep-18  01:53 AM           195,248 msvcp140_2.dll\n",
      "14-Jun-16  06:30 PM        20,923,392 opengl32sw.dll\n",
      "24-Aug-18  12:10 AM            16,896 pal2rgb.exe\n",
      "25-Aug-18  06:15 PM            52,736 pixeltool.exe\n",
      "17-Nov-17  04:28 AM            41,984 pkgdata.exe\n",
      "24-Jan-18  03:22 AM            48,128 pngfix.exe\n",
      "24-Jan-18  03:22 AM            11,776 png-fix-itxt.exe\n",
      "24-Aug-18  12:10 AM            17,408 ppm2tiff.exe\n",
      "18-Dec-18  09:17 PM                88 pylupdate5.bat\n",
      "18-Dec-18  09:17 PM                84 pyrcc5.bat\n",
      "02-Aug-18  05:12 AM           552,448 pythoncom37.dll\n",
      "18-Dec-18  09:17 PM                83 pyuic5.bat\n",
      "02-Aug-18  05:11 AM           137,216 pywintypes37.dll\n",
      "25-Aug-18  06:19 PM            51,712 qcollectiongenerator.exe\n",
      "25-Aug-18  06:16 PM            50,688 qdbus.exe\n",
      "25-Aug-18  05:54 PM           192,000 qdbuscpp2xml.exe\n",
      "25-Aug-18  06:17 PM           242,688 qdbusviewer.exe\n",
      "25-Aug-18  05:53 PM            72,192 qdbusxml2cpp.exe\n",
      "25-Aug-18  06:16 PM         1,166,848 qdoc.exe\n",
      "25-Aug-18  06:43 PM         4,126,208 qgltf.exe\n",
      "25-Aug-18  06:22 PM           172,544 qhelpconverter.exe\n",
      "25-Aug-18  06:18 PM            26,112 qhelpgenerator.exe\n",
      "25-Aug-18  05:53 PM           108,032 qlalr.exe\n",
      "25-Aug-18  05:46 PM         2,366,464 qmake.exe\n",
      "25-Aug-18  06:12 PM            54,272 qml.exe\n",
      "25-Aug-18  06:12 PM           885,760 qmlcachegen.exe\n",
      "25-Aug-18  06:12 PM           124,928 qmleasing.exe\n",
      "25-Aug-18  06:12 PM           209,408 qmlimportscanner.exe\n",
      "25-Aug-18  06:12 PM           150,528 qmllint.exe\n",
      "25-Aug-18  06:12 PM            84,480 qmlmin.exe\n",
      "25-Aug-18  06:12 PM           113,152 qmlplugindump.exe\n",
      "25-Aug-18  06:12 PM           133,120 qmlprofiler.exe\n",
      "25-Aug-18  06:12 PM            50,176 qmlscene.exe\n",
      "25-Aug-18  06:12 PM            10,752 qmltestrunner.exe\n",
      "25-Aug-18  06:16 PM           316,928 qscxmlc.exe\n",
      "18-Dec-18  09:18 PM               251 qt.conf\n",
      "25-Aug-18  06:32 PM           317,440 Qt53DAnimation.dll\n",
      "25-Aug-18  06:21 PM           302,592 Qt53DCore.dll\n",
      "25-Aug-18  06:37 PM           543,744 Qt53DExtras.dll\n",
      "25-Aug-18  06:32 PM           394,240 Qt53DInput.dll\n",
      "25-Aug-18  06:22 PM            47,104 Qt53DLogic.dll\n",
      "25-Aug-18  06:33 PM           159,744 Qt53DQuick.dll\n",
      "25-Aug-18  06:40 PM            49,664 Qt53DQuickAnimation.dll\n",
      "25-Aug-18  06:40 PM            59,904 Qt53DQuickExtras.dll\n",
      "25-Aug-18  06:35 PM            46,080 Qt53DQuickInput.dll\n",
      "25-Aug-18  06:37 PM           132,096 Qt53DQuickRender.dll\n",
      "25-Aug-18  06:35 PM            79,872 Qt53DQuickScene2D.dll\n",
      "25-Aug-18  06:30 PM         1,751,040 Qt53DRender.dll\n",
      "25-Aug-18  06:16 PM           210,944 Qt5Bluetooth.dll\n",
      "25-Aug-18  06:42 PM         1,148,416 Qt5Charts.dll\n",
      "25-Aug-18  05:53 PM            26,624 Qt5Concurrent.dll\n",
      "25-Aug-18  05:52 PM         5,103,616 Qt5Core.dll\n",
      "25-Aug-18  06:33 PM         1,150,464 Qt5DataVisualization.dll\n",
      "25-Aug-18  05:53 PM           413,696 Qt5DBus.dll\n",
      "25-Aug-18  06:28 PM         4,681,728 Qt5Designer.dll\n",
      "25-Aug-18  06:37 PM         1,971,712 Qt5DesignerComponents.dll\n",
      "25-Aug-18  06:13 PM            94,208 Qt5Gamepad.dll\n",
      "25-Aug-18  05:56 PM         5,924,864 Qt5Gui.dll\n",
      "25-Aug-18  06:18 PM           352,256 Qt5Help.dll\n",
      "25-Aug-18  06:35 PM         1,172,480 Qt5Location.dll\n",
      "25-Aug-18  06:24 PM           713,216 Qt5Multimedia.dll\n",
      "25-Aug-18  06:24 PM           114,688 Qt5MultimediaQuick_p.dll\n",
      "25-Aug-18  06:24 PM           101,888 Qt5MultimediaWidgets.dll\n",
      "25-Aug-18  05:55 PM         1,226,240 Qt5Network.dll\n",
      "25-Aug-18  09:51 PM           152,576 Qt5NetworkAuth.dll\n",
      "25-Aug-18  06:16 PM           130,048 Qt5Nfc.dll\n",
      "25-Aug-18  05:59 PM           322,560 Qt5OpenGL.dll\n",
      "25-Aug-18  06:29 PM           286,720 Qt5Positioning.dll\n",
      "25-Aug-18  05:59 PM           319,488 Qt5PrintSupport.dll\n",
      "25-Aug-18  06:13 PM            37,888 Qt5Purchasing.dll\n",
      "25-Aug-18  06:06 PM         3,433,472 Qt5Qml.dll\n",
      "25-Aug-18  06:08 PM         3,464,704 Qt5Quick.dll\n",
      "25-Aug-18  06:24 PM           118,272 Qt5QuickControls2.dll\n",
      "25-Aug-18  06:09 PM           452,096 Qt5QuickParticles.dll\n",
      "25-Aug-18  06:23 PM           777,216 Qt5QuickTemplates2.dll\n",
      "25-Aug-18  06:09 PM           121,344 Qt5QuickTest.dll\n",
      "25-Aug-18  06:09 PM            72,192 Qt5QuickWidgets.dll\n",
      "25-Aug-18  06:14 PM           365,056 Qt5RemoteObjects.dll\n",
      "25-Aug-18  06:46 PM         1,225,728 Qt5Script.dll\n",
      "25-Aug-18  06:46 PM           567,808 Qt5ScriptTools.dll\n",
      "25-Aug-18  06:14 PM           406,528 Qt5Scxml.dll\n",
      "25-Aug-18  06:17 PM           201,728 Qt5Sensors.dll\n",
      "25-Aug-18  06:02 PM           202,240 Qt5SerialBus.dll\n",
      "25-Aug-18  06:01 PM            70,144 Qt5SerialPort.dll\n",
      "25-Aug-18  05:53 PM           202,240 Qt5Sql.dll\n",
      "25-Aug-18  06:01 PM           329,728 Qt5Svg.dll\n",
      "25-Aug-18  05:59 PM           185,344 Qt5Test.dll\n",
      "25-Aug-18  06:28 PM            43,520 Qt5TextToSpeech.dll\n",
      "25-Aug-18  06:17 PM           111,616 Qt5WebChannel.dll\n",
      "25-Aug-18  09:51 PM           331,264 Qt5WebEngine.dll\n",
      "25-Aug-18  09:50 PM        68,371,968 Qt5WebEngineCore.dll\n",
      "25-Aug-18  09:51 PM           221,696 Qt5WebEngineWidgets.dll\n",
      "25-Aug-18  06:13 PM           148,480 Qt5WebSockets.dll\n",
      "25-Aug-18  09:51 PM            71,680 Qt5WebView.dll\n",
      "25-Aug-18  05:58 PM         5,571,584 Qt5Widgets.dll\n",
      "25-Aug-18  06:30 PM           461,824 Qt5WinExtras.dll\n",
      "25-Aug-18  05:52 PM           192,512 Qt5Xml.dll\n",
      "25-Aug-18  06:03 PM         2,793,472 Qt5XmlPatterns.dll\n",
      "25-Aug-18  06:16 PM            53,760 qtattributionsscanner.exe\n",
      "25-Aug-18  06:16 PM            55,296 qtdiag.exe\n",
      "25-Aug-18  06:16 PM            32,256 qtpaths.exe\n",
      "25-Aug-18  06:15 PM            28,160 qtplugininfo.exe\n",
      "25-Aug-18  09:50 PM            19,456 QtWebEngineProcess.exe\n",
      "25-Aug-18  09:50 PM           314,368 qwebengine_convert_dict.exe\n",
      "24-Aug-18  12:11 AM            24,576 raw2tiff.exe\n",
      "25-Aug-18  05:49 PM           953,856 rcc.exe\n",
      "09-Nov-17  11:02 AM            14,848 rdjpgcom.exe\n",
      "25-Aug-18  06:15 PM           378,368 repc.exe\n",
      "23-May-18  03:20 PM            19,456 runxmlconf.exe\n",
      "01-Aug-18  10:09 PM           398,336 sip.exe\n",
      "28-Nov-17  12:34 AM            77,312 snappy.dll\n",
      "19-Jun-18  04:18 AM           962,560 sqlite3.dll\n",
      "19-Jun-18  04:18 AM         1,224,192 sqlite3.exe\n",
      "14-Aug-18  08:11 PM           356,864 ssleay32.dll\n",
      "12-Apr-17  08:59 PM        11,632,384 svml_dispmd.dll\n",
      "07-Jun-18  11:58 AM            50,498 syncqt.pl\n",
      "29-Aug-18  02:48 AM         1,710,592 tcl86t.dll\n",
      "29-Aug-18  02:48 AM            71,168 tclsh.exe\n",
      "29-Aug-18  02:48 AM            71,168 tclsh86.exe\n",
      "29-Aug-18  02:48 AM            71,168 tclsh86t.exe\n",
      "25-Aug-18  06:03 PM           602,624 testcon.exe\n",
      "24-Aug-18  12:10 AM           631,296 tiff.dll\n",
      "24-Aug-18  12:11 AM            18,432 tiff2bw.exe\n",
      "24-Aug-18  12:11 AM            76,800 tiff2pdf.exe\n",
      "24-Aug-18  12:11 AM            48,640 tiff2ps.exe\n",
      "24-Aug-18  12:11 AM            18,432 tiff2rgba.exe\n",
      "24-Aug-18  12:11 AM            21,504 tiffcmp.exe\n",
      "24-Aug-18  12:11 AM            36,352 tiffcp.exe\n",
      "24-Aug-18  12:11 AM           104,960 tiffcrop.exe\n",
      "24-Aug-18  12:11 AM            16,896 tiffdither.exe\n",
      "24-Aug-18  12:11 AM            22,528 tiffdump.exe\n",
      "24-Aug-18  12:11 AM            19,456 tiffinfo.exe\n",
      "24-Aug-18  12:11 AM            22,016 tiffmedian.exe\n",
      "24-Aug-18  12:11 AM            15,360 tiffset.exe\n",
      "24-Aug-18  12:11 AM            15,872 tiffsplit.exe\n",
      "24-Aug-18  12:11 AM            10,240 tiffxx.dll\n",
      "29-Aug-18  02:50 AM         1,475,584 tk86t.dll\n",
      "17-Nov-17  04:28 AM            55,296 uconv.exe\n",
      "20-Apr-18  07:07 PM         1,016,584 ucrtbase.dll\n",
      "25-Aug-18  05:53 PM           380,928 uic.exe\n",
      "21-Sep-18  01:53 AM           386,720 vccorlib140.dll\n",
      "21-Sep-18  01:53 AM           155,280 vcomp140.dll\n",
      "21-Sep-18  01:53 AM            87,200 vcruntime140.dll\n",
      "25-Aug-18  06:16 PM         1,147,392 windeployqt.exe\n",
      "03-Feb-18  12:14 AM         2,509,089 winpty.dll\n",
      "03-Feb-18  12:14 AM         2,627,338 winpty-agent.exe\n",
      "29-Aug-18  02:50 AM            58,368 wish.exe\n",
      "29-Aug-18  02:50 AM            58,368 wish86.exe\n",
      "29-Aug-18  02:50 AM            58,368 wish86t.exe\n",
      "09-Nov-17  11:02 AM            15,360 wrjpgcom.exe\n",
      "23-May-18  03:20 PM            19,968 xmlcatalog.exe\n",
      "23-May-18  03:20 PM            57,856 xmllint.exe\n",
      "25-Aug-18  06:03 PM            58,368 xmlpatterns.exe\n",
      "25-Aug-18  06:03 PM            13,312 xmlpatternsvalidator.exe\n",
      "26-Jan-18  11:57 PM            24,576 xsltproc.exe\n",
      "14-Nov-17  04:21 AM           109,568 yaml.dll\n",
      "08-Nov-17  04:27 AM            90,112 zlib.dll\n",
      "             344 File(s)    962,777,864 bytes\n",
      "               6 Dir(s)     674,201,600 bytes free\n"
     ]
    }
   ],
   "source": [
    "ls"
   ]
  },
  {
   "cell_type": "code",
   "execution_count": 85,
   "metadata": {},
   "outputs": [
    {
     "name": "stdout",
     "output_type": "stream",
     "text": [
      "Python 3.7.0\n"
     ]
    }
   ],
   "source": [
    "!python --version"
   ]
  }
 ],
 "metadata": {
  "kernelspec": {
   "display_name": "Python 3",
   "language": "python",
   "name": "python3"
  },
  "language_info": {
   "codemirror_mode": {
    "name": "ipython",
    "version": 3
   },
   "file_extension": ".py",
   "mimetype": "text/x-python",
   "name": "python",
   "nbconvert_exporter": "python",
   "pygments_lexer": "ipython3",
   "version": "3.7.0"
  }
 },
 "nbformat": 4,
 "nbformat_minor": 2
}
