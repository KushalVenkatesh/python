{
 "cells": [
  {
   "cell_type": "code",
   "execution_count": 1,
   "metadata": {},
   "outputs": [],
   "source": [
    "# function to search an element in \n",
    "# minimum number of comparisons \n",
    "def search(arr, n, x): \n",
    "      \n",
    "    # 1st comparison \n",
    "    if (arr[n-1] == x) : \n",
    "        return \"Found\"\n",
    "  \n",
    "    backup = arr[n-1] \n",
    "    arr[n-1] = x \n",
    "  \n",
    "    # no termination condition and  \n",
    "    # thus no comparison \n",
    "    i = 0\n",
    "    while(i < n) : \n",
    "          \n",
    "        # this would be executed at-most n times \n",
    "        # and therefore at-most n comparisons \n",
    "        if (arr[i] == x) : \n",
    "              \n",
    "            # replace arr[n-1] with its actual  \n",
    "            # element as in original 'arr[]' \n",
    "            arr[n-1] = backup \n",
    "  \n",
    "            # if 'x' is found before the '(n-1)th' \n",
    "            # index, then it is present in the  \n",
    "            # array final comparison \n",
    "            if (i < n-1): \n",
    "                return \"Found\"\n",
    "  \n",
    "            # else not present in the array \n",
    "            return \"Not Found\"\n",
    "        i = i + 1"
   ]
  },
  {
   "cell_type": "code",
   "execution_count": 3,
   "metadata": {},
   "outputs": [],
   "source": [
    "# function to search an element in \n",
    "# minimum number of comparisons \n",
    "def search(arr, n, x): \n",
    "      \n",
    "    # 1st comparison \n",
    "    if (arr[n-1] == x) : \n",
    "        return \"Found\"\n",
    "  \n",
    "    backup = arr[n-1] \n",
    "    arr[n-1] = x \n",
    "  \n",
    "    # no termination condition and  \n",
    "    # thus no comparison \n",
    "    i = 0\n",
    "    while(i < n) : \n",
    "          \n",
    "        # this would be executed at-most n times \n",
    "        # and therefore at-most n comparisons \n",
    "        if (arr[i] == x) : \n",
    "              \n",
    "            # replace arr[n-1] with its actual  \n",
    "            # element as in original 'arr[]' \n",
    "            arr[n-1] = backup \n",
    "  \n",
    "            # if 'x' is found before the '(n-1)th' \n",
    "            # index, then it is present in the  \n",
    "            # array final comparison \n",
    "            if (i < n-1): \n",
    "                return \"YES\"\n",
    "  \n",
    "            # else not present in the array \n",
    "            return \"No\"\n",
    "        i = i + 1"
   ]
  },
  {
   "cell_type": "code",
   "execution_count": 4,
   "metadata": {},
   "outputs": [
    {
     "name": "stdout",
     "output_type": "stream",
     "text": [
      "YES\n"
     ]
    }
   ],
   "source": [
    "# Driver Code \n",
    "arr = [4, 6, 1, 5, 8] \n",
    "n = len(arr) \n",
    "x = 1\n",
    "print (search(arr, n, x)) "
   ]
  }
 ],
 "metadata": {
  "kernelspec": {
   "display_name": "Python 3",
   "language": "python",
   "name": "python3"
  },
  "language_info": {
   "codemirror_mode": {
    "name": "ipython",
    "version": 3
   },
   "file_extension": ".py",
   "mimetype": "text/x-python",
   "name": "python",
   "nbconvert_exporter": "python",
   "pygments_lexer": "ipython3",
   "version": "3.7.0"
  }
 },
 "nbformat": 4,
 "nbformat_minor": 2
}
