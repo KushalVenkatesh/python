{
 "cells": [
  {
   "cell_type": "code",
   "execution_count": 11,
   "metadata": {},
   "outputs": [
    {
     "name": "stdout",
     "output_type": "stream",
     "text": [
      "ip address =172.217.194.105\n"
     ]
    }
   ],
   "source": [
    "import socket\n",
    "host = 'www.google.com'\n",
    "try:\n",
    "    #know the ip address of the website\n",
    "    addr=socket.gethostbyname(host)\n",
    "    print('ip address ='+addr)\n",
    "except socket.gaierror: #if get address info error occurs\n",
    "        print('the website does not exist')"
   ]
  },
  {
   "cell_type": "code",
   "execution_count": 16,
   "metadata": {},
   "outputs": [
    {
     "name": "stdout",
     "output_type": "stream",
     "text": [
      "ip address =13.33.68.160\n"
     ]
    }
   ],
   "source": [
    "import socket\n",
    "host = 'www.amazon.com'\n",
    "try:\n",
    "    #know the ip address of the website\n",
    "    addr=socket.gethostbyname(host)\n",
    "    print('ip address ='+addr)\n",
    "except socket.gaierror: #if get address info error occurs\n",
    "        print('the website does not exist')"
   ]
  },
  {
   "cell_type": "code",
   "execution_count": 20,
   "metadata": {},
   "outputs": [
    {
     "name": "stdout",
     "output_type": "stream",
     "text": [
      "ip address =157.240.23.35\n"
     ]
    }
   ],
   "source": [
    "import socket\n",
    "host = 'www.facebook.com'\n",
    "try:\n",
    "    #know the ip address of the website\n",
    "    addr=socket.gethostbyname(host)\n",
    "    print('ip address ='+addr)\n",
    "except socket.gaierror: #if get address info error occurs\n",
    "        print('the website does not exist')"
   ]
  },
  {
   "cell_type": "code",
   "execution_count": 21,
   "metadata": {},
   "outputs": [
    {
     "data": {
      "text/plain": [
       "'192.168.1.10'"
      ]
     },
     "execution_count": 21,
     "metadata": {},
     "output_type": "execute_result"
    }
   ],
   "source": [
    "import socket\n",
    "socket.gethostbyname(socket.gethostname())"
   ]
  },
  {
   "cell_type": "code",
   "execution_count": 22,
   "metadata": {},
   "outputs": [
    {
     "data": {
      "text/plain": [
       "'192.168.1.10'"
      ]
     },
     "execution_count": 22,
     "metadata": {},
     "output_type": "execute_result"
    }
   ],
   "source": [
    "socket.gethostbyname(socket.getfqdn())"
   ]
  },
  {
   "cell_type": "code",
   "execution_count": 23,
   "metadata": {},
   "outputs": [
    {
     "data": {
      "text/plain": [
       "['192.168.1.10']"
      ]
     },
     "execution_count": 23,
     "metadata": {},
     "output_type": "execute_result"
    }
   ],
   "source": [
    "socket.gethostbyname_ex(socket.gethostname())[-1]"
   ]
  }
 ],
 "metadata": {
  "kernelspec": {
   "display_name": "Python 3",
   "language": "python",
   "name": "python3"
  },
  "language_info": {
   "codemirror_mode": {
    "name": "ipython",
    "version": 3
   },
   "file_extension": ".py",
   "mimetype": "text/x-python",
   "name": "python",
   "nbconvert_exporter": "python",
   "pygments_lexer": "ipython3",
   "version": "3.6.5"
  }
 },
 "nbformat": 4,
 "nbformat_minor": 2
}
