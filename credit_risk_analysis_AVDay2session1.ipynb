{
 "cells": [
  {
   "cell_type": "code",
   "execution_count": 1,
   "metadata": {},
   "outputs": [],
   "source": [
    "# Numerical Computation \n",
    "import numpy as np\n",
    "\n",
    "# DataFrames or Spreadsheet stuff\n",
    "import pandas as pd\n",
    "\n",
    "# Visualisation: Matplotlib -> Seaborn \n",
    "import matplotlib.pyplot as plt\n",
    "import seaborn as sns\n",
    "\n",
    "# Machine Learning: scikit-learn (based on scipy)\n",
    "import sklearn"
   ]
  },
  {
   "cell_type": "code",
   "execution_count": 2,
   "metadata": {},
   "outputs": [
    {
     "data": {
      "text/plain": [
       "'D:\\\\python3'"
      ]
     },
     "execution_count": 2,
     "metadata": {},
     "output_type": "execute_result"
    }
   ],
   "source": [
    "pwd\n"
   ]
  },
  {
   "cell_type": "code",
   "execution_count": 3,
   "metadata": {},
   "outputs": [
    {
     "name": "stdout",
     "output_type": "stream",
     "text": [
      " Volume in drive D is RECOVERY\n",
      " Volume Serial Number is B8C5-8737\n",
      "\n",
      " Directory of D:\\python3\n",
      "\n",
      "11/25/2018  11:08 AM    <DIR>          .\n",
      "11/25/2018  11:08 AM    <DIR>          ..\n",
      "11/25/2018  11:07 AM    <DIR>          .ipynb_checkpoints\n",
      "04/20/2018  06:58 PM            19,208 api-ms-win-core-console-l1-1-0.dll\n",
      "04/20/2018  06:58 PM            18,696 api-ms-win-core-datetime-l1-1-0.dll\n",
      "04/20/2018  06:58 PM            18,696 api-ms-win-core-debug-l1-1-0.dll\n",
      "04/20/2018  06:58 PM            18,696 api-ms-win-core-errorhandling-l1-1-0.dll\n",
      "04/20/2018  06:59 PM            22,280 api-ms-win-core-file-l1-1-0.dll\n",
      "04/20/2018  07:07 PM            18,696 api-ms-win-core-file-l1-2-0.dll\n",
      "04/20/2018  07:07 PM            18,696 api-ms-win-core-file-l2-1-0.dll\n",
      "04/20/2018  07:07 PM            18,696 api-ms-win-core-handle-l1-1-0.dll\n",
      "04/20/2018  07:07 PM            19,208 api-ms-win-core-heap-l1-1-0.dll\n",
      "04/20/2018  07:07 PM            18,696 api-ms-win-core-interlocked-l1-1-0.dll\n",
      "04/20/2018  07:07 PM            19,720 api-ms-win-core-libraryloader-l1-1-0.dll\n",
      "04/20/2018  07:07 PM            21,256 api-ms-win-core-localization-l1-2-0.dll\n",
      "04/20/2018  07:07 PM            19,208 api-ms-win-core-memory-l1-1-0.dll\n",
      "04/20/2018  07:07 PM            18,696 api-ms-win-core-namedpipe-l1-1-0.dll\n",
      "04/20/2018  07:07 PM            19,720 api-ms-win-core-processenvironment-l1-1-0.dll\n",
      "04/20/2018  07:07 PM            20,744 api-ms-win-core-processthreads-l1-1-0.dll\n",
      "04/20/2018  07:07 PM            19,208 api-ms-win-core-processthreads-l1-1-1.dll\n",
      "04/20/2018  07:07 PM            18,184 api-ms-win-core-profile-l1-1-0.dll\n",
      "04/20/2018  07:07 PM            19,208 api-ms-win-core-rtlsupport-l1-1-0.dll\n",
      "04/20/2018  07:07 PM            18,696 api-ms-win-core-string-l1-1-0.dll\n",
      "04/20/2018  07:07 PM            20,744 api-ms-win-core-synch-l1-1-0.dll\n",
      "04/20/2018  07:07 PM            19,208 api-ms-win-core-synch-l1-2-0.dll\n",
      "04/20/2018  07:07 PM            19,720 api-ms-win-core-sysinfo-l1-1-0.dll\n",
      "04/20/2018  07:07 PM            19,208 api-ms-win-core-timezone-l1-1-0.dll\n",
      "04/20/2018  07:07 PM            18,696 api-ms-win-core-util-l1-1-0.dll\n",
      "04/20/2018  07:07 PM            19,720 api-ms-win-crt-conio-l1-1-0.dll\n",
      "04/20/2018  07:07 PM            22,792 api-ms-win-crt-convert-l1-1-0.dll\n",
      "04/20/2018  07:07 PM            19,208 api-ms-win-crt-environment-l1-1-0.dll\n",
      "04/20/2018  07:07 PM            20,744 api-ms-win-crt-filesystem-l1-1-0.dll\n",
      "04/20/2018  07:07 PM            19,720 api-ms-win-crt-heap-l1-1-0.dll\n",
      "04/20/2018  07:07 PM            19,208 api-ms-win-crt-locale-l1-1-0.dll\n",
      "04/20/2018  07:07 PM            27,912 api-ms-win-crt-math-l1-1-0.dll\n",
      "04/20/2018  07:07 PM            26,888 api-ms-win-crt-multibyte-l1-1-0.dll\n",
      "04/20/2018  07:07 PM            71,432 api-ms-win-crt-private-l1-1-0.dll\n",
      "04/20/2018  07:07 PM            19,720 api-ms-win-crt-process-l1-1-0.dll\n",
      "04/20/2018  07:07 PM            23,304 api-ms-win-crt-runtime-l1-1-0.dll\n",
      "04/20/2018  07:07 PM            24,840 api-ms-win-crt-stdio-l1-1-0.dll\n",
      "04/20/2018  07:07 PM            24,840 api-ms-win-crt-string-l1-1-0.dll\n",
      "04/20/2018  07:07 PM            21,256 api-ms-win-crt-time-l1-1-0.dll\n",
      "04/20/2018  07:07 PM            19,208 api-ms-win-crt-utility-l1-1-0.dll\n",
      "09/21/2018  01:53 AM           329,368 concrt140.dll\n",
      "11/25/2018  10:44 AM    <DIR>          conda-meta\n",
      "11/25/2018  11:08 AM            34,879 credit_risk_analysis_AVDay2session1.ipynb\n",
      "08/29/2018  12:31 AM             1,093 cwp.py\n",
      "11/25/2018  10:43 AM    <DIR>          DLLs\n",
      "11/25/2018  10:44 AM    <DIR>          envs\n",
      "11/25/2018  10:44 AM    <DIR>          etc\n",
      "11/25/2018  10:43 AM    <DIR>          include\n",
      "11/25/2018  10:43 AM    <DIR>          Lib\n",
      "11/25/2018  10:43 AM    <DIR>          Library\n",
      "11/25/2018  10:43 AM    <DIR>          libs\n",
      "06/27/2018  09:37 AM            12,763 LICENSE_PYTHON.txt\n",
      "11/25/2018  10:43 AM    <DIR>          man\n",
      "11/25/2018  10:44 AM    <DIR>          Menu\n",
      "09/21/2018  01:53 AM           625,808 msvcp140.dll\n",
      "09/21/2018  01:53 AM            31,896 msvcp140_1.dll\n",
      "09/21/2018  01:53 AM           195,248 msvcp140_2.dll\n",
      "08/14/2018  08:12 PM           506,880 openssl.exe\n",
      "11/25/2018  10:43 AM    <DIR>          pkgs\n",
      "06/28/2018  07:36 PM            93,696 python.exe\n",
      "06/28/2018  07:36 PM           430,080 python.pdb\n",
      "06/28/2018  07:36 PM            51,712 python3.dll\n",
      "06/28/2018  07:35 PM         3,843,072 python37.dll\n",
      "06/28/2018  07:35 PM         9,916,416 python37.pdb\n",
      "06/28/2018  07:36 PM            92,160 pythonw.exe\n",
      "06/28/2018  07:36 PM           430,080 pythonw.pdb\n",
      "11/25/2018  10:43 AM               199 qt.conf\n",
      "11/25/2018  10:44 AM    <DIR>          Scripts\n",
      "11/25/2018  10:43 AM    <DIR>          share\n",
      "11/25/2018  10:43 AM    <DIR>          sip\n",
      "11/25/2018  10:43 AM    <DIR>          tcl\n",
      "11/25/2018  10:43 AM    <DIR>          Tools\n",
      "04/20/2018  07:07 PM         1,016,584 ucrtbase.dll\n",
      "11/25/2018  10:44 AM           302,868 Uninstall-Anaconda3.exe\n",
      "11/25/2018  11:07 AM                72 Untitled.ipynb\n",
      "09/21/2018  01:53 AM           386,720 vccorlib140.dll\n",
      "09/21/2018  01:53 AM           155,280 vcomp140.dll\n",
      "09/21/2018  01:53 AM            87,200 vcruntime140.dll\n",
      "11/08/2018  05:52 PM             8,248 vscode_eula.txt\n",
      "05/14/2018  03:53 AM           293,888 xlwings32-0.11.8.dll\n",
      "05/14/2018  03:53 AM           367,104 xlwings64-0.11.8.dll\n",
      "              65 File(s)     20,077,890 bytes\n",
      "              19 Dir(s)   3,941,814,272 bytes free\n"
     ]
    }
   ],
   "source": [
    "ls"
   ]
  },
  {
   "cell_type": "code",
   "execution_count": 6,
   "metadata": {},
   "outputs": [],
   "source": [
    "df = pd.read_csv(\"creditRisk.csv\")"
   ]
  },
  {
   "cell_type": "code",
   "execution_count": 7,
   "metadata": {},
   "outputs": [
    {
     "data": {
      "text/plain": [
       "(18, 3)"
      ]
     },
     "execution_count": 7,
     "metadata": {},
     "output_type": "execute_result"
    }
   ],
   "source": [
    "df.shape"
   ]
  },
  {
   "cell_type": "code",
   "execution_count": 8,
   "metadata": {},
   "outputs": [
    {
     "data": {
      "text/plain": [
       "Index(['Income', 'Credit History', 'Risk'], dtype='object')"
      ]
     },
     "execution_count": 8,
     "metadata": {},
     "output_type": "execute_result"
    }
   ],
   "source": [
    "df.columns"
   ]
  },
  {
   "cell_type": "code",
   "execution_count": 9,
   "metadata": {},
   "outputs": [
    {
     "data": {
      "text/html": [
       "<div>\n",
       "<style scoped>\n",
       "    .dataframe tbody tr th:only-of-type {\n",
       "        vertical-align: middle;\n",
       "    }\n",
       "\n",
       "    .dataframe tbody tr th {\n",
       "        vertical-align: top;\n",
       "    }\n",
       "\n",
       "    .dataframe thead th {\n",
       "        text-align: right;\n",
       "    }\n",
       "</style>\n",
       "<table border=\"1\" class=\"dataframe\">\n",
       "  <thead>\n",
       "    <tr style=\"text-align: right;\">\n",
       "      <th></th>\n",
       "      <th>Income</th>\n",
       "      <th>Credit History</th>\n",
       "      <th>Risk</th>\n",
       "    </tr>\n",
       "  </thead>\n",
       "  <tbody>\n",
       "    <tr>\n",
       "      <th>0</th>\n",
       "      <td>0</td>\n",
       "      <td>Unknown</td>\n",
       "      <td>High</td>\n",
       "    </tr>\n",
       "    <tr>\n",
       "      <th>1</th>\n",
       "      <td>0</td>\n",
       "      <td>Bad</td>\n",
       "      <td>High</td>\n",
       "    </tr>\n",
       "    <tr>\n",
       "      <th>2</th>\n",
       "      <td>0</td>\n",
       "      <td>Good</td>\n",
       "      <td>High</td>\n",
       "    </tr>\n",
       "    <tr>\n",
       "      <th>3</th>\n",
       "      <td>14000</td>\n",
       "      <td>Unknown</td>\n",
       "      <td>High</td>\n",
       "    </tr>\n",
       "    <tr>\n",
       "      <th>4</th>\n",
       "      <td>14000</td>\n",
       "      <td>Bad</td>\n",
       "      <td>High</td>\n",
       "    </tr>\n",
       "  </tbody>\n",
       "</table>\n",
       "</div>"
      ],
      "text/plain": [
       "   Income Credit History  Risk\n",
       "0       0        Unknown  High\n",
       "1       0            Bad  High\n",
       "2       0           Good  High\n",
       "3   14000        Unknown  High\n",
       "4   14000            Bad  High"
      ]
     },
     "execution_count": 9,
     "metadata": {},
     "output_type": "execute_result"
    }
   ],
   "source": [
    "df.head()"
   ]
  },
  {
   "cell_type": "code",
   "execution_count": 10,
   "metadata": {},
   "outputs": [],
   "source": [
    "# See the data\n",
    "plt.style.use(\"ggplot\")"
   ]
  },
  {
   "cell_type": "code",
   "execution_count": 11,
   "metadata": {},
   "outputs": [
    {
     "data": {
      "text/plain": [
       "<matplotlib.axes._subplots.AxesSubplot at 0x1c3530ae5f8>"
      ]
     },
     "execution_count": 11,
     "metadata": {},
     "output_type": "execute_result"
    },
    {
     "data": {
      "image/png": "[encoded data removed]",
      "text/plain": [
       "<Figure size 432x288 with 1 Axes>"
      ]
     },
     "metadata": {},
     "output_type": "display_data"
    }
   ],
   "source": [
    "sns.stripplot(x=df.Income, y = df[\"Credit History\"], hue=df.Risk)"
   ]
  },
  {
   "cell_type": "code",
   "execution_count": 12,
   "metadata": {},
   "outputs": [],
   "source": [
    "\n",
    "df_encoded = df.copy()"
   ]
  },
  {
   "cell_type": "code",
   "execution_count": 13,
   "metadata": {},
   "outputs": [],
   "source": [
    "from sklearn.preprocessing import LabelEncoder"
   ]
  },
  {
   "cell_type": "code",
   "execution_count": 14,
   "metadata": {},
   "outputs": [],
   "source": [
    "\n",
    "# Instantiate an instance of it\n",
    "le = LabelEncoder()"
   ]
  },
  {
   "cell_type": "code",
   "execution_count": 15,
   "metadata": {},
   "outputs": [
    {
     "data": {
      "text/plain": [
       "LabelEncoder()"
      ]
     },
     "execution_count": 15,
     "metadata": {},
     "output_type": "execute_result"
    }
   ],
   "source": [
    "# Fit the label encoder\n",
    "le.fit(df['Credit History'])\n"
   ]
  },
  {
   "cell_type": "code",
   "execution_count": 16,
   "metadata": {},
   "outputs": [],
   "source": [
    "df_encoded[\"Credit History\"]= le.transform(df[\"Credit History\"])"
   ]
  },
  {
   "cell_type": "code",
   "execution_count": 17,
   "metadata": {},
   "outputs": [
    {
     "data": {
      "text/plain": [
       "array(['Bad', 'Good', 'Unknown'], dtype=object)"
      ]
     },
     "execution_count": 17,
     "metadata": {},
     "output_type": "execute_result"
    }
   ],
   "source": [
    "\n",
    "le.classes_"
   ]
  },
  {
   "cell_type": "code",
   "execution_count": 18,
   "metadata": {},
   "outputs": [
    {
     "name": "stderr",
     "output_type": "stream",
     "text": [
      "D:\\python3\\lib\\site-packages\\sklearn\\preprocessing\\label.py:151: DeprecationWarning: The truth value of an empty array is ambiguous. Returning False, but in future this will result in an error. Use `array.size > 0` to check that an array is not empty.\n",
      "  if diff:\n"
     ]
    },
    {
     "data": {
      "text/plain": [
       "array(['Bad', 'Good', 'Unknown'], dtype=object)"
      ]
     },
     "execution_count": 18,
     "metadata": {},
     "output_type": "execute_result"
    }
   ],
   "source": [
    "\n",
    "le.inverse_transform(np.array([0,1,2]))"
   ]
  },
  {
   "cell_type": "code",
   "execution_count": 19,
   "metadata": {},
   "outputs": [
    {
     "data": {
      "text/html": [
       "<div>\n",
       "<style scoped>\n",
       "    .dataframe tbody tr th:only-of-type {\n",
       "        vertical-align: middle;\n",
       "    }\n",
       "\n",
       "    .dataframe tbody tr th {\n",
       "        vertical-align: top;\n",
       "    }\n",
       "\n",
       "    .dataframe thead th {\n",
       "        text-align: right;\n",
       "    }\n",
       "</style>\n",
       "<table border=\"1\" class=\"dataframe\">\n",
       "  <thead>\n",
       "    <tr style=\"text-align: right;\">\n",
       "      <th></th>\n",
       "      <th>Income</th>\n",
       "      <th>Credit History</th>\n",
       "      <th>Risk</th>\n",
       "    </tr>\n",
       "  </thead>\n",
       "  <tbody>\n",
       "    <tr>\n",
       "      <th>0</th>\n",
       "      <td>0</td>\n",
       "      <td>2</td>\n",
       "      <td>High</td>\n",
       "    </tr>\n",
       "    <tr>\n",
       "      <th>1</th>\n",
       "      <td>0</td>\n",
       "      <td>0</td>\n",
       "      <td>High</td>\n",
       "    </tr>\n",
       "    <tr>\n",
       "      <th>2</th>\n",
       "      <td>0</td>\n",
       "      <td>1</td>\n",
       "      <td>High</td>\n",
       "    </tr>\n",
       "    <tr>\n",
       "      <th>3</th>\n",
       "      <td>14000</td>\n",
       "      <td>2</td>\n",
       "      <td>High</td>\n",
       "    </tr>\n",
       "    <tr>\n",
       "      <th>4</th>\n",
       "      <td>14000</td>\n",
       "      <td>0</td>\n",
       "      <td>High</td>\n",
       "    </tr>\n",
       "  </tbody>\n",
       "</table>\n",
       "</div>"
      ],
      "text/plain": [
       "   Income  Credit History  Risk\n",
       "0       0               2  High\n",
       "1       0               0  High\n",
       "2       0               1  High\n",
       "3   14000               2  High\n",
       "4   14000               0  High"
      ]
     },
     "execution_count": 19,
     "metadata": {},
     "output_type": "execute_result"
    }
   ],
   "source": [
    "df_encoded.head()"
   ]
  },
  {
   "cell_type": "code",
   "execution_count": 20,
   "metadata": {},
   "outputs": [],
   "source": [
    "le2 = LabelEncoder()\n",
    "le2.fit(df.Risk)\n",
    "df_encoded[\"Risk\"] = le2.transform(df.Risk)"
   ]
  },
  {
   "cell_type": "code",
   "execution_count": 21,
   "metadata": {},
   "outputs": [
    {
     "data": {
      "text/html": [
       "<div>\n",
       "<style scoped>\n",
       "    .dataframe tbody tr th:only-of-type {\n",
       "        vertical-align: middle;\n",
       "    }\n",
       "\n",
       "    .dataframe tbody tr th {\n",
       "        vertical-align: top;\n",
       "    }\n",
       "\n",
       "    .dataframe thead th {\n",
       "        text-align: right;\n",
       "    }\n",
       "</style>\n",
       "<table border=\"1\" class=\"dataframe\">\n",
       "  <thead>\n",
       "    <tr style=\"text-align: right;\">\n",
       "      <th></th>\n",
       "      <th>Income</th>\n",
       "      <th>Credit History</th>\n",
       "      <th>Risk</th>\n",
       "    </tr>\n",
       "  </thead>\n",
       "  <tbody>\n",
       "    <tr>\n",
       "      <th>0</th>\n",
       "      <td>0</td>\n",
       "      <td>2</td>\n",
       "      <td>0</td>\n",
       "    </tr>\n",
       "    <tr>\n",
       "      <th>1</th>\n",
       "      <td>0</td>\n",
       "      <td>0</td>\n",
       "      <td>0</td>\n",
       "    </tr>\n",
       "    <tr>\n",
       "      <th>2</th>\n",
       "      <td>0</td>\n",
       "      <td>1</td>\n",
       "      <td>0</td>\n",
       "    </tr>\n",
       "    <tr>\n",
       "      <th>3</th>\n",
       "      <td>14000</td>\n",
       "      <td>2</td>\n",
       "      <td>0</td>\n",
       "    </tr>\n",
       "    <tr>\n",
       "      <th>4</th>\n",
       "      <td>14000</td>\n",
       "      <td>0</td>\n",
       "      <td>0</td>\n",
       "    </tr>\n",
       "  </tbody>\n",
       "</table>\n",
       "</div>"
      ],
      "text/plain": [
       "   Income  Credit History  Risk\n",
       "0       0               2     0\n",
       "1       0               0     0\n",
       "2       0               1     0\n",
       "3   14000               2     0\n",
       "4   14000               0     0"
      ]
     },
     "execution_count": 21,
     "metadata": {},
     "output_type": "execute_result"
    }
   ],
   "source": [
    "df_encoded.head()"
   ]
  },
  {
   "cell_type": "code",
   "execution_count": 22,
   "metadata": {},
   "outputs": [],
   "source": [
    "X = df_encoded[[\"Income\", \"Credit History\"]]\n",
    "y = df_encoded[\"Risk\"]"
   ]
  },
  {
   "cell_type": "code",
   "execution_count": 23,
   "metadata": {},
   "outputs": [],
   "source": [
    "from sklearn.tree import DecisionTreeClassifier"
   ]
  },
  {
   "cell_type": "code",
   "execution_count": 24,
   "metadata": {},
   "outputs": [],
   "source": [
    "# Instantiate the Object\n",
    "clf = DecisionTreeClassifier()"
   ]
  },
  {
   "cell_type": "code",
   "execution_count": 25,
   "metadata": {},
   "outputs": [
    {
     "data": {
      "text/plain": [
       "DecisionTreeClassifier(class_weight=None, criterion='gini', max_depth=None,\n",
       "            max_features=None, max_leaf_nodes=None,\n",
       "            min_impurity_decrease=0.0, min_impurity_split=None,\n",
       "            min_samples_leaf=1, min_samples_split=2,\n",
       "            min_weight_fraction_leaf=0.0, presort=False, random_state=None,\n",
       "            splitter='best')"
      ]
     },
     "execution_count": 25,
     "metadata": {},
     "output_type": "execute_result"
    }
   ],
   "source": [
    "# Fit it on the features and target\n",
    "clf.fit(X,y)"
   ]
  },
  {
   "cell_type": "code",
   "execution_count": 26,
   "metadata": {},
   "outputs": [
    {
     "name": "stdout",
     "output_type": "stream",
     "text": [
      "Collecting modelvis\n",
      "  Downloading https://files.pythonhosted.org/packages/2f/ff/81503051800949c7b06f85ccd170b9ca091017184147fb0e0624084738fe/modelvis-0.1.7-py3-none-any.whl\n",
      "Requirement already satisfied: matplotlib in d:\\python3\\lib\\site-packages (from modelvis) (2.2.3)\n",
      "Requirement already satisfied: numpy in d:\\python3\\lib\\site-packages (from modelvis) (1.15.1)\n",
      "Requirement already satisfied: scikit-learn in d:\\python3\\lib\\site-packages (from modelvis) (0.19.2)\n",
      "Requirement already satisfied: requests in d:\\python3\\lib\\site-packages (from modelvis) (2.19.1)\n",
      "Requirement already satisfied: pandas in d:\\python3\\lib\\site-packages (from modelvis) (0.23.4)\n",
      "Requirement already satisfied: seaborn in d:\\python3\\lib\\site-packages (from modelvis) (0.9.0)\n",
      "Requirement already satisfied: cycler>=0.10 in d:\\python3\\lib\\site-packages (from matplotlib->modelvis) (0.10.0)\n",
      "Requirement already satisfied: pyparsing!=2.0.4,!=2.1.2,!=2.1.6,>=2.0.1 in d:\\python3\\lib\\site-packages (from matplotlib->modelvis) (2.2.0)\n",
      "Requirement already satisfied: python-dateutil>=2.1 in d:\\python3\\lib\\site-packages (from matplotlib->modelvis) (2.7.3)\n",
      "Requirement already satisfied: pytz in d:\\python3\\lib\\site-packages (from matplotlib->modelvis) (2018.5)\n",
      "Requirement already satisfied: six>=1.10 in d:\\python3\\lib\\site-packages (from matplotlib->modelvis) (1.11.0)\n",
      "Requirement already satisfied: kiwisolver>=1.0.1 in d:\\python3\\lib\\site-packages (from matplotlib->modelvis) (1.0.1)\n",
      "Requirement already satisfied: idna<2.8,>=2.5 in d:\\python3\\lib\\site-packages (from requests->modelvis) (2.7)\n",
      "Requirement already satisfied: urllib3<1.24,>=1.21.1 in d:\\python3\\lib\\site-packages (from requests->modelvis) (1.23)\n",
      "Requirement already satisfied: certifi>=2017.4.17 in d:\\python3\\lib\\site-packages (from requests->modelvis) (2018.8.24)\n",
      "Requirement already satisfied: chardet<3.1.0,>=3.0.2 in d:\\python3\\lib\\site-packages (from requests->modelvis) (3.0.4)\n",
      "Requirement already satisfied: scipy>=0.14.0 in d:\\python3\\lib\\site-packages (from seaborn->modelvis) (1.1.0)\n",
      "Requirement already satisfied: setuptools in d:\\python3\\lib\\site-packages (from kiwisolver>=1.0.1->matplotlib->modelvis) (40.2.0)\n",
      "Installing collected packages: modelvis\n",
      "Successfully installed modelvis-0.1.7\n"
     ]
    },
    {
     "name": "stderr",
     "output_type": "stream",
     "text": [
      "twisted 18.7.0 requires PyHamcrest>=1.9.0, which is not installed.\n",
      "You are using pip version 10.0.1, however version 18.1 is available.\n",
      "You should consider upgrading via the 'python -m pip install --upgrade pip' command.\n"
     ]
    }
   ],
   "source": [
    "!pip install modelvis\n"
   ]
  },
  {
   "cell_type": "code",
   "execution_count": 28,
   "metadata": {},
   "outputs": [],
   "source": [
    "import modelvis"
   ]
  },
  {
   "cell_type": "code",
   "execution_count": 29,
   "metadata": {},
   "outputs": [
    {
     "data": {
      "image/svg+xml": [
       "<svg height=\"468pt\" viewBox=\"0.00 0.00 540.00 468.00\" width=\"540pt\" xmlns=\"http://www.w3.org/2000/svg\" xmlns:xlink=\"http://www.w3.org/1999/xlink\">\n",
       "<g class=\"graph\" id=\"graph0\" transform=\"scale(1 1) rotate(0) translate(4 464)\">\n",
       "<title>Tree</title>\n",
       "<polygon fill=\"white\" points=\"-4,4 -4,-464 536,-464 536,4 -4,4\" stroke=\"white\"/>\n",
       "<!-- 0 -->\n",
       "<g class=\"node\" id=\"node1\"><title>0</title>\n",
       "<path d=\"M249.288,-460C249.288,-460 142.712,-460 142.712,-460 136.712,-460 130.712,-454 130.712,-448 130.712,-448 130.712,-380 130.712,-380 130.712,-374 136.712,-368 142.712,-368 142.712,-368 249.288,-368 249.288,-368 255.288,-368 261.288,-374 261.288,-380 261.288,-380 261.288,-448 261.288,-448 261.288,-454 255.288,-460 249.288,-460\" fill=\"#e58139\" fill-opacity=\"0.164706\" stroke=\"black\"/>\n",
       "<text font-family=\"Helvetica,sans-Serif\" font-size=\"14.00\" text-anchor=\"start\" x=\"138.808\" y=\"-443.4\">Income ≤ 15000.0</text>\n",
       "<text font-family=\"Helvetica,sans-Serif\" font-size=\"14.00\" text-anchor=\"start\" x=\"159.622\" y=\"-426.6\">gini = 0.642</text>\n",
       "<text font-family=\"Helvetica,sans-Serif\" font-size=\"14.00\" text-anchor=\"start\" x=\"154.182\" y=\"-409.8\">samples = 18</text>\n",
       "<text font-family=\"Helvetica,sans-Serif\" font-size=\"14.00\" text-anchor=\"start\" x=\"147.949\" y=\"-393\">value = [8, 4, 6]</text>\n",
       "<text font-family=\"Helvetica,sans-Serif\" font-size=\"14.00\" text-anchor=\"start\" x=\"157.688\" y=\"-376.2\">class = High</text>\n",
       "</g>\n",
       "<!-- 1 -->\n",
       "<g class=\"node\" id=\"node2\"><title>1</title>\n",
       "<path d=\"M171.076,-323.7C171.076,-323.7 82.9238,-323.7 82.9238,-323.7 76.9238,-323.7 70.9238,-317.7 70.9238,-311.7 70.9238,-311.7 70.9238,-260.3 70.9238,-260.3 70.9238,-254.3 76.9238,-248.3 82.9238,-248.3 82.9238,-248.3 171.076,-248.3 171.076,-248.3 177.076,-248.3 183.076,-254.3 183.076,-260.3 183.076,-260.3 183.076,-311.7 183.076,-311.7 183.076,-317.7 177.076,-323.7 171.076,-323.7\" fill=\"#e58139\" stroke=\"black\"/>\n",
       "<text font-family=\"Helvetica,sans-Serif\" font-size=\"14.00\" text-anchor=\"start\" x=\"98.405\" y=\"-307\">gini = 0.0</text>\n",
       "<text font-family=\"Helvetica,sans-Serif\" font-size=\"14.00\" text-anchor=\"start\" x=\"89.0733\" y=\"-290.2\">samples = 6</text>\n",
       "<text font-family=\"Helvetica,sans-Serif\" font-size=\"14.00\" text-anchor=\"start\" x=\"78.9492\" y=\"-273.4\">value = [6, 0, 0]</text>\n",
       "<text font-family=\"Helvetica,sans-Serif\" font-size=\"14.00\" text-anchor=\"start\" x=\"88.6883\" y=\"-256.6\">class = High</text>\n",
       "</g>\n",
       "<!-- 0&#45;&gt;1 -->\n",
       "<g class=\"edge\" id=\"edge1\"><title>0-&gt;1</title>\n",
       "<path d=\"M171.284,-367.867C165.06,-356.5 158.372,-344.288 152.127,-332.885\" fill=\"none\" stroke=\"black\"/>\n",
       "<polygon fill=\"black\" points=\"155.105,-331.035 147.232,-323.945 148.965,-334.397 155.105,-331.035\" stroke=\"black\"/>\n",
       "<text font-family=\"Helvetica,sans-Serif\" font-size=\"14.00\" text-anchor=\"middle\" x=\"140.218\" y=\"-343.741\">True</text>\n",
       "</g>\n",
       "<!-- 2 -->\n",
       "<g class=\"node\" id=\"node3\"><title>2</title>\n",
       "<path d=\"M319.288,-332C319.288,-332 212.712,-332 212.712,-332 206.712,-332 200.712,-326 200.712,-320 200.712,-320 200.712,-252 200.712,-252 200.712,-246 206.712,-240 212.712,-240 212.712,-240 319.288,-240 319.288,-240 325.288,-240 331.288,-246 331.288,-252 331.288,-252 331.288,-320 331.288,-320 331.288,-326 325.288,-332 319.288,-332\" fill=\"#8139e5\" fill-opacity=\"0.250980\" stroke=\"black\"/>\n",
       "<text font-family=\"Helvetica,sans-Serif\" font-size=\"14.00\" text-anchor=\"start\" x=\"208.808\" y=\"-315.4\">Income ≤ 35000.0</text>\n",
       "<text font-family=\"Helvetica,sans-Serif\" font-size=\"14.00\" text-anchor=\"start\" x=\"229.622\" y=\"-298.6\">gini = 0.611</text>\n",
       "<text font-family=\"Helvetica,sans-Serif\" font-size=\"14.00\" text-anchor=\"start\" x=\"224.182\" y=\"-281.8\">samples = 12</text>\n",
       "<text font-family=\"Helvetica,sans-Serif\" font-size=\"14.00\" text-anchor=\"start\" x=\"217.949\" y=\"-265\">value = [2, 4, 6]</text>\n",
       "<text font-family=\"Helvetica,sans-Serif\" font-size=\"14.00\" text-anchor=\"start\" x=\"212.515\" y=\"-248.2\">class = Moderate</text>\n",
       "</g>\n",
       "<!-- 0&#45;&gt;2 -->\n",
       "<g class=\"edge\" id=\"edge2\"><title>0-&gt;2</title>\n",
       "<path d=\"M221.074,-367.867C225.899,-359.181 230.999,-350.002 235.963,-341.067\" fill=\"none\" stroke=\"black\"/>\n",
       "<polygon fill=\"black\" points=\"239.069,-342.683 240.866,-332.241 232.95,-339.283 239.069,-342.683\" stroke=\"black\"/>\n",
       "<text font-family=\"Helvetica,sans-Serif\" font-size=\"14.00\" text-anchor=\"middle\" x=\"247.734\" y=\"-352.079\">False</text>\n",
       "</g>\n",
       "<!-- 3 -->\n",
       "<g class=\"node\" id=\"node4\"><title>3</title>\n",
       "<path d=\"M245.092,-204C245.092,-204 130.908,-204 130.908,-204 124.908,-204 118.908,-198 118.908,-192 118.908,-192 118.908,-124 118.908,-124 118.908,-118 124.908,-112 130.908,-112 130.908,-112 245.092,-112 245.092,-112 251.092,-112 257.092,-118 257.092,-124 257.092,-124 257.092,-192 257.092,-192 257.092,-198 251.092,-204 245.092,-204\" fill=\"#8139e5\" fill-opacity=\"0.498039\" stroke=\"black\"/>\n",
       "<text font-family=\"Helvetica,sans-Serif\" font-size=\"14.00\" text-anchor=\"start\" x=\"126.939\" y=\"-187.4\">Credit History ≤ 0.5</text>\n",
       "<text font-family=\"Helvetica,sans-Serif\" font-size=\"14.00\" text-anchor=\"start\" x=\"151.622\" y=\"-170.6\">gini = 0.444</text>\n",
       "<text font-family=\"Helvetica,sans-Serif\" font-size=\"14.00\" text-anchor=\"start\" x=\"150.073\" y=\"-153.8\">samples = 6</text>\n",
       "<text font-family=\"Helvetica,sans-Serif\" font-size=\"14.00\" text-anchor=\"start\" x=\"139.949\" y=\"-137\">value = [2, 0, 4]</text>\n",
       "<text font-family=\"Helvetica,sans-Serif\" font-size=\"14.00\" text-anchor=\"start\" x=\"134.515\" y=\"-120.2\">class = Moderate</text>\n",
       "</g>\n",
       "<!-- 2&#45;&gt;3 -->\n",
       "<g class=\"edge\" id=\"edge3\"><title>2-&gt;3</title>\n",
       "<path d=\"M238.061,-239.867C232.628,-231.091 226.883,-221.811 221.297,-212.788\" fill=\"none\" stroke=\"black\"/>\n",
       "<polygon fill=\"black\" points=\"224.246,-210.902 216.007,-204.241 218.294,-214.586 224.246,-210.902\" stroke=\"black\"/>\n",
       "</g>\n",
       "<!-- 6 -->\n",
       "<g class=\"node\" id=\"node7\"><title>6</title>\n",
       "<path d=\"M401.092,-204C401.092,-204 286.908,-204 286.908,-204 280.908,-204 274.908,-198 274.908,-192 274.908,-192 274.908,-124 274.908,-124 274.908,-118 280.908,-112 286.908,-112 286.908,-112 401.092,-112 401.092,-112 407.092,-112 413.092,-118 413.092,-124 413.092,-124 413.092,-192 413.092,-192 413.092,-198 407.092,-204 401.092,-204\" fill=\"#39e581\" fill-opacity=\"0.498039\" stroke=\"black\"/>\n",
       "<text font-family=\"Helvetica,sans-Serif\" font-size=\"14.00\" text-anchor=\"start\" x=\"282.939\" y=\"-187.4\">Credit History ≤ 0.5</text>\n",
       "<text font-family=\"Helvetica,sans-Serif\" font-size=\"14.00\" text-anchor=\"start\" x=\"307.622\" y=\"-170.6\">gini = 0.444</text>\n",
       "<text font-family=\"Helvetica,sans-Serif\" font-size=\"14.00\" text-anchor=\"start\" x=\"306.073\" y=\"-153.8\">samples = 6</text>\n",
       "<text font-family=\"Helvetica,sans-Serif\" font-size=\"14.00\" text-anchor=\"start\" x=\"295.949\" y=\"-137\">value = [0, 4, 2]</text>\n",
       "<text font-family=\"Helvetica,sans-Serif\" font-size=\"14.00\" text-anchor=\"start\" x=\"307.242\" y=\"-120.2\">class = Low</text>\n",
       "</g>\n",
       "<!-- 2&#45;&gt;6 -->\n",
       "<g class=\"edge\" id=\"edge6\"><title>2-&gt;6</title>\n",
       "<path d=\"M293.939,-239.867C299.372,-231.091 305.117,-221.811 310.703,-212.788\" fill=\"none\" stroke=\"black\"/>\n",
       "<polygon fill=\"black\" points=\"313.706,-214.586 315.993,-204.241 307.754,-210.902 313.706,-214.586\" stroke=\"black\"/>\n",
       "</g>\n",
       "<!-- 4 -->\n",
       "<g class=\"node\" id=\"node5\"><title>4</title>\n",
       "<path d=\"M100.076,-75.7003C100.076,-75.7003 11.9238,-75.7003 11.9238,-75.7003 5.92378,-75.7003 -0.076223,-69.7003 -0.076223,-63.7003 -0.076223,-63.7003 -0.076223,-12.2997 -0.076223,-12.2997 -0.076223,-6.29973 5.92378,-0.299733 11.9238,-0.299733 11.9238,-0.299733 100.076,-0.299733 100.076,-0.299733 106.076,-0.299733 112.076,-6.29973 112.076,-12.2997 112.076,-12.2997 112.076,-63.7003 112.076,-63.7003 112.076,-69.7003 106.076,-75.7003 100.076,-75.7003\" fill=\"#e58139\" stroke=\"black\"/>\n",
       "<text font-family=\"Helvetica,sans-Serif\" font-size=\"14.00\" text-anchor=\"start\" x=\"27.405\" y=\"-59\">gini = 0.0</text>\n",
       "<text font-family=\"Helvetica,sans-Serif\" font-size=\"14.00\" text-anchor=\"start\" x=\"18.0733\" y=\"-42.2\">samples = 2</text>\n",
       "<text font-family=\"Helvetica,sans-Serif\" font-size=\"14.00\" text-anchor=\"start\" x=\"7.9492\" y=\"-25.4\">value = [2, 0, 0]</text>\n",
       "<text font-family=\"Helvetica,sans-Serif\" font-size=\"14.00\" text-anchor=\"start\" x=\"17.6883\" y=\"-8.6\">class = High</text>\n",
       "</g>\n",
       "<!-- 3&#45;&gt;4 -->\n",
       "<g class=\"edge\" id=\"edge4\"><title>3-&gt;4</title>\n",
       "<path d=\"M137.343,-111.716C126.695,-102.197 115.483,-92.1744 104.901,-82.7148\" fill=\"none\" stroke=\"black\"/>\n",
       "<polygon fill=\"black\" points=\"107.112,-79.9967 97.3243,-75.9414 102.447,-85.2155 107.112,-79.9967\" stroke=\"black\"/>\n",
       "</g>\n",
       "<!-- 5 -->\n",
       "<g class=\"node\" id=\"node6\"><title>5</title>\n",
       "<path d=\"M241.227,-75.7003C241.227,-75.7003 142.773,-75.7003 142.773,-75.7003 136.773,-75.7003 130.773,-69.7003 130.773,-63.7003 130.773,-63.7003 130.773,-12.2997 130.773,-12.2997 130.773,-6.29973 136.773,-0.299733 142.773,-0.299733 142.773,-0.299733 241.227,-0.299733 241.227,-0.299733 247.227,-0.299733 253.227,-6.29973 253.227,-12.2997 253.227,-12.2997 253.227,-63.7003 253.227,-63.7003 253.227,-69.7003 247.227,-75.7003 241.227,-75.7003\" fill=\"#8139e5\" stroke=\"black\"/>\n",
       "<text font-family=\"Helvetica,sans-Serif\" font-size=\"14.00\" text-anchor=\"start\" x=\"163.405\" y=\"-59\">gini = 0.0</text>\n",
       "<text font-family=\"Helvetica,sans-Serif\" font-size=\"14.00\" text-anchor=\"start\" x=\"154.073\" y=\"-42.2\">samples = 4</text>\n",
       "<text font-family=\"Helvetica,sans-Serif\" font-size=\"14.00\" text-anchor=\"start\" x=\"143.949\" y=\"-25.4\">value = [0, 0, 4]</text>\n",
       "<text font-family=\"Helvetica,sans-Serif\" font-size=\"14.00\" text-anchor=\"start\" x=\"138.515\" y=\"-8.6\">class = Moderate</text>\n",
       "</g>\n",
       "<!-- 3&#45;&gt;5 -->\n",
       "<g class=\"edge\" id=\"edge5\"><title>3-&gt;5</title>\n",
       "<path d=\"M189.535,-111.716C189.82,-103.306 190.119,-94.503 190.405,-86.0423\" fill=\"none\" stroke=\"black\"/>\n",
       "<polygon fill=\"black\" points=\"193.907,-86.0543 190.748,-75.9414 186.911,-85.8171 193.907,-86.0543\" stroke=\"black\"/>\n",
       "</g>\n",
       "<!-- 7 -->\n",
       "<g class=\"node\" id=\"node8\"><title>7</title>\n",
       "<path d=\"M389.227,-75.7003C389.227,-75.7003 290.773,-75.7003 290.773,-75.7003 284.773,-75.7003 278.773,-69.7003 278.773,-63.7003 278.773,-63.7003 278.773,-12.2997 278.773,-12.2997 278.773,-6.29973 284.773,-0.299733 290.773,-0.299733 290.773,-0.299733 389.227,-0.299733 389.227,-0.299733 395.227,-0.299733 401.227,-6.29973 401.227,-12.2997 401.227,-12.2997 401.227,-63.7003 401.227,-63.7003 401.227,-69.7003 395.227,-75.7003 389.227,-75.7003\" fill=\"#8139e5\" stroke=\"black\"/>\n",
       "<text font-family=\"Helvetica,sans-Serif\" font-size=\"14.00\" text-anchor=\"start\" x=\"311.405\" y=\"-59\">gini = 0.0</text>\n",
       "<text font-family=\"Helvetica,sans-Serif\" font-size=\"14.00\" text-anchor=\"start\" x=\"302.073\" y=\"-42.2\">samples = 2</text>\n",
       "<text font-family=\"Helvetica,sans-Serif\" font-size=\"14.00\" text-anchor=\"start\" x=\"291.949\" y=\"-25.4\">value = [0, 0, 2]</text>\n",
       "<text font-family=\"Helvetica,sans-Serif\" font-size=\"14.00\" text-anchor=\"start\" x=\"286.515\" y=\"-8.6\">class = Moderate</text>\n",
       "</g>\n",
       "<!-- 6&#45;&gt;7 -->\n",
       "<g class=\"edge\" id=\"edge7\"><title>6-&gt;7</title>\n",
       "<path d=\"M342.465,-111.716C342.18,-103.306 341.881,-94.503 341.595,-86.0423\" fill=\"none\" stroke=\"black\"/>\n",
       "<polygon fill=\"black\" points=\"345.089,-85.8171 341.252,-75.9414 338.093,-86.0543 345.089,-85.8171\" stroke=\"black\"/>\n",
       "</g>\n",
       "<!-- 8 -->\n",
       "<g class=\"node\" id=\"node9\"><title>8</title>\n",
       "<path d=\"M520.076,-75.7003C520.076,-75.7003 431.924,-75.7003 431.924,-75.7003 425.924,-75.7003 419.924,-69.7003 419.924,-63.7003 419.924,-63.7003 419.924,-12.2997 419.924,-12.2997 419.924,-6.29973 425.924,-0.299733 431.924,-0.299733 431.924,-0.299733 520.076,-0.299733 520.076,-0.299733 526.076,-0.299733 532.076,-6.29973 532.076,-12.2997 532.076,-12.2997 532.076,-63.7003 532.076,-63.7003 532.076,-69.7003 526.076,-75.7003 520.076,-75.7003\" fill=\"#39e581\" stroke=\"black\"/>\n",
       "<text font-family=\"Helvetica,sans-Serif\" font-size=\"14.00\" text-anchor=\"start\" x=\"447.405\" y=\"-59\">gini = 0.0</text>\n",
       "<text font-family=\"Helvetica,sans-Serif\" font-size=\"14.00\" text-anchor=\"start\" x=\"438.073\" y=\"-42.2\">samples = 4</text>\n",
       "<text font-family=\"Helvetica,sans-Serif\" font-size=\"14.00\" text-anchor=\"start\" x=\"427.949\" y=\"-25.4\">value = [0, 4, 0]</text>\n",
       "<text font-family=\"Helvetica,sans-Serif\" font-size=\"14.00\" text-anchor=\"start\" x=\"439.242\" y=\"-8.6\">class = Low</text>\n",
       "</g>\n",
       "<!-- 6&#45;&gt;8 -->\n",
       "<g class=\"edge\" id=\"edge8\"><title>6-&gt;8</title>\n",
       "<path d=\"M394.657,-111.716C405.305,-102.197 416.517,-92.1744 427.099,-82.7148\" fill=\"none\" stroke=\"black\"/>\n",
       "<polygon fill=\"black\" points=\"429.553,-85.2155 434.676,-75.9414 424.888,-79.9967 429.553,-85.2155\" stroke=\"black\"/>\n",
       "</g>\n",
       "</g>\n",
       "</svg>"
      ],
      "text/plain": [
       "<IPython.core.display.SVG object>"
      ]
     },
     "execution_count": 29,
     "metadata": {},
     "output_type": "execute_result"
    }
   ],
   "source": [
    "modelvis.render_tree(clf, feature_names=X.columns,\n",
    "                    class_names=['High', 'Low', 'Moderate'])"
   ]
  },
  {
   "cell_type": "code",
   "execution_count": 30,
   "metadata": {},
   "outputs": [
    {
     "name": "stdout",
     "output_type": "stream",
     "text": [
      "def predict(row):\n",
      "    \"\"\"Your decision-tree model wrote this code.\"\"\"\n",
      "    # 18 samples; value=[8, 4, 6]; class=0\n",
      "    if row[0] < 15000.0:\n",
      "        # 6 samples; value=[6, 0, 0]; class=0\n",
      "        return 0\n",
      "    else:\n",
      "        # 12 samples; value=[2, 4, 6]; class=2\n",
      "        if row[0] < 35000.0:\n",
      "            # 6 samples; value=[2, 0, 4]; class=2\n",
      "            if row[1] < 0.5:\n",
      "                # 2 samples; value=[2, 0, 0]; class=0\n",
      "                return 0\n",
      "            else:\n",
      "                # 4 samples; value=[0, 0, 4]; class=2\n",
      "                return 2\n",
      "        else:\n",
      "            # 6 samples; value=[0, 4, 2]; class=1\n",
      "            if row[1] < 0.5:\n",
      "                # 2 samples; value=[0, 0, 2]; class=2\n",
      "                return 2\n",
      "            else:\n",
      "                # 4 samples; value=[0, 4, 0]; class=1\n",
      "                return 1\n",
      "\n"
     ]
    }
   ],
   "source": [
    "modelvis.print_tree_as_code(clf)"
   ]
  },
  {
   "cell_type": "code",
   "execution_count": 31,
   "metadata": {},
   "outputs": [
    {
     "data": {
      "image/png": "[encoded data removed]",
      "text/plain": [
       "<Figure size 432x288 with 2 Axes>"
      ]
     },
     "metadata": {},
     "output_type": "display_data"
    }
   ],
   "source": [
    "modelvis.plot_decision_boundaries(clf, X, y,\n",
    "                                 feature_names=X.columns, show_input = True,\n",
    "                                 class_names=[\"High\", \"Low\", \"Moderate\"])"
   ]
  },
  {
   "cell_type": "code",
   "execution_count": 45,
   "metadata": {},
   "outputs": [],
   "source": [
    "y_true = y\n",
    "y_pred = clf.predict(X)"
   ]
  },
  {
   "cell_type": "code",
   "execution_count": 48,
   "metadata": {},
   "outputs": [],
   "source": [
    "from sklearn.metrics import accuracy_score"
   ]
  },
  {
   "cell_type": "code",
   "execution_count": 49,
   "metadata": {},
   "outputs": [
    {
     "data": {
      "text/plain": [
       "1.0"
      ]
     },
     "execution_count": 49,
     "metadata": {},
     "output_type": "execute_result"
    }
   ],
   "source": [
    "accuracy_score(y_true, y_pred)"
   ]
  },
  {
   "cell_type": "code",
   "execution_count": 40,
   "metadata": {},
   "outputs": [],
   "source": [
    "a = np.arange(-10, 10, 1)"
   ]
  },
  {
   "cell_type": "code",
   "execution_count": 41,
   "metadata": {},
   "outputs": [
    {
     "data": {
      "text/plain": [
       "array([-10,  -9,  -8,  -7,  -6,  -5,  -4,  -3,  -2,  -1,   0,   1,   2,\n",
       "         3,   4,   5,   6,   7,   8,   9])"
      ]
     },
     "execution_count": 41,
     "metadata": {},
     "output_type": "execute_result"
    }
   ],
   "source": [
    "a"
   ]
  },
  {
   "cell_type": "code",
   "execution_count": 42,
   "metadata": {},
   "outputs": [],
   "source": [
    "def logit(a):\n",
    "    b = 1/(1+ np.exp(-a))\n",
    "    return b"
   ]
  },
  {
   "cell_type": "code",
   "execution_count": 43,
   "metadata": {},
   "outputs": [],
   "source": [
    "b = logit(a)"
   ]
  },
  {
   "cell_type": "code",
   "execution_count": 44,
   "metadata": {},
   "outputs": [
    {
     "data": {
      "text/plain": [
       "[<matplotlib.lines.Line2D at 0x1c354e1ff60>]"
      ]
     },
     "execution_count": 44,
     "metadata": {},
     "output_type": "execute_result"
    },
    {
     "data": {
      "image/png": "[encoded data removed]",
      "text/plain": [
       "<Figure size 432x288 with 1 Axes>"
      ]
     },
     "metadata": {},
     "output_type": "display_data"
    }
   ],
   "source": [
    "plt.plot(a,b)"
   ]
  },
  {
   "cell_type": "code",
   "execution_count": 36,
   "metadata": {},
   "outputs": [
    {
     "data": {
      "text/plain": [
       "array([0, 0, 0, 0, 0, 0, 2, 0, 2, 2, 0, 2, 1, 2, 1, 1, 2, 1], dtype=int64)"
      ]
     },
     "execution_count": 36,
     "metadata": {},
     "output_type": "execute_result"
    }
   ],
   "source": [
    "y_pred"
   ]
  },
  {
   "cell_type": "code",
   "execution_count": 50,
   "metadata": {},
   "outputs": [],
   "source": [
    "from sklearn.linear_model import LogisticRegression"
   ]
  },
  {
   "cell_type": "code",
   "execution_count": 64,
   "metadata": {},
   "outputs": [],
   "source": [
    "lr = LogisticRegression(multi_class=\"ovr\", solver=\"liblinear\")"
   ]
  },
  {
   "cell_type": "code",
   "execution_count": 65,
   "metadata": {},
   "outputs": [
    {
     "data": {
      "text/plain": [
       "LogisticRegression(C=1.0, class_weight=None, dual=False, fit_intercept=True,\n",
       "          intercept_scaling=1, max_iter=100, multi_class='ovr', n_jobs=1,\n",
       "          penalty='l2', random_state=None, solver='liblinear', tol=0.0001,\n",
       "          verbose=0, warm_start=False)"
      ]
     },
     "execution_count": 65,
     "metadata": {},
     "output_type": "execute_result"
    }
   ],
   "source": [
    "lr"
   ]
  },
  {
   "cell_type": "code",
   "execution_count": 66,
   "metadata": {},
   "outputs": [],
   "source": [
    "y = df_encoded['Risk']"
   ]
  },
  {
   "cell_type": "code",
   "execution_count": 67,
   "metadata": {},
   "outputs": [
    {
     "data": {
      "text/plain": [
       "LogisticRegression(C=1.0, class_weight=None, dual=False, fit_intercept=True,\n",
       "          intercept_scaling=1, max_iter=100, multi_class='ovr', n_jobs=1,\n",
       "          penalty='l2', random_state=None, solver='liblinear', tol=0.0001,\n",
       "          verbose=0, warm_start=False)"
      ]
     },
     "execution_count": 67,
     "metadata": {},
     "output_type": "execute_result"
    }
   ],
   "source": [
    "lr.fit(X,y)"
   ]
  },
  {
   "cell_type": "code",
   "execution_count": 68,
   "metadata": {},
   "outputs": [],
   "source": [
    "y_true = y\n",
    "y_pred = lr.predict(X)"
   ]
  },
  {
   "cell_type": "code",
   "execution_count": 69,
   "metadata": {},
   "outputs": [
    {
     "data": {
      "text/plain": [
       "0.5555555555555556"
      ]
     },
     "execution_count": 69,
     "metadata": {},
     "output_type": "execute_result"
    }
   ],
   "source": [
    "accuracy_score(y_true, y_pred)"
   ]
  },
  {
   "cell_type": "code",
   "execution_count": 71,
   "metadata": {},
   "outputs": [],
   "source": [
    "# modelvis.plot_decision_boundaries(clf, X, y,\n",
    "#                                  feature_names=X.columns, show_input = True,\n",
    "#                                  class_names=[\"High\", \"Low\", \"Moderate\"])"
   ]
  },
  {
   "cell_type": "code",
   "execution_count": null,
   "metadata": {},
   "outputs": [],
   "source": []
  },
  {
   "cell_type": "code",
   "execution_count": null,
   "metadata": {},
   "outputs": [],
   "source": []
  }
 ],
 "metadata": {
  "kernelspec": {
   "display_name": "Python 3",
   "language": "python",
   "name": "python3"
  },
  "language_info": {
   "codemirror_mode": {
    "name": "ipython",
    "version": 3
   },
   "file_extension": ".py",
   "mimetype": "text/x-python",
   "name": "python",
   "nbconvert_exporter": "python",
   "pygments_lexer": "ipython3",
   "version": "3.7.0"
  }
 },
 "nbformat": 4,
 "nbformat_minor": 2
}
